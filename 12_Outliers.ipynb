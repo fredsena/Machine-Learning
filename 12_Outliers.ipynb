{
 "cells": [
  {
   "cell_type": "markdown",
   "id": "offshore-visibility",
   "metadata": {},
   "source": [
    "# Highlighting outliers / Compare feature magnitude"
   ]
  },
  {
   "cell_type": "code",
   "execution_count": 10,
   "id": "civil-advocacy",
   "metadata": {},
   "outputs": [],
   "source": [
    "import pandas as pd\n",
    "import numpy as np\n",
    "\n",
    "# for plotting\n",
    "import matplotlib.pyplot as plt\n",
    "import seaborn as sns\n",
    "\n",
    "# for the Q-Q plots\n",
    "import scipy.stats as stats\n",
    "\n",
    "import seaborn as sns\n",
    "\n",
    "%matplotlib inline\n",
    "\n",
    "pd.set_option('display.max_columns', None)\n",
    "pd.set_option('display.max_colwidth', None)"
   ]
  },
  {
   "cell_type": "code",
   "execution_count": 9,
   "id": "pharmaceutical-auditor",
   "metadata": {},
   "outputs": [
    {
     "data": {
      "text/html": [
       "<div>\n",
       "<style scoped>\n",
       "    .dataframe tbody tr th:only-of-type {\n",
       "        vertical-align: middle;\n",
       "    }\n",
       "\n",
       "    .dataframe tbody tr th {\n",
       "        vertical-align: top;\n",
       "    }\n",
       "\n",
       "    .dataframe thead th {\n",
       "        text-align: right;\n",
       "    }\n",
       "</style>\n",
       "<table border=\"1\" class=\"dataframe\">\n",
       "  <thead>\n",
       "    <tr style=\"text-align: right;\">\n",
       "      <th></th>\n",
       "      <th>RefId</th>\n",
       "      <th>IsBadBuy</th>\n",
       "      <th>PurchDate</th>\n",
       "      <th>Auction</th>\n",
       "      <th>VehYear</th>\n",
       "      <th>VehicleAge</th>\n",
       "      <th>Make</th>\n",
       "      <th>Model</th>\n",
       "      <th>Trim</th>\n",
       "      <th>SubModel</th>\n",
       "      <th>Color</th>\n",
       "      <th>Transmission</th>\n",
       "      <th>WheelTypeID</th>\n",
       "      <th>WheelType</th>\n",
       "      <th>VehOdo</th>\n",
       "      <th>Nationality</th>\n",
       "      <th>Size</th>\n",
       "      <th>TopThreeAmericanName</th>\n",
       "      <th>MMRAcquisitionAuctionAveragePrice</th>\n",
       "      <th>MMRAcquisitionAuctionCleanPrice</th>\n",
       "      <th>MMRAcquisitionRetailAveragePrice</th>\n",
       "      <th>MMRAcquisitonRetailCleanPrice</th>\n",
       "      <th>MMRCurrentAuctionAveragePrice</th>\n",
       "      <th>MMRCurrentAuctionCleanPrice</th>\n",
       "      <th>MMRCurrentRetailAveragePrice</th>\n",
       "      <th>MMRCurrentRetailCleanPrice</th>\n",
       "      <th>PRIMEUNIT</th>\n",
       "      <th>AUCGUART</th>\n",
       "      <th>BYRNO</th>\n",
       "      <th>VNZIP1</th>\n",
       "      <th>VNST</th>\n",
       "      <th>VehBCost</th>\n",
       "      <th>IsOnlineSale</th>\n",
       "      <th>WarrantyCost</th>\n",
       "    </tr>\n",
       "  </thead>\n",
       "  <tbody>\n",
       "    <tr>\n",
       "      <th>0</th>\n",
       "      <td>1</td>\n",
       "      <td>0</td>\n",
       "      <td>12/7/2009</td>\n",
       "      <td>ADESA</td>\n",
       "      <td>2006</td>\n",
       "      <td>3</td>\n",
       "      <td>MAZDA</td>\n",
       "      <td>MAZDA3</td>\n",
       "      <td>i</td>\n",
       "      <td>4D SEDAN I</td>\n",
       "      <td>RED</td>\n",
       "      <td>AUTO</td>\n",
       "      <td>1.0</td>\n",
       "      <td>Alloy</td>\n",
       "      <td>89046</td>\n",
       "      <td>OTHER ASIAN</td>\n",
       "      <td>MEDIUM</td>\n",
       "      <td>OTHER</td>\n",
       "      <td>8155.0</td>\n",
       "      <td>9829.0</td>\n",
       "      <td>11636.0</td>\n",
       "      <td>13600.0</td>\n",
       "      <td>7451.0</td>\n",
       "      <td>8552.0</td>\n",
       "      <td>11597.0</td>\n",
       "      <td>12409.0</td>\n",
       "      <td>NaN</td>\n",
       "      <td>NaN</td>\n",
       "      <td>21973</td>\n",
       "      <td>33619</td>\n",
       "      <td>FL</td>\n",
       "      <td>7100.0</td>\n",
       "      <td>0</td>\n",
       "      <td>1113</td>\n",
       "    </tr>\n",
       "    <tr>\n",
       "      <th>1</th>\n",
       "      <td>2</td>\n",
       "      <td>0</td>\n",
       "      <td>12/7/2009</td>\n",
       "      <td>ADESA</td>\n",
       "      <td>2004</td>\n",
       "      <td>5</td>\n",
       "      <td>DODGE</td>\n",
       "      <td>1500 RAM PICKUP 2WD</td>\n",
       "      <td>ST</td>\n",
       "      <td>QUAD CAB 4.7L SLT</td>\n",
       "      <td>WHITE</td>\n",
       "      <td>AUTO</td>\n",
       "      <td>1.0</td>\n",
       "      <td>Alloy</td>\n",
       "      <td>93593</td>\n",
       "      <td>AMERICAN</td>\n",
       "      <td>LARGE TRUCK</td>\n",
       "      <td>CHRYSLER</td>\n",
       "      <td>6854.0</td>\n",
       "      <td>8383.0</td>\n",
       "      <td>10897.0</td>\n",
       "      <td>12572.0</td>\n",
       "      <td>7456.0</td>\n",
       "      <td>9222.0</td>\n",
       "      <td>11374.0</td>\n",
       "      <td>12791.0</td>\n",
       "      <td>NaN</td>\n",
       "      <td>NaN</td>\n",
       "      <td>19638</td>\n",
       "      <td>33619</td>\n",
       "      <td>FL</td>\n",
       "      <td>7600.0</td>\n",
       "      <td>0</td>\n",
       "      <td>1053</td>\n",
       "    </tr>\n",
       "    <tr>\n",
       "      <th>2</th>\n",
       "      <td>5</td>\n",
       "      <td>0</td>\n",
       "      <td>12/7/2009</td>\n",
       "      <td>ADESA</td>\n",
       "      <td>2005</td>\n",
       "      <td>4</td>\n",
       "      <td>FORD</td>\n",
       "      <td>FOCUS</td>\n",
       "      <td>ZX3</td>\n",
       "      <td>2D COUPE ZX3</td>\n",
       "      <td>SILVER</td>\n",
       "      <td>MANUAL</td>\n",
       "      <td>2.0</td>\n",
       "      <td>Covers</td>\n",
       "      <td>69367</td>\n",
       "      <td>AMERICAN</td>\n",
       "      <td>COMPACT</td>\n",
       "      <td>FORD</td>\n",
       "      <td>3913.0</td>\n",
       "      <td>5054.0</td>\n",
       "      <td>7723.0</td>\n",
       "      <td>8707.0</td>\n",
       "      <td>3247.0</td>\n",
       "      <td>4384.0</td>\n",
       "      <td>6739.0</td>\n",
       "      <td>7911.0</td>\n",
       "      <td>NaN</td>\n",
       "      <td>NaN</td>\n",
       "      <td>19638</td>\n",
       "      <td>33619</td>\n",
       "      <td>FL</td>\n",
       "      <td>4000.0</td>\n",
       "      <td>0</td>\n",
       "      <td>1020</td>\n",
       "    </tr>\n",
       "    <tr>\n",
       "      <th>3</th>\n",
       "      <td>6</td>\n",
       "      <td>0</td>\n",
       "      <td>12/7/2009</td>\n",
       "      <td>ADESA</td>\n",
       "      <td>2004</td>\n",
       "      <td>5</td>\n",
       "      <td>MITSUBISHI</td>\n",
       "      <td>GALANT 4C</td>\n",
       "      <td>ES</td>\n",
       "      <td>4D SEDAN ES</td>\n",
       "      <td>WHITE</td>\n",
       "      <td>AUTO</td>\n",
       "      <td>2.0</td>\n",
       "      <td>Covers</td>\n",
       "      <td>81054</td>\n",
       "      <td>OTHER ASIAN</td>\n",
       "      <td>MEDIUM</td>\n",
       "      <td>OTHER</td>\n",
       "      <td>3901.0</td>\n",
       "      <td>4908.0</td>\n",
       "      <td>6706.0</td>\n",
       "      <td>8577.0</td>\n",
       "      <td>4709.0</td>\n",
       "      <td>5827.0</td>\n",
       "      <td>8149.0</td>\n",
       "      <td>9451.0</td>\n",
       "      <td>NaN</td>\n",
       "      <td>NaN</td>\n",
       "      <td>19638</td>\n",
       "      <td>33619</td>\n",
       "      <td>FL</td>\n",
       "      <td>5600.0</td>\n",
       "      <td>0</td>\n",
       "      <td>594</td>\n",
       "    </tr>\n",
       "    <tr>\n",
       "      <th>4</th>\n",
       "      <td>7</td>\n",
       "      <td>0</td>\n",
       "      <td>12/7/2009</td>\n",
       "      <td>ADESA</td>\n",
       "      <td>2004</td>\n",
       "      <td>5</td>\n",
       "      <td>KIA</td>\n",
       "      <td>SPECTRA</td>\n",
       "      <td>EX</td>\n",
       "      <td>4D SEDAN EX</td>\n",
       "      <td>BLACK</td>\n",
       "      <td>AUTO</td>\n",
       "      <td>2.0</td>\n",
       "      <td>Covers</td>\n",
       "      <td>65328</td>\n",
       "      <td>OTHER ASIAN</td>\n",
       "      <td>MEDIUM</td>\n",
       "      <td>OTHER</td>\n",
       "      <td>2966.0</td>\n",
       "      <td>4038.0</td>\n",
       "      <td>6240.0</td>\n",
       "      <td>8496.0</td>\n",
       "      <td>2980.0</td>\n",
       "      <td>4115.0</td>\n",
       "      <td>6230.0</td>\n",
       "      <td>8603.0</td>\n",
       "      <td>NaN</td>\n",
       "      <td>NaN</td>\n",
       "      <td>19638</td>\n",
       "      <td>33619</td>\n",
       "      <td>FL</td>\n",
       "      <td>4200.0</td>\n",
       "      <td>0</td>\n",
       "      <td>533</td>\n",
       "    </tr>\n",
       "  </tbody>\n",
       "</table>\n",
       "</div>"
      ],
      "text/plain": [
       "   RefId  IsBadBuy  PurchDate Auction  VehYear  VehicleAge        Make  \\\n",
       "0      1         0  12/7/2009   ADESA     2006           3       MAZDA   \n",
       "1      2         0  12/7/2009   ADESA     2004           5       DODGE   \n",
       "2      5         0  12/7/2009   ADESA     2005           4        FORD   \n",
       "3      6         0  12/7/2009   ADESA     2004           5  MITSUBISHI   \n",
       "4      7         0  12/7/2009   ADESA     2004           5         KIA   \n",
       "\n",
       "                 Model Trim           SubModel   Color Transmission  \\\n",
       "0               MAZDA3    i         4D SEDAN I     RED         AUTO   \n",
       "1  1500 RAM PICKUP 2WD   ST  QUAD CAB 4.7L SLT   WHITE         AUTO   \n",
       "2                FOCUS  ZX3       2D COUPE ZX3  SILVER       MANUAL   \n",
       "3            GALANT 4C   ES        4D SEDAN ES   WHITE         AUTO   \n",
       "4              SPECTRA   EX        4D SEDAN EX   BLACK         AUTO   \n",
       "\n",
       "   WheelTypeID WheelType  VehOdo  Nationality         Size  \\\n",
       "0          1.0     Alloy   89046  OTHER ASIAN       MEDIUM   \n",
       "1          1.0     Alloy   93593     AMERICAN  LARGE TRUCK   \n",
       "2          2.0    Covers   69367     AMERICAN      COMPACT   \n",
       "3          2.0    Covers   81054  OTHER ASIAN       MEDIUM   \n",
       "4          2.0    Covers   65328  OTHER ASIAN       MEDIUM   \n",
       "\n",
       "  TopThreeAmericanName  MMRAcquisitionAuctionAveragePrice  \\\n",
       "0                OTHER                             8155.0   \n",
       "1             CHRYSLER                             6854.0   \n",
       "2                 FORD                             3913.0   \n",
       "3                OTHER                             3901.0   \n",
       "4                OTHER                             2966.0   \n",
       "\n",
       "   MMRAcquisitionAuctionCleanPrice  MMRAcquisitionRetailAveragePrice  \\\n",
       "0                           9829.0                           11636.0   \n",
       "1                           8383.0                           10897.0   \n",
       "2                           5054.0                            7723.0   \n",
       "3                           4908.0                            6706.0   \n",
       "4                           4038.0                            6240.0   \n",
       "\n",
       "   MMRAcquisitonRetailCleanPrice  MMRCurrentAuctionAveragePrice  \\\n",
       "0                        13600.0                         7451.0   \n",
       "1                        12572.0                         7456.0   \n",
       "2                         8707.0                         3247.0   \n",
       "3                         8577.0                         4709.0   \n",
       "4                         8496.0                         2980.0   \n",
       "\n",
       "   MMRCurrentAuctionCleanPrice  MMRCurrentRetailAveragePrice  \\\n",
       "0                       8552.0                       11597.0   \n",
       "1                       9222.0                       11374.0   \n",
       "2                       4384.0                        6739.0   \n",
       "3                       5827.0                        8149.0   \n",
       "4                       4115.0                        6230.0   \n",
       "\n",
       "   MMRCurrentRetailCleanPrice PRIMEUNIT AUCGUART  BYRNO  VNZIP1 VNST  \\\n",
       "0                     12409.0       NaN      NaN  21973   33619   FL   \n",
       "1                     12791.0       NaN      NaN  19638   33619   FL   \n",
       "2                      7911.0       NaN      NaN  19638   33619   FL   \n",
       "3                      9451.0       NaN      NaN  19638   33619   FL   \n",
       "4                      8603.0       NaN      NaN  19638   33619   FL   \n",
       "\n",
       "   VehBCost  IsOnlineSale  WarrantyCost  \n",
       "0    7100.0             0          1113  \n",
       "1    7600.0             0          1053  \n",
       "2    4000.0             0          1020  \n",
       "3    5600.0             0           594  \n",
       "4    4200.0             0           533  "
      ]
     },
     "execution_count": 9,
     "metadata": {},
     "output_type": "execute_result"
    }
   ],
   "source": [
    "df_cars = pd.read_csv('data/used_vehicles.csv')\n",
    "df_cars.head()"
   ]
  },
  {
   "cell_type": "markdown",
   "id": "emerging-visibility",
   "metadata": {},
   "source": [
    "### Visualize the variable distribution with histograms:\n",
    "- create plots to distinguish the variable distributions in the entire dataset"
   ]
  },
  {
   "cell_type": "code",
   "execution_count": 7,
   "id": "prepared-ebony",
   "metadata": {},
   "outputs": [
    {
     "data": {
      "image/png": "[encoded data removed]",
      "text/plain": [
       "<Figure size 864x864 with 20 Axes>"
      ]
     },
     "metadata": {
      "needs_background": "light"
     },
     "output_type": "display_data"
    }
   ],
   "source": [
    "# normalize the histogram by setting density to True\n",
    "df_cars.hist(bins=30, figsize=(12,12), density=True)\n",
    "plt.show()"
   ]
  },
  {
   "cell_type": "markdown",
   "id": "dependent-talent",
   "metadata": {},
   "source": [
    "An `outlier` is a data point which is significantly different from the remaining data. It deviates so much from the other observations.\n",
    "\n",
    "Identify outliers using `boxplots` and the `inter-quantile range proximity` rule.\n",
    "\n",
    "According to the inter-quantile range proximity rule, a value is an outlier if it falls outside the below boundaries:\n",
    "\n",
    "- `Upper boundary` = 75th quantile + (IQR * 1.5)\n",
    "\n",
    "- `Lower boundary` = 25th quantile - (IQR * 1.5)\n",
    "\n",
    "where the inter-quantile range (IQR) is given by:\n",
    "\n",
    "- `IQR` = 75th quantile - 25th quantile"
   ]
  },
  {
   "cell_type": "markdown",
   "id": "electronic-equation",
   "metadata": {},
   "source": [
    "In the boxplot displayed below, the IQR is indicated by the box, the median is indicated by the line within the box, the top and bottom edges of the box correspond to the 75th and 25th quantile, and the whiskers  mark the proximity rule boundaries as described above. \n",
    "\n",
    "Values that `fall outside` the whiskers are considered outliers."
   ]
  },
  {
   "cell_type": "code",
   "execution_count": 11,
   "id": "suspended-arctic",
   "metadata": {},
   "outputs": [
    {
     "data": {
      "text/plain": [
       "Text(0.5, 1.0, 'Boxplot')"
      ]
     },
     "execution_count": 11,
     "metadata": {},
     "output_type": "execute_result"
    },
    {
     "data": {
      "image/png": "[encoded data removed]",
      "text/plain": [
       "<Figure size 216x432 with 1 Axes>"
      ]
     },
     "metadata": {
      "needs_background": "light"
     },
     "output_type": "display_data"
    }
   ],
   "source": [
    "# boxplot\n",
    "plt.figure(figsize=(3,6)) \n",
    "sns.boxplot(y=df_cars['VehOdo'])\n",
    "plt.title('Boxplot')"
   ]
  },
  {
   "cell_type": "markdown",
   "id": "identified-registration",
   "metadata": {},
   "source": [
    "> ### Find the upper and lower boundaries using the IQR proximity rule function"
   ]
  },
  {
   "cell_type": "code",
   "execution_count": 15,
   "id": "taken-aaron",
   "metadata": {},
   "outputs": [],
   "source": [
    "def find_boundaries(df, variable, distance):\n",
    "\n",
    "    # distance passed as an argument, gives us the option to\n",
    "    # estimate 1.5 times or 3 times the IQR to calculate the boundaries.\n",
    "    #it is also common practice to find extreme values by multiplying the IQR by 3\n",
    "    \n",
    "    IQR = df[variable].quantile(0.75) - df[variable].quantile(0.25)\n",
    "\n",
    "    lower_boundary = df[variable].quantile(0.25) - (IQR * distance)\n",
    "    upper_boundary = df[variable].quantile(0.75) + (IQR * distance)\n",
    "\n",
    "    return upper_boundary, lower_boundary"
   ]
  },
  {
   "cell_type": "code",
   "execution_count": 16,
   "id": "short-peripheral",
   "metadata": {},
   "outputs": [
    {
     "data": {
      "text/plain": [
       "(113394.875, 30949.875)"
      ]
     },
     "execution_count": 16,
     "metadata": {},
     "output_type": "execute_result"
    }
   ],
   "source": [
    "# find the boudaries for the variable VehOdo \n",
    "\n",
    "upper_boundary, lower_boundary = find_boundaries(df_cars, 'VehOdo', 1.5)\n",
    "upper_boundary, lower_boundary"
   ]
  },
  {
   "cell_type": "markdown",
   "id": "liked-camel",
   "metadata": {},
   "source": [
    "## NumPy's where() method\n",
    "\n",
    "Produces a `boolean vector` with `True` if the value was an outlier. \n",
    "\n",
    "The `where()` method scans the rows of the VehOdo variable, and if the value was bigger than the upper boundary, it assigned True.\n",
    "\n",
    "Whereas **if the value was smaller**, the `second where()` nested inside the first one and checked whether the value was smaller than the lower boundary, in which case it also assigned True, otherwise False ."
   ]
  },
  {
   "cell_type": "code",
   "execution_count": 23,
   "id": "animal-polyester",
   "metadata": {},
   "outputs": [
    {
     "data": {
      "text/plain": [
       "array([False, False, False, ..., False, False, False])"
      ]
     },
     "execution_count": 23,
     "metadata": {},
     "output_type": "execute_result"
    }
   ],
   "source": [
    "# flag the outliers in the data set\n",
    "outliers = np.where(df_cars['VehOdo'] > upper_boundary, True, np.where(df_cars['VehOdo'] < lower_boundary, True, False))\n",
    "\n",
    "outliers"
   ]
  },
  {
   "cell_type": "code",
   "execution_count": 24,
   "id": "impaired-laundry",
   "metadata": {},
   "outputs": [
    {
     "data": {
      "text/plain": [
       "235"
      ]
     },
     "execution_count": 24,
     "metadata": {},
     "output_type": "execute_result"
    }
   ],
   "source": [
    "# outliers found\n",
    "outliers.sum()"
   ]
  },
  {
   "cell_type": "code",
   "execution_count": 26,
   "id": "small-banking",
   "metadata": {},
   "outputs": [
    {
     "name": "stdout",
     "output_type": "stream",
     "text": [
      "(51088, 34)\n"
     ]
    },
    {
     "data": {
      "text/plain": [
       "86      23881\n",
       "282     25830\n",
       "834     10643\n",
       "837     22500\n",
       "1044    30471\n",
       "Name: VehOdo, dtype: int64"
      ]
     },
     "execution_count": 26,
     "metadata": {},
     "output_type": "execute_result"
    }
   ],
   "source": [
    "print(df_cars.shape)\n",
    "\n",
    "outliers_df = df_cars.loc[outliers, 'VehOdo']\n",
    "outliers_df.head()"
   ]
  },
  {
   "cell_type": "code",
   "execution_count": 27,
   "id": "instant-clinic",
   "metadata": {},
   "outputs": [
    {
     "data": {
      "text/plain": [
       "(50853,)"
      ]
     },
     "execution_count": 27,
     "metadata": {},
     "output_type": "execute_result"
    }
   ],
   "source": [
    "# Remove outliers\n",
    "tmp = df_cars.loc[~outliers, 'VehOdo']\n",
    "tmp.shape"
   ]
  },
  {
   "cell_type": "code",
   "execution_count": 32,
   "id": "guided-sector",
   "metadata": {},
   "outputs": [
    {
     "data": {
      "text/plain": [
       "Text(0.5, 1.0, 'Boxplot (VehOdo without outliers)')"
      ]
     },
     "execution_count": 32,
     "metadata": {},
     "output_type": "execute_result"
    },
    {
     "data": {
      "image/png": "[encoded data removed]",
      "text/plain": [
       "<Figure size 216x432 with 1 Axes>"
      ]
     },
     "metadata": {
      "needs_background": "light"
     },
     "output_type": "display_data"
    }
   ],
   "source": [
    "# boxplot\n",
    "plt.figure(figsize=(3,6))\n",
    "sns.boxplot(y=tmp)\n",
    "plt.title('Boxplot (VehOdo without outliers)')"
   ]
  },
  {
   "cell_type": "code",
   "execution_count": 34,
   "id": "greatest-enforcement",
   "metadata": {},
   "outputs": [
    {
     "data": {
      "text/plain": [
       "<AxesSubplot:xlabel='VehOdo', ylabel='Count'>"
      ]
     },
     "execution_count": 34,
     "metadata": {},
     "output_type": "execute_result"
    },
    {
     "data": {
      "image/png": "[encoded data removed]",
      "text/plain": [
       "<Figure size 432x288 with 1 Axes>"
      ]
     },
     "metadata": {
      "needs_background": "light"
     },
     "output_type": "display_data"
    }
   ],
   "source": [
    "# VehOdo without outliers\n",
    "sns.histplot(tmp, bins=30)"
   ]
  },
  {
   "cell_type": "code",
   "execution_count": 36,
   "id": "paperback-florist",
   "metadata": {},
   "outputs": [
    {
     "data": {
      "text/plain": [
       "<AxesSubplot:xlabel='VehOdo', ylabel='Count'>"
      ]
     },
     "execution_count": 36,
     "metadata": {},
     "output_type": "execute_result"
    },
    {
     "data": {
      "image/png": "[encoded data removed]",
      "text/plain": [
       "<Figure size 432x288 with 1 Axes>"
      ]
     },
     "metadata": {
      "needs_background": "light"
     },
     "output_type": "display_data"
    }
   ],
   "source": [
    "# VehOdo with outliers\n",
    "sns.histplot(df_cars['VehOdo'], bins=30)"
   ]
  },
  {
   "cell_type": "markdown",
   "id": "threatened-shelf",
   "metadata": {},
   "source": [
    "### Compare feature magnitude"
   ]
  },
  {
   "cell_type": "code",
   "execution_count": 49,
   "id": "prospective-society",
   "metadata": {},
   "outputs": [
    {
     "data": {
      "text/html": [
       "<div>\n",
       "<style scoped>\n",
       "    .dataframe tbody tr th:only-of-type {\n",
       "        vertical-align: middle;\n",
       "    }\n",
       "\n",
       "    .dataframe tbody tr th {\n",
       "        vertical-align: top;\n",
       "    }\n",
       "\n",
       "    .dataframe thead th {\n",
       "        text-align: right;\n",
       "    }\n",
       "</style>\n",
       "<table border=\"1\" class=\"dataframe\">\n",
       "  <thead>\n",
       "    <tr style=\"text-align: right;\">\n",
       "      <th></th>\n",
       "      <th>RefId</th>\n",
       "      <th>IsBadBuy</th>\n",
       "      <th>VehYear</th>\n",
       "      <th>VehicleAge</th>\n",
       "      <th>WheelTypeID</th>\n",
       "      <th>VehOdo</th>\n",
       "      <th>MMRAcquisitionAuctionAveragePrice</th>\n",
       "      <th>MMRAcquisitionAuctionCleanPrice</th>\n",
       "      <th>MMRAcquisitionRetailAveragePrice</th>\n",
       "      <th>MMRAcquisitonRetailCleanPrice</th>\n",
       "      <th>MMRCurrentAuctionAveragePrice</th>\n",
       "      <th>MMRCurrentAuctionCleanPrice</th>\n",
       "      <th>MMRCurrentRetailAveragePrice</th>\n",
       "      <th>MMRCurrentRetailCleanPrice</th>\n",
       "      <th>BYRNO</th>\n",
       "      <th>VNZIP1</th>\n",
       "      <th>VehBCost</th>\n",
       "      <th>IsOnlineSale</th>\n",
       "      <th>WarrantyCost</th>\n",
       "    </tr>\n",
       "  </thead>\n",
       "  <tbody>\n",
       "    <tr>\n",
       "      <th>count</th>\n",
       "      <td>51088.000000</td>\n",
       "      <td>51088.000000</td>\n",
       "      <td>51088.000000</td>\n",
       "      <td>51088.000000</td>\n",
       "      <td>48819.000000</td>\n",
       "      <td>51088.000000</td>\n",
       "      <td>51076.000000</td>\n",
       "      <td>51076.000000</td>\n",
       "      <td>51076.000000</td>\n",
       "      <td>51076.000000</td>\n",
       "      <td>50872.000000</td>\n",
       "      <td>50872.000000</td>\n",
       "      <td>50872.000000</td>\n",
       "      <td>50872.000000</td>\n",
       "      <td>51088.000000</td>\n",
       "      <td>51088.000000</td>\n",
       "      <td>51088.000000</td>\n",
       "      <td>51088.000000</td>\n",
       "      <td>51088.000000</td>\n",
       "    </tr>\n",
       "    <tr>\n",
       "      <th>mean</th>\n",
       "      <td>36618.299503</td>\n",
       "      <td>0.123101</td>\n",
       "      <td>2005.345893</td>\n",
       "      <td>4.172780</td>\n",
       "      <td>1.494992</td>\n",
       "      <td>71550.864880</td>\n",
       "      <td>6130.263999</td>\n",
       "      <td>7376.365671</td>\n",
       "      <td>8497.024434</td>\n",
       "      <td>9853.113086</td>\n",
       "      <td>6135.332934</td>\n",
       "      <td>7394.514251</td>\n",
       "      <td>8776.393262</td>\n",
       "      <td>10146.978357</td>\n",
       "      <td>26376.254913</td>\n",
       "      <td>58154.511764</td>\n",
       "      <td>6728.222272</td>\n",
       "      <td>0.025035</td>\n",
       "      <td>1276.712320</td>\n",
       "    </tr>\n",
       "    <tr>\n",
       "      <th>std</th>\n",
       "      <td>21047.637595</td>\n",
       "      <td>0.328557</td>\n",
       "      <td>1.727976</td>\n",
       "      <td>1.709315</td>\n",
       "      <td>0.521792</td>\n",
       "      <td>14610.426618</td>\n",
       "      <td>2461.426275</td>\n",
       "      <td>2721.803428</td>\n",
       "      <td>3155.655885</td>\n",
       "      <td>3385.328527</td>\n",
       "      <td>2432.202199</td>\n",
       "      <td>2682.701099</td>\n",
       "      <td>3087.064877</td>\n",
       "      <td>3305.865439</td>\n",
       "      <td>25727.370369</td>\n",
       "      <td>26148.295399</td>\n",
       "      <td>1768.991083</td>\n",
       "      <td>0.156234</td>\n",
       "      <td>600.140901</td>\n",
       "    </tr>\n",
       "    <tr>\n",
       "      <th>min</th>\n",
       "      <td>1.000000</td>\n",
       "      <td>0.000000</td>\n",
       "      <td>2001.000000</td>\n",
       "      <td>0.000000</td>\n",
       "      <td>0.000000</td>\n",
       "      <td>5368.000000</td>\n",
       "      <td>0.000000</td>\n",
       "      <td>0.000000</td>\n",
       "      <td>0.000000</td>\n",
       "      <td>0.000000</td>\n",
       "      <td>0.000000</td>\n",
       "      <td>0.000000</td>\n",
       "      <td>0.000000</td>\n",
       "      <td>0.000000</td>\n",
       "      <td>835.000000</td>\n",
       "      <td>2764.000000</td>\n",
       "      <td>1.000000</td>\n",
       "      <td>0.000000</td>\n",
       "      <td>462.000000</td>\n",
       "    </tr>\n",
       "    <tr>\n",
       "      <th>25%</th>\n",
       "      <td>18479.250000</td>\n",
       "      <td>0.000000</td>\n",
       "      <td>2004.000000</td>\n",
       "      <td>3.000000</td>\n",
       "      <td>1.000000</td>\n",
       "      <td>61866.750000</td>\n",
       "      <td>4273.000000</td>\n",
       "      <td>5406.000000</td>\n",
       "      <td>6268.000000</td>\n",
       "      <td>7483.000000</td>\n",
       "      <td>4279.000000</td>\n",
       "      <td>5415.000000</td>\n",
       "      <td>6533.000000</td>\n",
       "      <td>7781.000000</td>\n",
       "      <td>17212.000000</td>\n",
       "      <td>32124.000000</td>\n",
       "      <td>5425.000000</td>\n",
       "      <td>0.000000</td>\n",
       "      <td>837.000000</td>\n",
       "    </tr>\n",
       "    <tr>\n",
       "      <th>50%</th>\n",
       "      <td>36685.000000</td>\n",
       "      <td>0.000000</td>\n",
       "      <td>2005.000000</td>\n",
       "      <td>4.000000</td>\n",
       "      <td>1.000000</td>\n",
       "      <td>73434.500000</td>\n",
       "      <td>6099.500000</td>\n",
       "      <td>7306.500000</td>\n",
       "      <td>8435.500000</td>\n",
       "      <td>9772.000000</td>\n",
       "      <td>6063.000000</td>\n",
       "      <td>7308.000000</td>\n",
       "      <td>8715.000000</td>\n",
       "      <td>10099.500000</td>\n",
       "      <td>19662.000000</td>\n",
       "      <td>74135.000000</td>\n",
       "      <td>6700.000000</td>\n",
       "      <td>0.000000</td>\n",
       "      <td>1169.000000</td>\n",
       "    </tr>\n",
       "    <tr>\n",
       "      <th>75%</th>\n",
       "      <td>54851.500000</td>\n",
       "      <td>0.000000</td>\n",
       "      <td>2007.000000</td>\n",
       "      <td>5.000000</td>\n",
       "      <td>2.000000</td>\n",
       "      <td>82478.000000</td>\n",
       "      <td>7768.000000</td>\n",
       "      <td>9027.000000</td>\n",
       "      <td>10648.000000</td>\n",
       "      <td>12088.000000</td>\n",
       "      <td>7743.000000</td>\n",
       "      <td>9018.000000</td>\n",
       "      <td>10915.000000</td>\n",
       "      <td>12309.000000</td>\n",
       "      <td>22808.000000</td>\n",
       "      <td>80022.000000</td>\n",
       "      <td>7900.000000</td>\n",
       "      <td>0.000000</td>\n",
       "      <td>1623.000000</td>\n",
       "    </tr>\n",
       "    <tr>\n",
       "      <th>max</th>\n",
       "      <td>73013.000000</td>\n",
       "      <td>1.000000</td>\n",
       "      <td>2010.000000</td>\n",
       "      <td>9.000000</td>\n",
       "      <td>3.000000</td>\n",
       "      <td>115717.000000</td>\n",
       "      <td>35722.000000</td>\n",
       "      <td>36859.000000</td>\n",
       "      <td>39080.000000</td>\n",
       "      <td>41482.000000</td>\n",
       "      <td>35722.000000</td>\n",
       "      <td>36859.000000</td>\n",
       "      <td>39080.000000</td>\n",
       "      <td>41062.000000</td>\n",
       "      <td>99761.000000</td>\n",
       "      <td>99224.000000</td>\n",
       "      <td>38785.000000</td>\n",
       "      <td>1.000000</td>\n",
       "      <td>7498.000000</td>\n",
       "    </tr>\n",
       "  </tbody>\n",
       "</table>\n",
       "</div>"
      ],
      "text/plain": [
       "              RefId      IsBadBuy       VehYear    VehicleAge   WheelTypeID  \\\n",
       "count  51088.000000  51088.000000  51088.000000  51088.000000  48819.000000   \n",
       "mean   36618.299503      0.123101   2005.345893      4.172780      1.494992   \n",
       "std    21047.637595      0.328557      1.727976      1.709315      0.521792   \n",
       "min        1.000000      0.000000   2001.000000      0.000000      0.000000   \n",
       "25%    18479.250000      0.000000   2004.000000      3.000000      1.000000   \n",
       "50%    36685.000000      0.000000   2005.000000      4.000000      1.000000   \n",
       "75%    54851.500000      0.000000   2007.000000      5.000000      2.000000   \n",
       "max    73013.000000      1.000000   2010.000000      9.000000      3.000000   \n",
       "\n",
       "              VehOdo  MMRAcquisitionAuctionAveragePrice  \\\n",
       "count   51088.000000                       51076.000000   \n",
       "mean    71550.864880                        6130.263999   \n",
       "std     14610.426618                        2461.426275   \n",
       "min      5368.000000                           0.000000   \n",
       "25%     61866.750000                        4273.000000   \n",
       "50%     73434.500000                        6099.500000   \n",
       "75%     82478.000000                        7768.000000   \n",
       "max    115717.000000                       35722.000000   \n",
       "\n",
       "       MMRAcquisitionAuctionCleanPrice  MMRAcquisitionRetailAveragePrice  \\\n",
       "count                     51076.000000                      51076.000000   \n",
       "mean                       7376.365671                       8497.024434   \n",
       "std                        2721.803428                       3155.655885   \n",
       "min                           0.000000                          0.000000   \n",
       "25%                        5406.000000                       6268.000000   \n",
       "50%                        7306.500000                       8435.500000   \n",
       "75%                        9027.000000                      10648.000000   \n",
       "max                       36859.000000                      39080.000000   \n",
       "\n",
       "       MMRAcquisitonRetailCleanPrice  MMRCurrentAuctionAveragePrice  \\\n",
       "count                   51076.000000                   50872.000000   \n",
       "mean                     9853.113086                    6135.332934   \n",
       "std                      3385.328527                    2432.202199   \n",
       "min                         0.000000                       0.000000   \n",
       "25%                      7483.000000                    4279.000000   \n",
       "50%                      9772.000000                    6063.000000   \n",
       "75%                     12088.000000                    7743.000000   \n",
       "max                     41482.000000                   35722.000000   \n",
       "\n",
       "       MMRCurrentAuctionCleanPrice  MMRCurrentRetailAveragePrice  \\\n",
       "count                 50872.000000                  50872.000000   \n",
       "mean                   7394.514251                   8776.393262   \n",
       "std                    2682.701099                   3087.064877   \n",
       "min                       0.000000                      0.000000   \n",
       "25%                    5415.000000                   6533.000000   \n",
       "50%                    7308.000000                   8715.000000   \n",
       "75%                    9018.000000                  10915.000000   \n",
       "max                   36859.000000                  39080.000000   \n",
       "\n",
       "       MMRCurrentRetailCleanPrice         BYRNO        VNZIP1      VehBCost  \\\n",
       "count                50872.000000  51088.000000  51088.000000  51088.000000   \n",
       "mean                 10146.978357  26376.254913  58154.511764   6728.222272   \n",
       "std                   3305.865439  25727.370369  26148.295399   1768.991083   \n",
       "min                      0.000000    835.000000   2764.000000      1.000000   \n",
       "25%                   7781.000000  17212.000000  32124.000000   5425.000000   \n",
       "50%                  10099.500000  19662.000000  74135.000000   6700.000000   \n",
       "75%                  12309.000000  22808.000000  80022.000000   7900.000000   \n",
       "max                  41062.000000  99761.000000  99224.000000  38785.000000   \n",
       "\n",
       "       IsOnlineSale  WarrantyCost  \n",
       "count  51088.000000  51088.000000  \n",
       "mean       0.025035   1276.712320  \n",
       "std        0.156234    600.140901  \n",
       "min        0.000000    462.000000  \n",
       "25%        0.000000    837.000000  \n",
       "50%        0.000000   1169.000000  \n",
       "75%        0.000000   1623.000000  \n",
       "max        1.000000   7498.000000  "
      ]
     },
     "execution_count": 49,
     "metadata": {},
     "output_type": "execute_result"
    }
   ],
   "source": [
    "df_cars.describe()"
   ]
  },
  {
   "cell_type": "code",
   "execution_count": 60,
   "id": "seasonal-richmond",
   "metadata": {},
   "outputs": [
    {
     "data": {
      "text/plain": [
       "Index(['RefId', 'IsBadBuy', 'PurchDate', 'Auction', 'VehYear', 'VehicleAge',\n",
       "       'Make', 'Model', 'Trim', 'SubModel', 'Color', 'Transmission',\n",
       "       'WheelTypeID', 'WheelType', 'VehOdo', 'Nationality', 'Size',\n",
       "       'TopThreeAmericanName', 'MMRAcquisitionAuctionAveragePrice',\n",
       "       'MMRAcquisitionAuctionCleanPrice', 'MMRAcquisitionRetailAveragePrice',\n",
       "       'MMRAcquisitonRetailCleanPrice', 'MMRCurrentAuctionAveragePrice',\n",
       "       'MMRCurrentAuctionCleanPrice', 'MMRCurrentRetailAveragePrice',\n",
       "       'MMRCurrentRetailCleanPrice', 'PRIMEUNIT', 'AUCGUART', 'BYRNO',\n",
       "       'VNZIP1', 'VNST', 'VehBCost', 'IsOnlineSale', 'WarrantyCost'],\n",
       "      dtype='object')"
      ]
     },
     "execution_count": 60,
     "metadata": {},
     "output_type": "execute_result"
    }
   ],
   "source": [
    "df_cars.columns"
   ]
  },
  {
   "cell_type": "code",
   "execution_count": 69,
   "id": "altered-spring",
   "metadata": {},
   "outputs": [
    {
     "data": {
      "text/plain": [
       "VehYear                              2010.0\n",
       "VehicleAge                              9.0\n",
       "MMRAcquisitionAuctionCleanPrice     36859.0\n",
       "MMRAcquisitionRetailAveragePrice    39080.0\n",
       "MMRAcquisitonRetailCleanPrice       41482.0\n",
       "MMRCurrentAuctionAveragePrice       35722.0\n",
       "MMRCurrentAuctionCleanPrice         36859.0\n",
       "MMRCurrentRetailAveragePrice        39080.0\n",
       "MMRCurrentRetailCleanPrice          41062.0\n",
       "VehBCost                            38785.0\n",
       "dtype: float64"
      ]
     },
     "execution_count": 69,
     "metadata": {},
     "output_type": "execute_result"
    }
   ],
   "source": [
    "\n",
    "columns = ['VehYear', 'VehicleAge', 'MMRAcquisitionAuctionCleanPrice', 'MMRAcquisitionRetailAveragePrice',\n",
    "       'MMRAcquisitonRetailCleanPrice', 'MMRCurrentAuctionAveragePrice',\n",
    "       'MMRCurrentAuctionCleanPrice', 'MMRCurrentRetailAveragePrice',\n",
    "       'MMRCurrentRetailCleanPrice','VehBCost']\n",
    "\n",
    "\n",
    "result1 = df_cars[columns].max()\n",
    "\n",
    "result1\n"
   ]
  },
  {
   "cell_type": "code",
   "execution_count": 70,
   "id": "solved-uzbekistan",
   "metadata": {},
   "outputs": [
    {
     "data": {
      "text/plain": [
       "VehYear                             2001.0\n",
       "VehicleAge                             0.0\n",
       "MMRAcquisitionAuctionCleanPrice        0.0\n",
       "MMRAcquisitionRetailAveragePrice       0.0\n",
       "MMRAcquisitonRetailCleanPrice          0.0\n",
       "MMRCurrentAuctionAveragePrice          0.0\n",
       "MMRCurrentAuctionCleanPrice            0.0\n",
       "MMRCurrentRetailAveragePrice           0.0\n",
       "MMRCurrentRetailCleanPrice             0.0\n",
       "VehBCost                               1.0\n",
       "dtype: float64"
      ]
     },
     "execution_count": 70,
     "metadata": {},
     "output_type": "execute_result"
    }
   ],
   "source": [
    "result2 = df_cars[columns].min()\n",
    "\n",
    "result2"
   ]
  },
  {
   "cell_type": "code",
   "execution_count": 71,
   "id": "vital-thong",
   "metadata": {},
   "outputs": [
    {
     "data": {
      "text/plain": [
       "VehYear                                 9.0\n",
       "VehicleAge                              9.0\n",
       "MMRAcquisitionAuctionCleanPrice     36859.0\n",
       "MMRAcquisitionRetailAveragePrice    39080.0\n",
       "MMRAcquisitonRetailCleanPrice       41482.0\n",
       "MMRCurrentAuctionAveragePrice       35722.0\n",
       "MMRCurrentAuctionCleanPrice         36859.0\n",
       "MMRCurrentRetailAveragePrice        39080.0\n",
       "MMRCurrentRetailCleanPrice          41062.0\n",
       "VehBCost                            38784.0\n",
       "dtype: float64"
      ]
     },
     "execution_count": 71,
     "metadata": {},
     "output_type": "execute_result"
    }
   ],
   "source": [
    "res = result1 - result2\n",
    "res"
   ]
  },
  {
   "cell_type": "code",
   "execution_count": null,
   "id": "appointed-georgia",
   "metadata": {},
   "outputs": [],
   "source": []
  }
 ],
 "metadata": {
  "kernelspec": {
   "display_name": "Python 3",
   "language": "python",
   "name": "python3"
  },
  "language_info": {
   "codemirror_mode": {
    "name": "ipython",
    "version": 3
   },
   "file_extension": ".py",
   "mimetype": "text/x-python",
   "name": "python",
   "nbconvert_exporter": "python",
   "pygments_lexer": "ipython3",
   "version": "3.9.2"
  }
 },
 "nbformat": 4,
 "nbformat_minor": 5
}
