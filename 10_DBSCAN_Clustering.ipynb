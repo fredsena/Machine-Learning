{
 "cells": [
  {
   "cell_type": "markdown",
   "id": "international-differential",
   "metadata": {},
   "source": [
    "# DBSCAN - Density Based Spatial Clustering of Applications with Noise"
   ]
  },
  {
   "cell_type": "code",
   "execution_count": 15,
   "id": "subtle-outline",
   "metadata": {},
   "outputs": [],
   "source": [
    "import numpy as np \n",
    "import pandas as pd\n",
    "from scipy import ndimage \n",
    "from scipy.cluster import hierarchy \n",
    "from scipy.spatial import distance_matrix \n",
    "from matplotlib import pyplot as plt \n",
    "from sklearn import manifold, datasets \n",
    "from sklearn.cluster import AgglomerativeClustering \n",
    "\n",
    "from sklearn.cluster import DBSCAN\n",
    "from sklearn.preprocessing import StandardScaler\n",
    "from sklearn import metrics\n",
    "\n",
    "%matplotlib inline"
   ]
  },
  {
   "cell_type": "code",
   "execution_count": 8,
   "id": "located-employee",
   "metadata": {},
   "outputs": [],
   "source": [
    "pd.set_option('display.max_rows', None)\n",
    "pd.set_option('display.max_columns', None)"
   ]
  },
  {
   "cell_type": "code",
   "execution_count": 17,
   "id": "supreme-relationship",
   "metadata": {},
   "outputs": [
    {
     "data": {
      "text/html": [
       "<div>\n",
       "<style scoped>\n",
       "    .dataframe tbody tr th:only-of-type {\n",
       "        vertical-align: middle;\n",
       "    }\n",
       "\n",
       "    .dataframe tbody tr th {\n",
       "        vertical-align: top;\n",
       "    }\n",
       "\n",
       "    .dataframe thead th {\n",
       "        text-align: right;\n",
       "    }\n",
       "</style>\n",
       "<table border=\"1\" class=\"dataframe\">\n",
       "  <thead>\n",
       "    <tr style=\"text-align: right;\">\n",
       "      <th></th>\n",
       "      <th>Unnamed: 0</th>\n",
       "      <th>Region</th>\n",
       "      <th>Region_code</th>\n",
       "      <th>price_period</th>\n",
       "      <th>price_period_code</th>\n",
       "      <th>price</th>\n",
       "      <th>number_bathrooms</th>\n",
       "      <th>number_bedrooms</th>\n",
       "      <th>Parking</th>\n",
       "      <th>Central Heating</th>\n",
       "      <th>Washing Machine</th>\n",
       "      <th>Dryer</th>\n",
       "      <th>Dishwasher</th>\n",
       "      <th>Microwave</th>\n",
       "      <th>Pets Allowed</th>\n",
       "      <th>Wheelchair Access</th>\n",
       "      <th>Garden / Patio / Balcony</th>\n",
       "      <th>Serviced Property</th>\n",
       "    </tr>\n",
       "  </thead>\n",
       "  <tbody>\n",
       "    <tr>\n",
       "      <th>0</th>\n",
       "      <td>0</td>\n",
       "      <td>Dublin 2</td>\n",
       "      <td>8</td>\n",
       "      <td>month</td>\n",
       "      <td>0</td>\n",
       "      <td>2970</td>\n",
       "      <td>2</td>\n",
       "      <td>2</td>\n",
       "      <td>1</td>\n",
       "      <td>1</td>\n",
       "      <td>1</td>\n",
       "      <td>1</td>\n",
       "      <td>1</td>\n",
       "      <td>1</td>\n",
       "      <td>1</td>\n",
       "      <td>1</td>\n",
       "      <td>1</td>\n",
       "      <td>1</td>\n",
       "    </tr>\n",
       "    <tr>\n",
       "      <th>1</th>\n",
       "      <td>1</td>\n",
       "      <td>Dublin 2</td>\n",
       "      <td>8</td>\n",
       "      <td>month</td>\n",
       "      <td>0</td>\n",
       "      <td>3690</td>\n",
       "      <td>2</td>\n",
       "      <td>3</td>\n",
       "      <td>1</td>\n",
       "      <td>1</td>\n",
       "      <td>1</td>\n",
       "      <td>1</td>\n",
       "      <td>1</td>\n",
       "      <td>1</td>\n",
       "      <td>1</td>\n",
       "      <td>1</td>\n",
       "      <td>1</td>\n",
       "      <td>1</td>\n",
       "    </tr>\n",
       "    <tr>\n",
       "      <th>2</th>\n",
       "      <td>2</td>\n",
       "      <td>Dublin 2</td>\n",
       "      <td>8</td>\n",
       "      <td>month</td>\n",
       "      <td>0</td>\n",
       "      <td>4000</td>\n",
       "      <td>2</td>\n",
       "      <td>2</td>\n",
       "      <td>1</td>\n",
       "      <td>1</td>\n",
       "      <td>1</td>\n",
       "      <td>1</td>\n",
       "      <td>1</td>\n",
       "      <td>1</td>\n",
       "      <td>1</td>\n",
       "      <td>1</td>\n",
       "      <td>1</td>\n",
       "      <td>1</td>\n",
       "    </tr>\n",
       "    <tr>\n",
       "      <th>3</th>\n",
       "      <td>3</td>\n",
       "      <td>Dublin 1</td>\n",
       "      <td>0</td>\n",
       "      <td>month</td>\n",
       "      <td>0</td>\n",
       "      <td>2300</td>\n",
       "      <td>1</td>\n",
       "      <td>1</td>\n",
       "      <td>1</td>\n",
       "      <td>1</td>\n",
       "      <td>1</td>\n",
       "      <td>1</td>\n",
       "      <td>1</td>\n",
       "      <td>1</td>\n",
       "      <td>1</td>\n",
       "      <td>1</td>\n",
       "      <td>1</td>\n",
       "      <td>0</td>\n",
       "    </tr>\n",
       "    <tr>\n",
       "      <th>4</th>\n",
       "      <td>4</td>\n",
       "      <td>Dublin 1</td>\n",
       "      <td>0</td>\n",
       "      <td>month</td>\n",
       "      <td>0</td>\n",
       "      <td>2430</td>\n",
       "      <td>1</td>\n",
       "      <td>1</td>\n",
       "      <td>1</td>\n",
       "      <td>1</td>\n",
       "      <td>1</td>\n",
       "      <td>1</td>\n",
       "      <td>1</td>\n",
       "      <td>1</td>\n",
       "      <td>1</td>\n",
       "      <td>1</td>\n",
       "      <td>1</td>\n",
       "      <td>0</td>\n",
       "    </tr>\n",
       "  </tbody>\n",
       "</table>\n",
       "</div>"
      ],
      "text/plain": [
       "   Unnamed: 0    Region  Region_code price_period  price_period_code  price  \\\n",
       "0           0  Dublin 2            8        month                  0   2970   \n",
       "1           1  Dublin 2            8        month                  0   3690   \n",
       "2           2  Dublin 2            8        month                  0   4000   \n",
       "3           3  Dublin 1            0        month                  0   2300   \n",
       "4           4  Dublin 1            0        month                  0   2430   \n",
       "\n",
       "   number_bathrooms  number_bedrooms  Parking  Central Heating  \\\n",
       "0                 2                2        1                1   \n",
       "1                 2                3        1                1   \n",
       "2                 2                2        1                1   \n",
       "3                 1                1        1                1   \n",
       "4                 1                1        1                1   \n",
       "\n",
       "   Washing Machine  Dryer  Dishwasher  Microwave  Pets Allowed  \\\n",
       "0                1      1           1          1             1   \n",
       "1                1      1           1          1             1   \n",
       "2                1      1           1          1             1   \n",
       "3                1      1           1          1             1   \n",
       "4                1      1           1          1             1   \n",
       "\n",
       "   Wheelchair Access  Garden / Patio / Balcony  Serviced Property  \n",
       "0                  1                         1                  1  \n",
       "1                  1                         1                  1  \n",
       "2                  1                         1                  1  \n",
       "3                  1                         1                  0  \n",
       "4                  1                         1                  0  "
      ]
     },
     "execution_count": 17,
     "metadata": {},
     "output_type": "execute_result"
    }
   ],
   "source": [
    "df = pd.DataFrame()\n",
    "df = pd.read_csv('data/daft_apartments_with_features.csv')\n",
    "df.head()"
   ]
  },
  {
   "cell_type": "code",
   "execution_count": 66,
   "id": "conscious-assurance",
   "metadata": {},
   "outputs": [],
   "source": [
    "# drop column 'Unnamed: 0'\n",
    "df.drop(['Unnamed: 0'], axis = 1, inplace=True)\n",
    "df = df.reset_index(drop=True)\n"
   ]
  },
  {
   "cell_type": "code",
   "execution_count": 67,
   "id": "generous-burner",
   "metadata": {},
   "outputs": [
    {
     "data": {
      "text/plain": [
       "Index(['Region', 'Region_code', 'price_period', 'price_period_code', 'price',\n",
       "       'number_bathrooms', 'number_bedrooms', 'Parking', 'Central Heating',\n",
       "       'Washing Machine', 'Dryer', 'Dishwasher', 'Microwave', 'Pets Allowed',\n",
       "       'Wheelchair Access', 'Garden / Patio / Balcony', 'Serviced Property'],\n",
       "      dtype='object')"
      ]
     },
     "execution_count": 67,
     "metadata": {},
     "output_type": "execute_result"
    }
   ],
   "source": [
    "df.columns"
   ]
  },
  {
   "cell_type": "code",
   "execution_count": 68,
   "id": "chubby-reporter",
   "metadata": {},
   "outputs": [
    {
     "name": "stdout",
     "output_type": "stream",
     "text": [
      "Estimated number of clusters: 6\n",
      "Estimated number of noise points: 3\n",
      "Silhouette Coefficient: 0.539\n"
     ]
    }
   ],
   "source": [
    "# selected_columns = ['Region_code', 'price_period_code', 'price',\n",
    "#        'number_bathrooms', 'number_bedrooms', 'Parking', 'Central Heating',\n",
    "#        'Washing Machine', 'Dryer', 'Dishwasher', 'Microwave', 'Pets Allowed',\n",
    "#        'Wheelchair Access', 'Garden / Patio / Balcony', 'Serviced Property']\n",
    "\n",
    "# eps=2, min_samples=10\n",
    "# selected_columns = ['Region_code', 'number_bathrooms', 'number_bedrooms', \n",
    "#        'Washing Machine', 'Dryer', 'Dishwasher']\n",
    "\n",
    "# eps=2, min_samples=10\n",
    "selected_columns = ['Region_code', 'Washing Machine', 'Dryer', 'Dishwasher']\n",
    "\n",
    "df_data_array = StandardScaler().fit_transform(df[selected_columns])\n",
    "\n",
    "# Compute DBSCAN\n",
    "db = DBSCAN(eps=2, min_samples=10).fit(df_data_array)\n",
    "\n",
    "labels = db.labels_\n",
    "\n",
    "# Number of clusters in labels, ignoring noise if present.\n",
    "n_clusters_ = len(set(labels)) - (1 if -1 in labels else 0)\n",
    "n_noise_ = list(labels).count(-1)\n",
    "\n",
    "print('Estimated number of clusters: %d' % n_clusters_)\n",
    "print('Estimated number of noise points: %d' % n_noise_)\n",
    "\n",
    "# print(\"Homogeneity: %0.3f\" % metrics.homogeneity_score(labels_true, labels))\n",
    "# print(\"Completeness: %0.3f\" % metrics.completeness_score(labels_true, labels))\n",
    "# print(\"V-measure: %0.3f\" % metrics.v_measure_score(labels_true, labels))\n",
    "# print(\"Adjusted Rand Index: %0.3f\"\n",
    "#       % metrics.adjusted_rand_score(labels_true, labels))\n",
    "# print(\"Adjusted Mutual Information: %0.3f\"\n",
    "#       % metrics.adjusted_mutual_info_score(labels_true, labels))\n",
    "\n",
    "print(\"Silhouette Coefficient: %0.3f\"\n",
    "      % metrics.silhouette_score(df_data_array, labels))\n"
   ]
  },
  {
   "cell_type": "code",
   "execution_count": 73,
   "id": "vanilla-fisher",
   "metadata": {},
   "outputs": [
    {
     "data": {
      "image/png": "[encoded data removed]",
      "text/plain": [
       "<Figure size 432x288 with 1 Axes>"
      ]
     },
     "metadata": {
      "needs_background": "light"
     },
     "output_type": "display_data"
    }
   ],
   "source": [
    "# Plot result\n",
    "import matplotlib.pyplot as plt\n",
    "\n",
    "core_samples_mask = np.zeros_like(db.labels_, dtype=bool)\n",
    "core_samples_mask[db.core_sample_indices_] = True\n",
    "\n",
    "# Black removed and is used for noise instead.\n",
    "unique_labels = set(labels)\n",
    "colors = [plt.cm.Spectral(each)\n",
    "          for each in np.linspace(0, 1, len(unique_labels))]\n",
    "for k, col in zip(unique_labels, colors):\n",
    "    if k == -1:\n",
    "        # Black used for noise.\n",
    "        col = [0, 0, 0, 1]\n",
    "\n",
    "    class_member_mask = (labels == k)\n",
    "\n",
    "    xy = df_data_array[class_member_mask & core_samples_mask]\n",
    "    plt.plot(xy[:, 0], xy[:, 1], 'o', markerfacecolor=tuple(col), markeredgecolor='k', markersize=14)\n",
    "\n",
    "    xy = df_data_array[class_member_mask & ~core_samples_mask]\n",
    "    plt.plot(xy[:, 0], xy[:, 1], 'o', markerfacecolor=tuple(col), markeredgecolor='k', markersize=6)\n",
    "\n",
    "plt.title('Estimated number of clusters: %d' % n_clusters_ )\n",
    "plt.show()"
   ]
  },
  {
   "cell_type": "code",
   "execution_count": 74,
   "id": "fourth-ranking",
   "metadata": {},
   "outputs": [],
   "source": [
    "def plot_dbscan(dbscan, X, size, show_xlabels=True, show_ylabels=True):\n",
    "    core_mask = np.zeros_like(dbscan.labels_, dtype=bool)\n",
    "    core_mask[dbscan.core_sample_indices_] = True\n",
    "    anomalies_mask = dbscan.labels_ == -1\n",
    "    non_core_mask = ~(core_mask | anomalies_mask)\n",
    "    \n",
    "    n_clusters_ = len(set(dbscan.labels_)) - (1 if -1 in labels else 0)\n",
    "\n",
    "    cores = dbscan.components_\n",
    "    anomalies = X[anomalies_mask]\n",
    "    non_cores = X[non_core_mask]\n",
    "    \n",
    "    plt.scatter(cores[:, 0], cores[:, 1],\n",
    "                c=dbscan.labels_[core_mask], marker='o', s=size, cmap=\"Paired\")\n",
    "    plt.scatter(cores[:, 0], cores[:, 1], marker='*', s=20, c=dbscan.labels_[core_mask])\n",
    "    plt.scatter(anomalies[:, 0], anomalies[:, 1],\n",
    "                c=\"r\", marker=\"x\", s=100)\n",
    "    plt.scatter(non_cores[:, 0], non_cores[:, 1], c=dbscan.labels_[non_core_mask], marker=\".\")\n",
    "    if show_xlabels:\n",
    "        plt.xlabel(\"$x_1$\", fontsize=14)\n",
    "    else:\n",
    "        plt.tick_params(labelbottom=False)\n",
    "    if show_ylabels:\n",
    "        plt.ylabel(\"$x_2$\", fontsize=14, rotation=0)\n",
    "    else:\n",
    "        plt.tick_params(labelleft=False)\n",
    "    plt.title(\"eps={:.2f}, min_samples={}, Estimated number of clusters={}\".format(dbscan.eps, dbscan.min_samples, n_clusters_), fontsize=14)"
   ]
  },
  {
   "cell_type": "code",
   "execution_count": 77,
   "id": "quarterly-starter",
   "metadata": {},
   "outputs": [
    {
     "data": {
      "image/png": "[encoded data removed]",
      "text/plain": [
       "<Figure size 648x230.4 with 1 Axes>"
      ]
     },
     "metadata": {
      "needs_background": "light"
     },
     "output_type": "display_data"
    }
   ],
   "source": [
    "plt.figure(figsize=(9, 3.2))\n",
    "\n",
    "plot_dbscan(db, df_data_array, size=100, show_ylabels=True)\n",
    "\n",
    "# save_fig(\"dbscan_plot\")\n",
    "plt.show()"
   ]
  },
  {
   "cell_type": "code",
   "execution_count": null,
   "id": "extraordinary-heading",
   "metadata": {},
   "outputs": [],
   "source": []
  }
 ],
 "metadata": {
  "kernelspec": {
   "display_name": "Python 3",
   "language": "python",
   "name": "python3"
  },
  "language_info": {
   "codemirror_mode": {
    "name": "ipython",
    "version": 3
   },
   "file_extension": ".py",
   "mimetype": "text/x-python",
   "name": "python",
   "nbconvert_exporter": "python",
   "pygments_lexer": "ipython3",
   "version": "3.9.2"
  }
 },
 "nbformat": 4,
 "nbformat_minor": 5
}
