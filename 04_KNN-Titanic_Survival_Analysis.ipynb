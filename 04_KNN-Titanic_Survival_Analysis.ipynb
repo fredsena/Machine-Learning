{
 "cells": [
  {
   "cell_type": "markdown",
   "id": "ranking-overhead",
   "metadata": {},
   "source": [
    "# K-Nearest Neighbours/ Random Forest Classifier"
   ]
  },
  {
   "cell_type": "markdown",
   "id": "competitive-driving",
   "metadata": {},
   "source": [
    "Goal\n",
    "- It is your job to predict if a passenger survived the sinking of the Titanic or not.\n",
    "- For each in the test set, you must predict a 0 or 1 value for the variable.\n",
    "\n"
   ]
  },
  {
   "cell_type": "markdown",
   "id": "iraqi-polish",
   "metadata": {},
   "source": [
    "survival\tSurvival\t0 = No, 1 = Yes\n",
    "\n",
    "pclass\tTicket class\t1 = 1st, 2 = 2nd, 3 = 3rd\n",
    "\n",
    "sex\tSex\t\n",
    "\n",
    "Age\tAge in years\t\n",
    "\n",
    "sibsp\t# of siblings / spouses aboard the Titanic\t\n",
    "\n",
    "parch\t# of parents / children aboard the Titanic\t\n",
    "\n",
    "ticket\tTicket number\t\n",
    "\n",
    "fare\tPassenger fare\t\n",
    "\n",
    "cabin\tCabin number\t\n",
    "\n",
    "embarked\tPort of Embarkation\tC = Cherbourg, Q = Queenstown, S = Southampton\n"
   ]
  },
  {
   "cell_type": "code",
   "execution_count": 427,
   "id": "driving-sacrifice",
   "metadata": {},
   "outputs": [],
   "source": [
    "import numpy as np\n",
    "import matplotlib.pyplot as plt\n",
    "import pandas as pd\n",
    "import numpy as np\n",
    "from sklearn import preprocessing\n",
    "%matplotlib inline\n"
   ]
  },
  {
   "cell_type": "code",
   "execution_count": 428,
   "id": "appropriate-redhead",
   "metadata": {
    "tags": []
   },
   "outputs": [
    {
     "name": "stdout",
     "output_type": "stream",
     "text": [
      "(891, 12)\n"
     ]
    },
    {
     "data": {
      "text/html": [
       "<div>\n",
       "<style scoped>\n",
       "    .dataframe tbody tr th:only-of-type {\n",
       "        vertical-align: middle;\n",
       "    }\n",
       "\n",
       "    .dataframe tbody tr th {\n",
       "        vertical-align: top;\n",
       "    }\n",
       "\n",
       "    .dataframe thead th {\n",
       "        text-align: right;\n",
       "    }\n",
       "</style>\n",
       "<table border=\"1\" class=\"dataframe\">\n",
       "  <thead>\n",
       "    <tr style=\"text-align: right;\">\n",
       "      <th></th>\n",
       "      <th>PassengerId</th>\n",
       "      <th>Survived</th>\n",
       "      <th>Pclass</th>\n",
       "      <th>Name</th>\n",
       "      <th>Sex</th>\n",
       "      <th>Age</th>\n",
       "      <th>SibSp</th>\n",
       "      <th>Parch</th>\n",
       "      <th>Ticket</th>\n",
       "      <th>Fare</th>\n",
       "      <th>Cabin</th>\n",
       "      <th>Embarked</th>\n",
       "    </tr>\n",
       "  </thead>\n",
       "  <tbody>\n",
       "    <tr>\n",
       "      <th>0</th>\n",
       "      <td>1</td>\n",
       "      <td>0</td>\n",
       "      <td>3</td>\n",
       "      <td>Braund, Mr. Owen Harris</td>\n",
       "      <td>male</td>\n",
       "      <td>22.0</td>\n",
       "      <td>1</td>\n",
       "      <td>0</td>\n",
       "      <td>A/5 21171</td>\n",
       "      <td>7.2500</td>\n",
       "      <td>NaN</td>\n",
       "      <td>S</td>\n",
       "    </tr>\n",
       "    <tr>\n",
       "      <th>1</th>\n",
       "      <td>2</td>\n",
       "      <td>1</td>\n",
       "      <td>1</td>\n",
       "      <td>Cumings, Mrs. John Bradley (Florence Briggs Th...</td>\n",
       "      <td>female</td>\n",
       "      <td>38.0</td>\n",
       "      <td>1</td>\n",
       "      <td>0</td>\n",
       "      <td>PC 17599</td>\n",
       "      <td>71.2833</td>\n",
       "      <td>C85</td>\n",
       "      <td>C</td>\n",
       "    </tr>\n",
       "    <tr>\n",
       "      <th>2</th>\n",
       "      <td>3</td>\n",
       "      <td>1</td>\n",
       "      <td>3</td>\n",
       "      <td>Heikkinen, Miss. Laina</td>\n",
       "      <td>female</td>\n",
       "      <td>26.0</td>\n",
       "      <td>0</td>\n",
       "      <td>0</td>\n",
       "      <td>STON/O2. 3101282</td>\n",
       "      <td>7.9250</td>\n",
       "      <td>NaN</td>\n",
       "      <td>S</td>\n",
       "    </tr>\n",
       "    <tr>\n",
       "      <th>3</th>\n",
       "      <td>4</td>\n",
       "      <td>1</td>\n",
       "      <td>1</td>\n",
       "      <td>Futrelle, Mrs. Jacques Heath (Lily May Peel)</td>\n",
       "      <td>female</td>\n",
       "      <td>35.0</td>\n",
       "      <td>1</td>\n",
       "      <td>0</td>\n",
       "      <td>113803</td>\n",
       "      <td>53.1000</td>\n",
       "      <td>C123</td>\n",
       "      <td>S</td>\n",
       "    </tr>\n",
       "    <tr>\n",
       "      <th>4</th>\n",
       "      <td>5</td>\n",
       "      <td>0</td>\n",
       "      <td>3</td>\n",
       "      <td>Allen, Mr. William Henry</td>\n",
       "      <td>male</td>\n",
       "      <td>35.0</td>\n",
       "      <td>0</td>\n",
       "      <td>0</td>\n",
       "      <td>373450</td>\n",
       "      <td>8.0500</td>\n",
       "      <td>NaN</td>\n",
       "      <td>S</td>\n",
       "    </tr>\n",
       "  </tbody>\n",
       "</table>\n",
       "</div>"
      ],
      "text/plain": [
       "   PassengerId  Survived  Pclass  \\\n",
       "0            1         0       3   \n",
       "1            2         1       1   \n",
       "2            3         1       3   \n",
       "3            4         1       1   \n",
       "4            5         0       3   \n",
       "\n",
       "                                                Name     Sex   Age  SibSp  \\\n",
       "0                            Braund, Mr. Owen Harris    male  22.0      1   \n",
       "1  Cumings, Mrs. John Bradley (Florence Briggs Th...  female  38.0      1   \n",
       "2                             Heikkinen, Miss. Laina  female  26.0      0   \n",
       "3       Futrelle, Mrs. Jacques Heath (Lily May Peel)  female  35.0      1   \n",
       "4                           Allen, Mr. William Henry    male  35.0      0   \n",
       "\n",
       "   Parch            Ticket     Fare Cabin Embarked  \n",
       "0      0         A/5 21171   7.2500   NaN        S  \n",
       "1      0          PC 17599  71.2833   C85        C  \n",
       "2      0  STON/O2. 3101282   7.9250   NaN        S  \n",
       "3      0            113803  53.1000  C123        S  \n",
       "4      0            373450   8.0500   NaN        S  "
      ]
     },
     "execution_count": 428,
     "metadata": {},
     "output_type": "execute_result"
    }
   ],
   "source": [
    "df = pd.DataFrame()\n",
    "\n",
    "df = pd.read_csv('data/titanic_train.csv')\n",
    "\n",
    "print(df.shape)\n",
    "df.head()"
   ]
  },
  {
   "cell_type": "code",
   "execution_count": 429,
   "id": "important-attempt",
   "metadata": {},
   "outputs": [
    {
     "data": {
      "text/html": [
       "<div>\n",
       "<style scoped>\n",
       "    .dataframe tbody tr th:only-of-type {\n",
       "        vertical-align: middle;\n",
       "    }\n",
       "\n",
       "    .dataframe tbody tr th {\n",
       "        vertical-align: top;\n",
       "    }\n",
       "\n",
       "    .dataframe thead th {\n",
       "        text-align: right;\n",
       "    }\n",
       "</style>\n",
       "<table border=\"1\" class=\"dataframe\">\n",
       "  <thead>\n",
       "    <tr style=\"text-align: right;\">\n",
       "      <th></th>\n",
       "      <th>PassengerId</th>\n",
       "      <th>Survived</th>\n",
       "      <th>Pclass</th>\n",
       "      <th>Age</th>\n",
       "      <th>SibSp</th>\n",
       "      <th>Parch</th>\n",
       "      <th>Fare</th>\n",
       "    </tr>\n",
       "  </thead>\n",
       "  <tbody>\n",
       "    <tr>\n",
       "      <th>count</th>\n",
       "      <td>891.000000</td>\n",
       "      <td>891.000000</td>\n",
       "      <td>891.000000</td>\n",
       "      <td>714.000000</td>\n",
       "      <td>891.000000</td>\n",
       "      <td>891.000000</td>\n",
       "      <td>891.000000</td>\n",
       "    </tr>\n",
       "    <tr>\n",
       "      <th>mean</th>\n",
       "      <td>446.000000</td>\n",
       "      <td>0.383838</td>\n",
       "      <td>2.308642</td>\n",
       "      <td>29.699118</td>\n",
       "      <td>0.523008</td>\n",
       "      <td>0.381594</td>\n",
       "      <td>32.204208</td>\n",
       "    </tr>\n",
       "    <tr>\n",
       "      <th>std</th>\n",
       "      <td>257.353842</td>\n",
       "      <td>0.486592</td>\n",
       "      <td>0.836071</td>\n",
       "      <td>14.526497</td>\n",
       "      <td>1.102743</td>\n",
       "      <td>0.806057</td>\n",
       "      <td>49.693429</td>\n",
       "    </tr>\n",
       "    <tr>\n",
       "      <th>min</th>\n",
       "      <td>1.000000</td>\n",
       "      <td>0.000000</td>\n",
       "      <td>1.000000</td>\n",
       "      <td>0.420000</td>\n",
       "      <td>0.000000</td>\n",
       "      <td>0.000000</td>\n",
       "      <td>0.000000</td>\n",
       "    </tr>\n",
       "    <tr>\n",
       "      <th>25%</th>\n",
       "      <td>223.500000</td>\n",
       "      <td>0.000000</td>\n",
       "      <td>2.000000</td>\n",
       "      <td>20.125000</td>\n",
       "      <td>0.000000</td>\n",
       "      <td>0.000000</td>\n",
       "      <td>7.910400</td>\n",
       "    </tr>\n",
       "    <tr>\n",
       "      <th>50%</th>\n",
       "      <td>446.000000</td>\n",
       "      <td>0.000000</td>\n",
       "      <td>3.000000</td>\n",
       "      <td>28.000000</td>\n",
       "      <td>0.000000</td>\n",
       "      <td>0.000000</td>\n",
       "      <td>14.454200</td>\n",
       "    </tr>\n",
       "    <tr>\n",
       "      <th>75%</th>\n",
       "      <td>668.500000</td>\n",
       "      <td>1.000000</td>\n",
       "      <td>3.000000</td>\n",
       "      <td>38.000000</td>\n",
       "      <td>1.000000</td>\n",
       "      <td>0.000000</td>\n",
       "      <td>31.000000</td>\n",
       "    </tr>\n",
       "    <tr>\n",
       "      <th>max</th>\n",
       "      <td>891.000000</td>\n",
       "      <td>1.000000</td>\n",
       "      <td>3.000000</td>\n",
       "      <td>80.000000</td>\n",
       "      <td>8.000000</td>\n",
       "      <td>6.000000</td>\n",
       "      <td>512.329200</td>\n",
       "    </tr>\n",
       "  </tbody>\n",
       "</table>\n",
       "</div>"
      ],
      "text/plain": [
       "       PassengerId    Survived      Pclass         Age       SibSp  \\\n",
       "count   891.000000  891.000000  891.000000  714.000000  891.000000   \n",
       "mean    446.000000    0.383838    2.308642   29.699118    0.523008   \n",
       "std     257.353842    0.486592    0.836071   14.526497    1.102743   \n",
       "min       1.000000    0.000000    1.000000    0.420000    0.000000   \n",
       "25%     223.500000    0.000000    2.000000   20.125000    0.000000   \n",
       "50%     446.000000    0.000000    3.000000   28.000000    0.000000   \n",
       "75%     668.500000    1.000000    3.000000   38.000000    1.000000   \n",
       "max     891.000000    1.000000    3.000000   80.000000    8.000000   \n",
       "\n",
       "            Parch        Fare  \n",
       "count  891.000000  891.000000  \n",
       "mean     0.381594   32.204208  \n",
       "std      0.806057   49.693429  \n",
       "min      0.000000    0.000000  \n",
       "25%      0.000000    7.910400  \n",
       "50%      0.000000   14.454200  \n",
       "75%      0.000000   31.000000  \n",
       "max      6.000000  512.329200  "
      ]
     },
     "execution_count": 429,
     "metadata": {},
     "output_type": "execute_result"
    }
   ],
   "source": [
    "df.describe()"
   ]
  },
  {
   "cell_type": "code",
   "execution_count": 430,
   "id": "received-chance",
   "metadata": {},
   "outputs": [
    {
     "data": {
      "text/plain": [
       "0    549\n",
       "1    342\n",
       "Name: Survived, dtype: int64"
      ]
     },
     "execution_count": 430,
     "metadata": {},
     "output_type": "execute_result"
    }
   ],
   "source": [
    "df[\"Survived\"].value_counts()"
   ]
  },
  {
   "cell_type": "code",
   "execution_count": 431,
   "id": "intense-junction",
   "metadata": {},
   "outputs": [
    {
     "data": {
      "text/html": [
       "<div>\n",
       "<style scoped>\n",
       "    .dataframe tbody tr th:only-of-type {\n",
       "        vertical-align: middle;\n",
       "    }\n",
       "\n",
       "    .dataframe tbody tr th {\n",
       "        vertical-align: top;\n",
       "    }\n",
       "\n",
       "    .dataframe thead th {\n",
       "        text-align: right;\n",
       "    }\n",
       "</style>\n",
       "<table border=\"1\" class=\"dataframe\">\n",
       "  <thead>\n",
       "    <tr style=\"text-align: right;\">\n",
       "      <th></th>\n",
       "      <th>PassengerId</th>\n",
       "      <th>Survived</th>\n",
       "      <th>Pclass</th>\n",
       "      <th>Age</th>\n",
       "      <th>SibSp</th>\n",
       "      <th>Parch</th>\n",
       "      <th>Fare</th>\n",
       "    </tr>\n",
       "  </thead>\n",
       "  <tbody>\n",
       "    <tr>\n",
       "      <th>PassengerId</th>\n",
       "      <td>1.000000</td>\n",
       "      <td>-0.005007</td>\n",
       "      <td>-0.035144</td>\n",
       "      <td>0.036847</td>\n",
       "      <td>-0.057527</td>\n",
       "      <td>-0.001652</td>\n",
       "      <td>0.012658</td>\n",
       "    </tr>\n",
       "    <tr>\n",
       "      <th>Survived</th>\n",
       "      <td>-0.005007</td>\n",
       "      <td>1.000000</td>\n",
       "      <td>-0.338481</td>\n",
       "      <td>-0.077221</td>\n",
       "      <td>-0.035322</td>\n",
       "      <td>0.081629</td>\n",
       "      <td>0.257307</td>\n",
       "    </tr>\n",
       "    <tr>\n",
       "      <th>Pclass</th>\n",
       "      <td>-0.035144</td>\n",
       "      <td>-0.338481</td>\n",
       "      <td>1.000000</td>\n",
       "      <td>-0.369226</td>\n",
       "      <td>0.083081</td>\n",
       "      <td>0.018443</td>\n",
       "      <td>-0.549500</td>\n",
       "    </tr>\n",
       "    <tr>\n",
       "      <th>Age</th>\n",
       "      <td>0.036847</td>\n",
       "      <td>-0.077221</td>\n",
       "      <td>-0.369226</td>\n",
       "      <td>1.000000</td>\n",
       "      <td>-0.308247</td>\n",
       "      <td>-0.189119</td>\n",
       "      <td>0.096067</td>\n",
       "    </tr>\n",
       "    <tr>\n",
       "      <th>SibSp</th>\n",
       "      <td>-0.057527</td>\n",
       "      <td>-0.035322</td>\n",
       "      <td>0.083081</td>\n",
       "      <td>-0.308247</td>\n",
       "      <td>1.000000</td>\n",
       "      <td>0.414838</td>\n",
       "      <td>0.159651</td>\n",
       "    </tr>\n",
       "    <tr>\n",
       "      <th>Parch</th>\n",
       "      <td>-0.001652</td>\n",
       "      <td>0.081629</td>\n",
       "      <td>0.018443</td>\n",
       "      <td>-0.189119</td>\n",
       "      <td>0.414838</td>\n",
       "      <td>1.000000</td>\n",
       "      <td>0.216225</td>\n",
       "    </tr>\n",
       "    <tr>\n",
       "      <th>Fare</th>\n",
       "      <td>0.012658</td>\n",
       "      <td>0.257307</td>\n",
       "      <td>-0.549500</td>\n",
       "      <td>0.096067</td>\n",
       "      <td>0.159651</td>\n",
       "      <td>0.216225</td>\n",
       "      <td>1.000000</td>\n",
       "    </tr>\n",
       "  </tbody>\n",
       "</table>\n",
       "</div>"
      ],
      "text/plain": [
       "             PassengerId  Survived    Pclass       Age     SibSp     Parch  \\\n",
       "PassengerId     1.000000 -0.005007 -0.035144  0.036847 -0.057527 -0.001652   \n",
       "Survived       -0.005007  1.000000 -0.338481 -0.077221 -0.035322  0.081629   \n",
       "Pclass         -0.035144 -0.338481  1.000000 -0.369226  0.083081  0.018443   \n",
       "Age             0.036847 -0.077221 -0.369226  1.000000 -0.308247 -0.189119   \n",
       "SibSp          -0.057527 -0.035322  0.083081 -0.308247  1.000000  0.414838   \n",
       "Parch          -0.001652  0.081629  0.018443 -0.189119  0.414838  1.000000   \n",
       "Fare            0.012658  0.257307 -0.549500  0.096067  0.159651  0.216225   \n",
       "\n",
       "                 Fare  \n",
       "PassengerId  0.012658  \n",
       "Survived     0.257307  \n",
       "Pclass      -0.549500  \n",
       "Age          0.096067  \n",
       "SibSp        0.159651  \n",
       "Parch        0.216225  \n",
       "Fare         1.000000  "
      ]
     },
     "execution_count": 431,
     "metadata": {},
     "output_type": "execute_result"
    }
   ],
   "source": [
    "df.corr()"
   ]
  },
  {
   "cell_type": "code",
   "execution_count": 432,
   "id": "recreational-design",
   "metadata": {},
   "outputs": [
    {
     "name": "stdout",
     "output_type": "stream",
     "text": [
      "Any Missing values:True\n",
      "\n",
      "Missing values by columns:\n",
      "PassengerId      0\n",
      "Survived         0\n",
      "Pclass           0\n",
      "Name             0\n",
      "Sex              0\n",
      "Age            177\n",
      "SibSp            0\n",
      "Parch            0\n",
      "Ticket           0\n",
      "Fare             0\n",
      "Cabin          687\n",
      "Embarked         2\n",
      "dtype: int64\n",
      "\n",
      "Total sum of missing values: 866\n"
     ]
    }
   ],
   "source": [
    "print('Any Missing values:{}'.format(df.isnull().values.any()))\n",
    "\n",
    "print('\\nMissing values by columns:\\n{}'.format(df.isnull().sum()))\n",
    "\n",
    "print('\\nTotal sum of missing values: {}'.format(df.isnull().sum().sum()))"
   ]
  },
  {
   "cell_type": "code",
   "execution_count": 330,
   "id": "corrected-credit",
   "metadata": {},
   "outputs": [
    {
     "data": {
      "text/plain": [
       "<AxesSubplot:>"
      ]
     },
     "execution_count": 330,
     "metadata": {},
     "output_type": "execute_result"
    },
    {
     "data": {
      "image/png": "[encoded data removed]",
      "text/plain": [
       "<Figure size 720x720 with 2 Axes>"
      ]
     },
     "metadata": {},
     "output_type": "display_data"
    }
   ],
   "source": [
    "import seaborn as sns\n",
    "sns.set()\n",
    "\n",
    "plt.subplots(figsize=(10,10))\n",
    "sns.heatmap(df.corr(), annot=True)"
   ]
  },
  {
   "cell_type": "code",
   "execution_count": 433,
   "id": "young-democrat",
   "metadata": {
    "tags": []
   },
   "outputs": [
    {
     "data": {
      "text/plain": [
       "Index(['PassengerId', 'Survived', 'Pclass', 'Name', 'Sex', 'Age', 'SibSp',\n",
       "       'Parch', 'Ticket', 'Fare', 'Cabin', 'Embarked'],\n",
       "      dtype='object')"
      ]
     },
     "execution_count": 433,
     "metadata": {},
     "output_type": "execute_result"
    }
   ],
   "source": [
    "df.columns"
   ]
  },
  {
   "cell_type": "code",
   "execution_count": 434,
   "id": "authentic-strip",
   "metadata": {},
   "outputs": [
    {
     "data": {
      "text/plain": [
       "Pclass  Sex     Survived\n",
       "1       female  0           25.0\n",
       "                1           35.0\n",
       "        male    0           45.5\n",
       "                1           36.0\n",
       "2       female  0           32.5\n",
       "                1           28.0\n",
       "        male    0           30.5\n",
       "                1            3.0\n",
       "3       female  0           22.0\n",
       "                1           19.0\n",
       "        male    0           25.0\n",
       "                1           25.0\n",
       "Name: Age, dtype: float64"
      ]
     },
     "execution_count": 434,
     "metadata": {},
     "output_type": "execute_result"
    }
   ],
   "source": [
    "df.groupby(['Pclass','Sex','Survived'])['Age'].median()"
   ]
  },
  {
   "cell_type": "code",
   "execution_count": 435,
   "id": "lovely-definition",
   "metadata": {},
   "outputs": [
    {
     "name": "stdout",
     "output_type": "stream",
     "text": [
      "\n",
      "Missing values by columns:\n",
      "PassengerId      0\n",
      "Survived         0\n",
      "Pclass           0\n",
      "Name             0\n",
      "Sex              0\n",
      "Age              0\n",
      "SibSp            0\n",
      "Parch            0\n",
      "Ticket           0\n",
      "Fare             0\n",
      "Cabin          687\n",
      "Embarked         2\n",
      "dtype: int64\n"
     ]
    }
   ],
   "source": [
    "#Filling the missing values with mean of Pclass and Sex.\n",
    "df[\"Age\"].fillna(df.groupby(['Pclass','Sex'])['Age'].transform(\"mean\"), inplace=True)\n",
    "print('\\nMissing values by columns:\\n{}'.format(df.isnull().sum()))"
   ]
  },
  {
   "cell_type": "code",
   "execution_count": 548,
   "id": "metric-implementation",
   "metadata": {},
   "outputs": [
    {
     "data": {
      "text/plain": [
       "Mr          517\n",
       "Miss        182\n",
       "Mrs         125\n",
       "Master       40\n",
       "Dr            7\n",
       "Rev           6\n",
       "Mlle          2\n",
       "Major         2\n",
       "Col           2\n",
       "Lady          1\n",
       "Mme           1\n",
       "Countess      1\n",
       "Don           1\n",
       "Capt          1\n",
       "Jonkheer      1\n",
       "Ms            1\n",
       "Sir           1\n",
       "Name: Title, dtype: int64"
      ]
     },
     "execution_count": 548,
     "metadata": {},
     "output_type": "execute_result"
    }
   ],
   "source": [
    "df['FamilySize'] = df['SibSp'] + df['Parch']+1\n",
    "\n",
    "df['Title'] = df.Name.str.extract('([A-Za-z]+)\\.', expand = False)\n",
    "\n",
    "df.Title.value_counts()\n"
   ]
  },
  {
   "cell_type": "code",
   "execution_count": 549,
   "id": "parental-chorus",
   "metadata": {},
   "outputs": [],
   "source": [
    "least_occuring = ['Rev','Dr','Major', 'Col', 'Capt','Jonkheer','Countess']\n",
    "\n",
    "df.Title = df.Title.replace(['Ms', 'Mlle','Mme','Lady'], 'Miss')\n",
    "df.Title = df.Title.replace(['Countess','Dona'], 'Mrs')\n",
    "df.Title = df.Title.replace(['Don','Sir'], 'Mr')\n",
    "df.Title = df.Title.replace(least_occuring,'Rare')"
   ]
  },
  {
   "cell_type": "code",
   "execution_count": 551,
   "id": "empty-collar",
   "metadata": {},
   "outputs": [
    {
     "data": {
      "text/html": [
       "<div>\n",
       "<style scoped>\n",
       "    .dataframe tbody tr th:only-of-type {\n",
       "        vertical-align: middle;\n",
       "    }\n",
       "\n",
       "    .dataframe tbody tr th {\n",
       "        vertical-align: top;\n",
       "    }\n",
       "\n",
       "    .dataframe thead th {\n",
       "        text-align: right;\n",
       "    }\n",
       "</style>\n",
       "<table border=\"1\" class=\"dataframe\">\n",
       "  <thead>\n",
       "    <tr style=\"text-align: right;\">\n",
       "      <th></th>\n",
       "      <th>PassengerId</th>\n",
       "      <th>Survived</th>\n",
       "      <th>Pclass</th>\n",
       "      <th>Name</th>\n",
       "      <th>Sex</th>\n",
       "      <th>Age</th>\n",
       "      <th>SibSp</th>\n",
       "      <th>Parch</th>\n",
       "      <th>Ticket</th>\n",
       "      <th>Fare</th>\n",
       "      <th>Cabin</th>\n",
       "      <th>Embarked</th>\n",
       "      <th>FamilySize</th>\n",
       "      <th>Title</th>\n",
       "    </tr>\n",
       "  </thead>\n",
       "  <tbody>\n",
       "    <tr>\n",
       "      <th>0</th>\n",
       "      <td>1</td>\n",
       "      <td>0</td>\n",
       "      <td>3</td>\n",
       "      <td>Braund, Mr. Owen Harris</td>\n",
       "      <td>male</td>\n",
       "      <td>22.0</td>\n",
       "      <td>1</td>\n",
       "      <td>0</td>\n",
       "      <td>A/5 21171</td>\n",
       "      <td>7.2500</td>\n",
       "      <td>NaN</td>\n",
       "      <td>S</td>\n",
       "      <td>2</td>\n",
       "      <td>Mr</td>\n",
       "    </tr>\n",
       "    <tr>\n",
       "      <th>1</th>\n",
       "      <td>2</td>\n",
       "      <td>1</td>\n",
       "      <td>1</td>\n",
       "      <td>Cumings, Mrs. John Bradley (Florence Briggs Th...</td>\n",
       "      <td>female</td>\n",
       "      <td>38.0</td>\n",
       "      <td>1</td>\n",
       "      <td>0</td>\n",
       "      <td>PC 17599</td>\n",
       "      <td>71.2833</td>\n",
       "      <td>C85</td>\n",
       "      <td>C</td>\n",
       "      <td>2</td>\n",
       "      <td>Mrs</td>\n",
       "    </tr>\n",
       "    <tr>\n",
       "      <th>2</th>\n",
       "      <td>3</td>\n",
       "      <td>1</td>\n",
       "      <td>3</td>\n",
       "      <td>Heikkinen, Miss. Laina</td>\n",
       "      <td>female</td>\n",
       "      <td>26.0</td>\n",
       "      <td>0</td>\n",
       "      <td>0</td>\n",
       "      <td>STON/O2. 3101282</td>\n",
       "      <td>7.9250</td>\n",
       "      <td>NaN</td>\n",
       "      <td>S</td>\n",
       "      <td>1</td>\n",
       "      <td>Miss</td>\n",
       "    </tr>\n",
       "    <tr>\n",
       "      <th>3</th>\n",
       "      <td>4</td>\n",
       "      <td>1</td>\n",
       "      <td>1</td>\n",
       "      <td>Futrelle, Mrs. Jacques Heath (Lily May Peel)</td>\n",
       "      <td>female</td>\n",
       "      <td>35.0</td>\n",
       "      <td>1</td>\n",
       "      <td>0</td>\n",
       "      <td>113803</td>\n",
       "      <td>53.1000</td>\n",
       "      <td>C123</td>\n",
       "      <td>S</td>\n",
       "      <td>2</td>\n",
       "      <td>Mrs</td>\n",
       "    </tr>\n",
       "    <tr>\n",
       "      <th>4</th>\n",
       "      <td>5</td>\n",
       "      <td>0</td>\n",
       "      <td>3</td>\n",
       "      <td>Allen, Mr. William Henry</td>\n",
       "      <td>male</td>\n",
       "      <td>35.0</td>\n",
       "      <td>0</td>\n",
       "      <td>0</td>\n",
       "      <td>373450</td>\n",
       "      <td>8.0500</td>\n",
       "      <td>NaN</td>\n",
       "      <td>S</td>\n",
       "      <td>1</td>\n",
       "      <td>Mr</td>\n",
       "    </tr>\n",
       "  </tbody>\n",
       "</table>\n",
       "</div>"
      ],
      "text/plain": [
       "   PassengerId  Survived  Pclass  \\\n",
       "0            1         0       3   \n",
       "1            2         1       1   \n",
       "2            3         1       3   \n",
       "3            4         1       1   \n",
       "4            5         0       3   \n",
       "\n",
       "                                                Name     Sex   Age  SibSp  \\\n",
       "0                            Braund, Mr. Owen Harris    male  22.0      1   \n",
       "1  Cumings, Mrs. John Bradley (Florence Briggs Th...  female  38.0      1   \n",
       "2                             Heikkinen, Miss. Laina  female  26.0      0   \n",
       "3       Futrelle, Mrs. Jacques Heath (Lily May Peel)  female  35.0      1   \n",
       "4                           Allen, Mr. William Henry    male  35.0      0   \n",
       "\n",
       "   Parch            Ticket     Fare Cabin Embarked  FamilySize Title  \n",
       "0      0         A/5 21171   7.2500   NaN        S           2    Mr  \n",
       "1      0          PC 17599  71.2833   C85        C           2   Mrs  \n",
       "2      0  STON/O2. 3101282   7.9250   NaN        S           1  Miss  \n",
       "3      0            113803  53.1000  C123        S           2   Mrs  \n",
       "4      0            373450   8.0500   NaN        S           1    Mr  "
      ]
     },
     "execution_count": 551,
     "metadata": {},
     "output_type": "execute_result"
    }
   ],
   "source": [
    "df.head()"
   ]
  },
  {
   "cell_type": "code",
   "execution_count": 552,
   "id": "listed-acquisition",
   "metadata": {},
   "outputs": [],
   "source": [
    "df_train = df[['Survived', 'Pclass', 'Age', 'SibSp','Parch', 'Fare', 'Embarked', 'Sex','FamilySize', 'Title']]"
   ]
  },
  {
   "cell_type": "code",
   "execution_count": 553,
   "id": "outdoor-egyptian",
   "metadata": {},
   "outputs": [
    {
     "data": {
      "text/plain": [
       "<seaborn.axisgrid.PairGrid at 0x7efea6ecd6d0>"
      ]
     },
     "execution_count": 553,
     "metadata": {},
     "output_type": "execute_result"
    },
    {
     "data": {
      "image/png": "[encoded data removed]",
      "text/plain": [
       "<Figure size 925.55x864 with 42 Axes>"
      ]
     },
     "metadata": {
      "needs_background": "light"
     },
     "output_type": "display_data"
    }
   ],
   "source": [
    "sns.pairplot(df_train, hue='Survived', height=2)"
   ]
  },
  {
   "cell_type": "code",
   "execution_count": 353,
   "id": "entitled-baghdad",
   "metadata": {},
   "outputs": [
    {
     "name": "stdout",
     "output_type": "stream",
     "text": [
      "Train set Accuracy:  0.7418630751964085\n",
      "train set Accuracy:  0.7418630751964085\n",
      "              precision    recall  f1-score   support\n",
      "\n",
      "           0       0.75      0.87      0.81       549\n",
      "           1       0.72      0.54      0.62       342\n",
      "\n",
      "    accuracy                           0.74       891\n",
      "   macro avg       0.73      0.70      0.71       891\n",
      "weighted avg       0.74      0.74      0.73       891\n",
      "\n",
      "cross_val_score:  0.7138701622971286\n"
     ]
    }
   ],
   "source": [
    "from sklearn.model_selection import train_test_split\n",
    "from sklearn.preprocessing import StandardScaler\n",
    "from sklearn.neighbors import KNeighborsClassifier\n",
    "from sklearn.model_selection import cross_val_score\n",
    "from sklearn import metrics\n",
    "\n",
    "# 'SibSp','Parch'\n",
    "\n",
    "# X_train = df_train[['Pclass', 'Fare']].values\n",
    "\n",
    "# \"Age\", \"SibSp\", \"Parch\", \"Fare\"\n",
    "\n",
    "X_train = df_train[['Pclass', 'Fare', 'SibSp', 'Parch']].values\n",
    "\n",
    "y_train = df_train['Survived'].values\n",
    "\n",
    "# Feature Scaling (dont scale y_train)\n",
    "X_train = preprocessing.StandardScaler().fit(X_train).transform(X_train.astype(float))\n",
    "\n",
    "k = 20\n",
    "kclassifier = KNeighborsClassifier(n_neighbors = k).fit(X_train,y_train)\n",
    "\n",
    "# Predicting the Test set results\n",
    "y_pred = kclassifier.predict(X_train)\n",
    "\n",
    "print(\"Train set Accuracy: \", metrics.accuracy_score(y_train, kclassifier.predict(X_train)))\n",
    "print(\"train set Accuracy: \", metrics.accuracy_score(y_train, y_pred))\n",
    "\n",
    "print(metrics.classification_report(y_train, kclassifier.predict(X_train)))\n",
    "knn_scores = cross_val_score(kclassifier, X_train, y_train, cv=10)\n",
    "print(\"cross_val_score: \", knn_scores.mean())\n"
   ]
  },
  {
   "cell_type": "code",
   "execution_count": 354,
   "id": "metropolitan-auditor",
   "metadata": {},
   "outputs": [
    {
     "data": {
      "text/plain": [
       "0.6858302122347066"
      ]
     },
     "execution_count": 354,
     "metadata": {},
     "output_type": "execute_result"
    }
   ],
   "source": [
    "from sklearn.linear_model import LogisticRegression\n",
    "logreg = LogisticRegression(solver='liblinear')\n",
    "logreg_scores = cross_val_score(logreg, X_train, y_train, cv=10)\n",
    "logreg_scores.mean()\n"
   ]
  },
  {
   "cell_type": "code",
   "execution_count": 355,
   "id": "usual-intent",
   "metadata": {
    "tags": []
   },
   "outputs": [
    {
     "data": {
      "text/plain": [
       "0.6958177278401998"
      ]
     },
     "execution_count": 355,
     "metadata": {},
     "output_type": "execute_result"
    }
   ],
   "source": [
    "from sklearn.ensemble import RandomForestClassifier\n",
    "forest_clf = RandomForestClassifier(n_estimators=100, random_state=42)\n",
    "forest_scores = cross_val_score(forest_clf, X_train, y_train, cv=10)\n",
    "forest_scores.mean()"
   ]
  },
  {
   "cell_type": "code",
   "execution_count": 562,
   "id": "excellent-clerk",
   "metadata": {
    "tags": []
   },
   "outputs": [
    {
     "data": {
      "text/html": [
       "<div>\n",
       "<style scoped>\n",
       "    .dataframe tbody tr th:only-of-type {\n",
       "        vertical-align: middle;\n",
       "    }\n",
       "\n",
       "    .dataframe tbody tr th {\n",
       "        vertical-align: top;\n",
       "    }\n",
       "\n",
       "    .dataframe thead th {\n",
       "        text-align: right;\n",
       "    }\n",
       "</style>\n",
       "<table border=\"1\" class=\"dataframe\">\n",
       "  <thead>\n",
       "    <tr style=\"text-align: right;\">\n",
       "      <th></th>\n",
       "      <th>Survived</th>\n",
       "      <th>Pclass</th>\n",
       "      <th>Age</th>\n",
       "      <th>SibSp</th>\n",
       "      <th>Parch</th>\n",
       "      <th>Fare</th>\n",
       "      <th>Embarked</th>\n",
       "      <th>Sex</th>\n",
       "      <th>FamilySize</th>\n",
       "      <th>Title</th>\n",
       "    </tr>\n",
       "  </thead>\n",
       "  <tbody>\n",
       "    <tr>\n",
       "      <th>61</th>\n",
       "      <td>1</td>\n",
       "      <td>1</td>\n",
       "      <td>38.0</td>\n",
       "      <td>0</td>\n",
       "      <td>0</td>\n",
       "      <td>80.0</td>\n",
       "      <td>NaN</td>\n",
       "      <td>female</td>\n",
       "      <td>1</td>\n",
       "      <td>Miss</td>\n",
       "    </tr>\n",
       "    <tr>\n",
       "      <th>829</th>\n",
       "      <td>1</td>\n",
       "      <td>1</td>\n",
       "      <td>62.0</td>\n",
       "      <td>0</td>\n",
       "      <td>0</td>\n",
       "      <td>80.0</td>\n",
       "      <td>NaN</td>\n",
       "      <td>female</td>\n",
       "      <td>1</td>\n",
       "      <td>Mrs</td>\n",
       "    </tr>\n",
       "  </tbody>\n",
       "</table>\n",
       "</div>"
      ],
      "text/plain": [
       "     Survived  Pclass   Age  SibSp  Parch  Fare Embarked     Sex  FamilySize  \\\n",
       "61          1       1  38.0      0      0  80.0      NaN  female           1   \n",
       "829         1       1  62.0      0      0  80.0      NaN  female           1   \n",
       "\n",
       "    Title  \n",
       "61   Miss  \n",
       "829   Mrs  "
      ]
     },
     "execution_count": 562,
     "metadata": {},
     "output_type": "execute_result"
    }
   ],
   "source": [
    "nan_values = df_train[df_train['Embarked'].isna()]\n",
    "nan_values"
   ]
  },
  {
   "cell_type": "code",
   "execution_count": 563,
   "id": "greek-surface",
   "metadata": {},
   "outputs": [],
   "source": [
    "df_RandomForest = df_train.copy()"
   ]
  },
  {
   "cell_type": "code",
   "execution_count": 564,
   "id": "complete-indie",
   "metadata": {},
   "outputs": [],
   "source": [
    "df_RandomForest.drop([61,829], inplace=True)\n"
   ]
  },
  {
   "cell_type": "code",
   "execution_count": 565,
   "id": "determined-school",
   "metadata": {},
   "outputs": [
    {
     "data": {
      "text/html": [
       "<div>\n",
       "<style scoped>\n",
       "    .dataframe tbody tr th:only-of-type {\n",
       "        vertical-align: middle;\n",
       "    }\n",
       "\n",
       "    .dataframe tbody tr th {\n",
       "        vertical-align: top;\n",
       "    }\n",
       "\n",
       "    .dataframe thead th {\n",
       "        text-align: right;\n",
       "    }\n",
       "</style>\n",
       "<table border=\"1\" class=\"dataframe\">\n",
       "  <thead>\n",
       "    <tr style=\"text-align: right;\">\n",
       "      <th></th>\n",
       "      <th>Survived</th>\n",
       "      <th>Pclass</th>\n",
       "      <th>Age</th>\n",
       "      <th>SibSp</th>\n",
       "      <th>Parch</th>\n",
       "      <th>Fare</th>\n",
       "      <th>Embarked</th>\n",
       "      <th>Sex</th>\n",
       "      <th>FamilySize</th>\n",
       "      <th>Title</th>\n",
       "    </tr>\n",
       "  </thead>\n",
       "  <tbody>\n",
       "  </tbody>\n",
       "</table>\n",
       "</div>"
      ],
      "text/plain": [
       "Empty DataFrame\n",
       "Columns: [Survived, Pclass, Age, SibSp, Parch, Fare, Embarked, Sex, FamilySize, Title]\n",
       "Index: []"
      ]
     },
     "execution_count": 565,
     "metadata": {},
     "output_type": "execute_result"
    }
   ],
   "source": [
    "nan_values = df_RandomForest[df_RandomForest['Embarked'].isna()]\n",
    "nan_values\n"
   ]
  },
  {
   "cell_type": "code",
   "execution_count": 566,
   "id": "returning-camping",
   "metadata": {
    "tags": []
   },
   "outputs": [
    {
     "name": "stdout",
     "output_type": "stream",
     "text": [
      "(891, 14)\n",
      "(889, 10)\n"
     ]
    }
   ],
   "source": [
    "print(df.shape)\n",
    "print(df_RandomForest.shape)"
   ]
  },
  {
   "cell_type": "code",
   "execution_count": 625,
   "id": "checked-service",
   "metadata": {},
   "outputs": [
    {
     "name": "stdout",
     "output_type": "stream",
     "text": [
      "model_scores.mean(): 0.8290474974463737\n",
      "\n",
      "result_score: 0.8368953880764904\n"
     ]
    }
   ],
   "source": [
    "\n",
    "# df[['Survived', 'Pclass', 'Age', 'SibSp','Parch', 'Fare']]\n",
    "\n",
    "y = df_RandomForest[\"Survived\"]\n",
    "\n",
    "# features = [\"Pclass\", \"Sex\", \"SibSp\", \"Parch\"]\n",
    "#features = ['Pclass', 'Sex', 'Fare', 'SibSp', 'Parch', 'Embarked','Age', 'FamilySize', 'Title']\n",
    "features = ['Pclass', 'Sex', 'Fare', 'Embarked','Age', 'FamilySize', 'Title']\n",
    "\n",
    "\n",
    "X = pd.get_dummies(df_RandomForest[features])\n",
    "X_test = pd.get_dummies(df_RandomForest[features])\n",
    "\n",
    "model = RandomForestClassifier(n_estimators=100, max_depth=4, random_state=42)\n",
    "\n",
    "model.fit(X, y)\n",
    "\n",
    "model_scores = cross_val_score(model, X, y, cv=10)\n",
    "#model_scores.mean()\n",
    "\n",
    "#better use with test data instead train data\n",
    "result_score = model.score(X, y)\n",
    "\n",
    "print('model_scores.mean(): {}'.format(model_scores.mean()))\n",
    "\n",
    "print('\\nresult_score: {}'.format(result_score))\n",
    "\n",
    "#model.fit(X, y)\n",
    "#predictions = model.predict(X_test)"
   ]
  },
  {
   "cell_type": "code",
   "execution_count": 626,
   "id": "modular-delhi",
   "metadata": {},
   "outputs": [
    {
     "data": {
      "image/png": "[encoded data removed]",
      "text/plain": [
       "<Figure size 1080x720 with 1 Axes>"
      ]
     },
     "metadata": {
      "needs_background": "light"
     },
     "output_type": "display_data"
    }
   ],
   "source": [
    "qtd_columns = X.columns.size\n",
    "\n",
    "f_importances = model.feature_importances_\n",
    "\n",
    "# Get column names\n",
    "f_names = X\n",
    "\n",
    "f_std = np.std([tree.feature_importances_ for tree in model.estimators_], axis=0)\n",
    "\n",
    "zz = zip(f_importances, f_names, f_std)\n",
    "zzs = sorted(zz, key=lambda x: x[0], reverse=True)\n",
    "\n",
    "imps = [x[0] for x in zzs[:qtd_columns]]\n",
    "labels = [x[1] for x in zzs[:qtd_columns]]\n",
    "errs = [x[2] for x in zzs[:qtd_columns]]\n",
    "\n",
    "\n",
    "plt.subplots(figsize=(15,10))\n",
    "plt.bar(range(qtd_columns), imps, color=\"r\", yerr=errs, align=\"center\")\n",
    "plt.xticks(range(qtd_columns), labels, rotation=-70);"
   ]
  },
  {
   "cell_type": "code",
   "execution_count": 294,
   "id": "dental-worker",
   "metadata": {},
   "outputs": [
    {
     "name": "stdout",
     "output_type": "stream",
     "text": [
      "DecisionTrees's Accuracy:  0.7351290684624018\n"
     ]
    },
    {
     "data": {
      "text/plain": [
       "0.7194631710362047"
      ]
     },
     "execution_count": 294,
     "metadata": {},
     "output_type": "execute_result"
    }
   ],
   "source": [
    "from sklearn.tree import DecisionTreeClassifier\n",
    "from sklearn import metrics\n",
    "\n",
    "Tree = DecisionTreeClassifier(criterion=\"entropy\", max_depth = 4)\n",
    "\n",
    "#Tree = DecisionTreeClassifier(criterion=\"entropy\")\n",
    "\n",
    "Tree.fit(X_train, y_train)\n",
    "predTree = Tree.predict(X_train)\n",
    "print(\"DecisionTrees's Accuracy: \", metrics.accuracy_score(y_train, predTree))\n",
    "\n",
    "tree_scores = cross_val_score(Tree, X_train, y_train, cv=10)\n",
    "tree_scores.mean()\n"
   ]
  },
  {
   "cell_type": "code",
   "execution_count": 321,
   "id": "thermal-intervention",
   "metadata": {},
   "outputs": [
    {
     "data": {
      "text/plain": [
       "'Source.gv.pdf'"
      ]
     },
     "execution_count": 321,
     "metadata": {},
     "output_type": "execute_result"
    }
   ],
   "source": [
    "#from  io import StringIO\n",
    "import graphviz\n",
    "import pydotplus\n",
    "#import matplotlib.image as mpimg\n",
    "from sklearn import tree\n",
    "#from IPython.display import Image\n",
    "%matplotlib inline \n",
    "\n",
    "featureNames = df_train[['Pclass','SibSp','Parch','Fare']].columns\n",
    "\n",
    "# class_names= np.unique(y_train), \n",
    "\n",
    "dot_data = tree.export_graphviz(Tree, \n",
    "                                out_file=None, \n",
    "                                feature_names=featureNames, \n",
    "                                class_names= ['Yes', 'No'], \n",
    "                                filled=True, \n",
    "                                rounded=True, \n",
    "                                special_characters=True, \n",
    "                                rotate=False, \n",
    "                                max_depth=4)  \n",
    "\n",
    "graph = graphviz.Source(dot_data)\n",
    "# graph # this shows a BIG image depending of the tree size \n",
    "graph.view() # create and open a pdf file (way faster :-)\n",
    "\n",
    "# OPTION 2: #Export image\n",
    "# pydot_graph = pydotplus.graph_from_dot_data(dot_data)\n",
    "# pydot_graph.write_png('original_tree.png')\n",
    "# pydot_graph.set_size('\"12,12!\"')\n",
    "# pydot_graph.write_png('resized_tree.png')\n",
    "\n",
    "# OPTION 3: TOO SLOW  Convert and show png (hint: replace out_file=None parameter from tree.export_graphviz with the tree_titanic.dot)\n",
    "# from subprocess import call\n",
    "# call(['dot', '-Tpng', 'tree_titanic.dot', '-o', 'tree.png', '-Gdpi=600'])\n",
    "\n",
    "# # Display in python\n",
    "# import matplotlib.pyplot as plt\n",
    "# plt.figure(figsize = (20, 20))\n",
    "# plt.imshow(plt.imread('tree_titanic.png'))\n",
    "# plt.axis('off');\n",
    "# plt.show();\n"
   ]
  },
  {
   "cell_type": "code",
   "execution_count": 213,
   "id": "afraid-target",
   "metadata": {},
   "outputs": [
    {
     "data": {
      "image/png": "[encoded data removed]",
      "text/plain": [
       "<Figure size 432x288 with 1 Axes>"
      ]
     },
     "metadata": {},
     "output_type": "display_data"
    }
   ],
   "source": [
    "from sklearn.model_selection import cross_val_score\n",
    "\n",
    "# search for an optimal value of K for KNN\n",
    "k_range = range(1, 31)\n",
    "k_scores = []\n",
    "for k in k_range:\n",
    "    knn = KNeighborsClassifier(n_neighbors=k)\n",
    "    scores = cross_val_score(knn, X_train,y_train, cv=10, scoring='accuracy')\n",
    "    k_scores.append(scores.mean())\n",
    "#print (k_scores)\n",
    "\n",
    "# plot the value of K for KNN (x-axis) versus the cross-validated accuracy (y-axis)\n",
    "plt.plot(k_range, k_scores)\n",
    "plt.xlabel('Value of K for KNN')\n",
    "plt.ylabel('Cross-Validated Accuracy')\n",
    "plt.show()\n",
    "\n",
    "# print( \"The best accuracy was with\", k_scores.max(), \"with k=\", k_scores.argmax()+1) "
   ]
  },
  {
   "cell_type": "code",
   "execution_count": 214,
   "id": "rational-credit",
   "metadata": {},
   "outputs": [
    {
     "data": {
      "text/plain": [
       "<AxesSubplot:>"
      ]
     },
     "execution_count": 214,
     "metadata": {},
     "output_type": "execute_result"
    },
    {
     "data": {
      "image/png": "[encoded data removed]",
      "text/plain": [
       "<Figure size 288x288 with 2 Axes>"
      ]
     },
     "metadata": {},
     "output_type": "display_data"
    }
   ],
   "source": [
    "from sklearn.metrics import confusion_matrix\n",
    "plt.subplots(figsize=(4,4))\n",
    "sns.heatmap(confusion_matrix(y_train, kclassifier.predict(X_train)), annot=True)"
   ]
  },
  {
   "cell_type": "code",
   "execution_count": 162,
   "id": "structural-compilation",
   "metadata": {},
   "outputs": [
    {
     "data": {
      "image/png": "[encoded data removed]",
      "text/plain": [
       "<Figure size 432x288 with 1 Axes>"
      ]
     },
     "metadata": {},
     "output_type": "display_data"
    },
    {
     "name": "stdout",
     "output_type": "stream",
     "text": [
      "The best accuracy was with 0.8103254769921436 with k= 1\n"
     ]
    }
   ],
   "source": [
    "Ks = 31\n",
    "mean_acc = np.zeros((Ks-1))\n",
    "std_acc = np.zeros((Ks-1))\n",
    "\n",
    "for n in range(1,Ks):\n",
    "    \n",
    "    #Train Model and Predict  \n",
    "    neigh = KNeighborsClassifier(n_neighbors = n).fit(X_train,y_train)\n",
    "    yhat=neigh.predict(X_train)\n",
    "    mean_acc[n-1] = metrics.accuracy_score(y_train, yhat)    \n",
    "    std_acc[n-1]=np.std(yhat==y_train)/np.sqrt(yhat.shape[0])\n",
    "\n",
    "# print(mean_acc)\n",
    "\n",
    "plt.plot(range(1,Ks),mean_acc,'g')\n",
    "plt.fill_between(range(1,Ks),mean_acc - 1 * std_acc,mean_acc + 1 * std_acc, alpha=0.10)\n",
    "plt.fill_between(range(1,Ks),mean_acc - 3 * std_acc,mean_acc + 3 * std_acc, alpha=0.10,color=\"green\")\n",
    "plt.legend(('Accuracy ', '+/- 1xstd','+/- 3xstd'))\n",
    "plt.ylabel('Accuracy ')\n",
    "plt.xlabel('Number of Neighbors (K)')\n",
    "plt.tight_layout()\n",
    "plt.show()\n",
    "\n",
    "print( \"The best accuracy was with\", mean_acc.max(), \"with k=\", mean_acc.argmax()+1) "
   ]
  },
  {
   "cell_type": "code",
   "execution_count": 568,
   "id": "focused-baseline",
   "metadata": {},
   "outputs": [
    {
     "name": "stdout",
     "output_type": "stream",
     "text": [
      "(418, 11)\n"
     ]
    },
    {
     "data": {
      "text/html": [
       "<div>\n",
       "<style scoped>\n",
       "    .dataframe tbody tr th:only-of-type {\n",
       "        vertical-align: middle;\n",
       "    }\n",
       "\n",
       "    .dataframe tbody tr th {\n",
       "        vertical-align: top;\n",
       "    }\n",
       "\n",
       "    .dataframe thead th {\n",
       "        text-align: right;\n",
       "    }\n",
       "</style>\n",
       "<table border=\"1\" class=\"dataframe\">\n",
       "  <thead>\n",
       "    <tr style=\"text-align: right;\">\n",
       "      <th></th>\n",
       "      <th>PassengerId</th>\n",
       "      <th>Pclass</th>\n",
       "      <th>Name</th>\n",
       "      <th>Sex</th>\n",
       "      <th>Age</th>\n",
       "      <th>SibSp</th>\n",
       "      <th>Parch</th>\n",
       "      <th>Ticket</th>\n",
       "      <th>Fare</th>\n",
       "      <th>Cabin</th>\n",
       "      <th>Embarked</th>\n",
       "    </tr>\n",
       "  </thead>\n",
       "  <tbody>\n",
       "    <tr>\n",
       "      <th>0</th>\n",
       "      <td>892</td>\n",
       "      <td>3</td>\n",
       "      <td>Kelly, Mr. James</td>\n",
       "      <td>male</td>\n",
       "      <td>34.5</td>\n",
       "      <td>0</td>\n",
       "      <td>0</td>\n",
       "      <td>330911</td>\n",
       "      <td>7.8292</td>\n",
       "      <td>NaN</td>\n",
       "      <td>Q</td>\n",
       "    </tr>\n",
       "    <tr>\n",
       "      <th>1</th>\n",
       "      <td>893</td>\n",
       "      <td>3</td>\n",
       "      <td>Wilkes, Mrs. James (Ellen Needs)</td>\n",
       "      <td>female</td>\n",
       "      <td>47.0</td>\n",
       "      <td>1</td>\n",
       "      <td>0</td>\n",
       "      <td>363272</td>\n",
       "      <td>7.0000</td>\n",
       "      <td>NaN</td>\n",
       "      <td>S</td>\n",
       "    </tr>\n",
       "    <tr>\n",
       "      <th>2</th>\n",
       "      <td>894</td>\n",
       "      <td>2</td>\n",
       "      <td>Myles, Mr. Thomas Francis</td>\n",
       "      <td>male</td>\n",
       "      <td>62.0</td>\n",
       "      <td>0</td>\n",
       "      <td>0</td>\n",
       "      <td>240276</td>\n",
       "      <td>9.6875</td>\n",
       "      <td>NaN</td>\n",
       "      <td>Q</td>\n",
       "    </tr>\n",
       "    <tr>\n",
       "      <th>3</th>\n",
       "      <td>895</td>\n",
       "      <td>3</td>\n",
       "      <td>Wirz, Mr. Albert</td>\n",
       "      <td>male</td>\n",
       "      <td>27.0</td>\n",
       "      <td>0</td>\n",
       "      <td>0</td>\n",
       "      <td>315154</td>\n",
       "      <td>8.6625</td>\n",
       "      <td>NaN</td>\n",
       "      <td>S</td>\n",
       "    </tr>\n",
       "    <tr>\n",
       "      <th>4</th>\n",
       "      <td>896</td>\n",
       "      <td>3</td>\n",
       "      <td>Hirvonen, Mrs. Alexander (Helga E Lindqvist)</td>\n",
       "      <td>female</td>\n",
       "      <td>22.0</td>\n",
       "      <td>1</td>\n",
       "      <td>1</td>\n",
       "      <td>3101298</td>\n",
       "      <td>12.2875</td>\n",
       "      <td>NaN</td>\n",
       "      <td>S</td>\n",
       "    </tr>\n",
       "  </tbody>\n",
       "</table>\n",
       "</div>"
      ],
      "text/plain": [
       "   PassengerId  Pclass                                          Name     Sex  \\\n",
       "0          892       3                              Kelly, Mr. James    male   \n",
       "1          893       3              Wilkes, Mrs. James (Ellen Needs)  female   \n",
       "2          894       2                     Myles, Mr. Thomas Francis    male   \n",
       "3          895       3                              Wirz, Mr. Albert    male   \n",
       "4          896       3  Hirvonen, Mrs. Alexander (Helga E Lindqvist)  female   \n",
       "\n",
       "    Age  SibSp  Parch   Ticket     Fare Cabin Embarked  \n",
       "0  34.5      0      0   330911   7.8292   NaN        Q  \n",
       "1  47.0      1      0   363272   7.0000   NaN        S  \n",
       "2  62.0      0      0   240276   9.6875   NaN        Q  \n",
       "3  27.0      0      0   315154   8.6625   NaN        S  \n",
       "4  22.0      1      1  3101298  12.2875   NaN        S  "
      ]
     },
     "execution_count": 568,
     "metadata": {},
     "output_type": "execute_result"
    }
   ],
   "source": [
    "df_test = pd.DataFrame()\n",
    "\n",
    "df_test = pd.read_csv('data/titanic_test.csv')\n",
    "\n",
    "print(df_test.shape)\n",
    "\n",
    "df_test.head()"
   ]
  },
  {
   "cell_type": "code",
   "execution_count": 569,
   "id": "selected-bolivia",
   "metadata": {},
   "outputs": [
    {
     "name": "stdout",
     "output_type": "stream",
     "text": [
      "Any Missing values:True\n",
      "\n",
      "Missing values by columns:\n",
      "PassengerId      0\n",
      "Pclass           0\n",
      "Name             0\n",
      "Sex              0\n",
      "Age             86\n",
      "SibSp            0\n",
      "Parch            0\n",
      "Ticket           0\n",
      "Fare             1\n",
      "Cabin          327\n",
      "Embarked         0\n",
      "dtype: int64\n",
      "\n",
      "Total sum of missing values: 414\n"
     ]
    }
   ],
   "source": [
    "print('Any Missing values:{}'.format(df_test.isnull().values.any()))\n",
    "\n",
    "print('\\nMissing values by columns:\\n{}'.format(df_test.isnull().sum()))\n",
    "\n",
    "print('\\nTotal sum of missing values: {}'.format(df_test.isnull().sum().sum()))"
   ]
  },
  {
   "cell_type": "code",
   "execution_count": 570,
   "id": "broad-stereo",
   "metadata": {},
   "outputs": [
    {
     "data": {
      "text/html": [
       "<div>\n",
       "<style scoped>\n",
       "    .dataframe tbody tr th:only-of-type {\n",
       "        vertical-align: middle;\n",
       "    }\n",
       "\n",
       "    .dataframe tbody tr th {\n",
       "        vertical-align: top;\n",
       "    }\n",
       "\n",
       "    .dataframe thead th {\n",
       "        text-align: right;\n",
       "    }\n",
       "</style>\n",
       "<table border=\"1\" class=\"dataframe\">\n",
       "  <thead>\n",
       "    <tr style=\"text-align: right;\">\n",
       "      <th></th>\n",
       "      <th>PassengerId</th>\n",
       "      <th>Pclass</th>\n",
       "      <th>Name</th>\n",
       "      <th>Sex</th>\n",
       "      <th>Age</th>\n",
       "      <th>SibSp</th>\n",
       "      <th>Parch</th>\n",
       "      <th>Ticket</th>\n",
       "      <th>Fare</th>\n",
       "      <th>Cabin</th>\n",
       "      <th>Embarked</th>\n",
       "    </tr>\n",
       "  </thead>\n",
       "  <tbody>\n",
       "    <tr>\n",
       "      <th>152</th>\n",
       "      <td>1044</td>\n",
       "      <td>3</td>\n",
       "      <td>Storey, Mr. Thomas</td>\n",
       "      <td>male</td>\n",
       "      <td>60.5</td>\n",
       "      <td>0</td>\n",
       "      <td>0</td>\n",
       "      <td>3701</td>\n",
       "      <td>NaN</td>\n",
       "      <td>NaN</td>\n",
       "      <td>S</td>\n",
       "    </tr>\n",
       "  </tbody>\n",
       "</table>\n",
       "</div>"
      ],
      "text/plain": [
       "     PassengerId  Pclass                Name   Sex   Age  SibSp  Parch Ticket  \\\n",
       "152         1044       3  Storey, Mr. Thomas  male  60.5      0      0   3701   \n",
       "\n",
       "     Fare Cabin Embarked  \n",
       "152   NaN   NaN        S  "
      ]
     },
     "execution_count": 570,
     "metadata": {},
     "output_type": "execute_result"
    }
   ],
   "source": [
    "# Find Nan value on Fare --> ValueError: Input contains NaN, infinity or a value too large for dtype('float64').\n",
    "nan_values = df_test[df_test['Fare'].isna()]\n",
    "nan_values"
   ]
  },
  {
   "cell_type": "code",
   "execution_count": 571,
   "id": "sophisticated-election",
   "metadata": {},
   "outputs": [
    {
     "name": "stdout",
     "output_type": "stream",
     "text": [
      "12.459677880184334\n"
     ]
    }
   ],
   "source": [
    "# Get the Fare mean from the 3rd ticket class passengers\n",
    "\n",
    "result = df_test.loc[df_test['Pclass'] == 3]\n",
    "print(result['Fare'].mean())"
   ]
  },
  {
   "cell_type": "code",
   "execution_count": 572,
   "id": "international-daisy",
   "metadata": {},
   "outputs": [],
   "source": [
    "# Update the missing fare value\n",
    "\n",
    "df_test.at[152,'Fare']=12.4596"
   ]
  },
  {
   "cell_type": "code",
   "execution_count": 573,
   "id": "binary-playback",
   "metadata": {},
   "outputs": [
    {
     "data": {
      "text/html": [
       "<div>\n",
       "<style scoped>\n",
       "    .dataframe tbody tr th:only-of-type {\n",
       "        vertical-align: middle;\n",
       "    }\n",
       "\n",
       "    .dataframe tbody tr th {\n",
       "        vertical-align: top;\n",
       "    }\n",
       "\n",
       "    .dataframe thead th {\n",
       "        text-align: right;\n",
       "    }\n",
       "</style>\n",
       "<table border=\"1\" class=\"dataframe\">\n",
       "  <thead>\n",
       "    <tr style=\"text-align: right;\">\n",
       "      <th></th>\n",
       "      <th>PassengerId</th>\n",
       "      <th>Pclass</th>\n",
       "      <th>Name</th>\n",
       "      <th>Sex</th>\n",
       "      <th>Age</th>\n",
       "      <th>SibSp</th>\n",
       "      <th>Parch</th>\n",
       "      <th>Ticket</th>\n",
       "      <th>Fare</th>\n",
       "      <th>Cabin</th>\n",
       "      <th>Embarked</th>\n",
       "    </tr>\n",
       "  </thead>\n",
       "  <tbody>\n",
       "  </tbody>\n",
       "</table>\n",
       "</div>"
      ],
      "text/plain": [
       "Empty DataFrame\n",
       "Columns: [PassengerId, Pclass, Name, Sex, Age, SibSp, Parch, Ticket, Fare, Cabin, Embarked]\n",
       "Index: []"
      ]
     },
     "execution_count": 573,
     "metadata": {},
     "output_type": "execute_result"
    }
   ],
   "source": [
    "# df_test = df_test.dropna()\n",
    "nan_values = df_test[df_test['Fare'].isna()]\n",
    "nan_values"
   ]
  },
  {
   "cell_type": "code",
   "execution_count": 574,
   "id": "defined-celtic",
   "metadata": {},
   "outputs": [
    {
     "name": "stdout",
     "output_type": "stream",
     "text": [
      "\n",
      "Missing values by columns:\n",
      "PassengerId      0\n",
      "Pclass           0\n",
      "Name             0\n",
      "Sex              0\n",
      "Age              0\n",
      "SibSp            0\n",
      "Parch            0\n",
      "Ticket           0\n",
      "Fare             0\n",
      "Cabin          327\n",
      "Embarked         0\n",
      "dtype: int64\n"
     ]
    }
   ],
   "source": [
    "#Filling the missing values with mean of Pclass and Sex.\n",
    "df_test[\"Age\"].fillna(df_test.groupby(['Pclass','Sex'])['Age'].transform(\"mean\"), inplace=True)\n",
    "print('\\nMissing values by columns:\\n{}'.format(df_test.isnull().sum()))"
   ]
  },
  {
   "cell_type": "code",
   "execution_count": 575,
   "id": "limited-alpha",
   "metadata": {},
   "outputs": [
    {
     "data": {
      "text/plain": [
       "Mr        240\n",
       "Miss       78\n",
       "Mrs        72\n",
       "Master     21\n",
       "Rev         2\n",
       "Col         2\n",
       "Dr          1\n",
       "Ms          1\n",
       "Dona        1\n",
       "Name: Title, dtype: int64"
      ]
     },
     "execution_count": 575,
     "metadata": {},
     "output_type": "execute_result"
    }
   ],
   "source": [
    "df_test['FamilySize'] = df_test['SibSp'] + df_test['Parch']+1\n",
    "\n",
    "df_test['Title'] = df_test.Name.str.extract('([A-Za-z]+)\\.', expand = False)\n",
    "\n",
    "df_test.Title.value_counts()"
   ]
  },
  {
   "cell_type": "code",
   "execution_count": 576,
   "id": "micro-people",
   "metadata": {},
   "outputs": [],
   "source": [
    "least_occuring = ['Rev','Dr','Col']\n",
    "\n",
    "df_test.Title = df_test.Title.replace(['Ms'], 'Miss')\n",
    "df_test.Title = df_test.Title.replace(['Dona'], 'Mrs')\n",
    "df_test.Title = df_test.Title.replace(least_occuring,'Rare')"
   ]
  },
  {
   "cell_type": "code",
   "execution_count": 378,
   "id": "early-avenue",
   "metadata": {},
   "outputs": [
    {
     "name": "stdout",
     "output_type": "stream",
     "text": [
      "418\n",
      "(418, 11)\n"
     ]
    }
   ],
   "source": [
    "\n",
    "# 1. Execute train\n",
    "X_train = df_train[['Pclass', 'Fare', 'SibSp', 'Parch']].values\n",
    "y_train = df_train['Survived'].values\n",
    "\n",
    "# Feature Scaling (dont scale y_train)\n",
    "X_train = preprocessing.StandardScaler().fit(X_train).transform(X_train.astype(float))\n",
    "\n",
    "k = 20  #(first submission: k = 1 score 60%)\n",
    "kclassifier = KNeighborsClassifier(n_neighbors = k).fit(X_train,y_train)\n",
    "\n",
    "# 2. Execute Prediction\n",
    "X_test = df_test[['Pclass', 'Fare', 'SibSp', 'Parch']].values\n",
    "# Feature Scaling (dont scale y_train)\n",
    "X_test = preprocessing.StandardScaler().fit(X_test).transform(X_test.astype(float))\n",
    "\n",
    "# Predicting the Test set results\n",
    "y_test_pred = kclassifier.predict(X_test)\n",
    "\n",
    "print(y_test_pred.size)\n",
    "\n",
    "print(df_test.shape)\n"
   ]
  },
  {
   "cell_type": "code",
   "execution_count": 216,
   "id": "ranging-lambda",
   "metadata": {},
   "outputs": [],
   "source": [
    "\n",
    "output = pd.DataFrame({'PassengerId': df_test.PassengerId, 'Survived': y_test_pred})\n",
    "output.to_csv('fredsenav2_submission.csv', index=False)\n"
   ]
  },
  {
   "cell_type": "code",
   "execution_count": 387,
   "id": "structural-accent",
   "metadata": {},
   "outputs": [],
   "source": [
    "# 4th attempt for 80% (RandomForestClassifier)\n",
    "\n",
    "# 1. Execute train\n",
    "# features = ['Pclass', 'Sex', 'Fare', 'SibSp', 'Parch', 'Embarked']\n",
    "\n",
    "features = ['Pclass', 'Sex', 'SibSp', 'Parch', 'Embarked']\n",
    "\n",
    "y_RandomForest = df_RandomForest[\"Survived\"]\n",
    "X_RandomForest = pd.get_dummies(df_RandomForest[features])\n",
    "\n",
    "model_RandomForest = RandomForestClassifier(n_estimators=100, max_depth=4, random_state=42)\n",
    "model_RandomForest.fit(X_RandomForest, y_RandomForest)\n",
    "\n",
    "# model_scores_RandomForest = cross_val_score(model_RandomForest, X_RandomForest, y_RandomForest, cv=10)\n",
    "# model_scores_RandomForest.mean()\n",
    "\n",
    "\n",
    "# 2. Execute Prediction\n",
    "X_test_RandomForest = pd.get_dummies(df_test[features])\n",
    "\n",
    "y_test_RandomForest = model_RandomForest.predict(X_test_RandomForest)\n",
    "\n",
    "\n",
    "output_4th = pd.DataFrame({'PassengerId': df_test.PassengerId, 'Survived': y_test_RandomForest})\n",
    "output_4th.to_csv('fredsenav4_submission.csv', index=False)\n"
   ]
  },
  {
   "cell_type": "code",
   "execution_count": 458,
   "id": "hidden-defendant",
   "metadata": {},
   "outputs": [],
   "source": [
    "# 5th attempt (RandomForestClassifier) included age feature\n",
    "\n",
    "# 1. Execute train\n",
    "# features = ['Pclass', 'Sex', 'Fare', 'SibSp', 'Parch', 'Embarked']\n",
    "\n",
    "features = ['Pclass', 'Sex', 'SibSp', 'Parch', 'Embarked', 'Age']\n",
    "\n",
    "y_RandomForest = df_RandomForest[\"Survived\"]\n",
    "X_RandomForest = pd.get_dummies(df_RandomForest[features])\n",
    "\n",
    "model_RandomForest = RandomForestClassifier(n_estimators=100, max_depth=4, random_state=42)\n",
    "model_RandomForest.fit(X_RandomForest, y_RandomForest)\n",
    "\n",
    "# model_scores_RandomForest = cross_val_score(model_RandomForest, X_RandomForest, y_RandomForest, cv=10)\n",
    "# model_scores_RandomForest.mean()\n",
    "\n",
    "\n",
    "# 2. Execute Prediction\n",
    "X_test_RandomForest = pd.get_dummies(df_test[features])\n",
    "\n",
    "y_test_RandomForest = model_RandomForest.predict(X_test_RandomForest)\n",
    "\n",
    "\n",
    "output_5th = pd.DataFrame({'PassengerId': df_test.PassengerId, 'Survived': y_test_RandomForest})\n",
    "output_5th.to_csv('fredsenav5_submission.csv', index=False)"
   ]
  },
  {
   "cell_type": "code",
   "execution_count": 579,
   "id": "young-champagne",
   "metadata": {},
   "outputs": [],
   "source": [
    "# 10th attempt (RandomForestClassifier) included 'FamilySize', 'Title'\n",
    "\n",
    "# 1. Execute train\n",
    "features = ['Pclass', 'Sex', 'Fare', 'Embarked','Age', 'FamilySize', 'Title']\n",
    "\n",
    "y_RandomForest = df_RandomForest[\"Survived\"]\n",
    "X_RandomForest = pd.get_dummies(df_RandomForest[features])\n",
    "\n",
    "model_RandomForest = RandomForestClassifier(n_estimators=100, max_depth=4, random_state=42)\n",
    "model_RandomForest.fit(X_RandomForest, y_RandomForest)\n",
    "\n",
    "# model_scores_RandomForest = cross_val_score(model_RandomForest, X_RandomForest, y_RandomForest, cv=10)\n",
    "# model_scores_RandomForest.mean()\n",
    "\n",
    "\n",
    "# 2. Execute Prediction\n",
    "X_test_RandomForest = pd.get_dummies(df_test[features])\n",
    "\n",
    "y_test_RandomForest = model_RandomForest.predict(X_test_RandomForest)\n",
    "\n",
    "\n",
    "output_10th = pd.DataFrame({'PassengerId': df_test.PassengerId, 'Survived': y_test_RandomForest})\n",
    "output_10th.to_csv('fredsenav10_submission.csv', index=False)\n"
   ]
  },
  {
   "cell_type": "code",
   "execution_count": 518,
   "id": "capable-carnival",
   "metadata": {},
   "outputs": [
    {
     "name": "stdout",
     "output_type": "stream",
     "text": [
      "[08:32:39] WARNING: ../src/learner.cc:1061: Starting in XGBoost 1.3.0, the default evaluation metric used with the objective 'multi:softmax' was changed from 'merror' to 'mlogloss'. Explicitly set eval_metric if you'd like to restore the old behavior.\n"
     ]
    }
   ],
   "source": [
    "# 6th attempt (xgboostClassifier) included age feature\n",
    "\n",
    "# from xgboost import XGBRegressor\n",
    "\n",
    "import xgboost as xgb\n",
    "from sklearn.metrics import accuracy_score\n",
    "\n",
    "# 1. Execute train\n",
    "# features = ['Pclass', 'Sex', 'Fare', 'SibSp', 'Parch', 'Embarked']\n",
    "\n",
    "features = ['Pclass', 'Sex', 'SibSp', 'Parch', 'Embarked', 'Age']\n",
    "\n",
    "y_XGB = df_RandomForest[\"Survived\"]\n",
    "X_XGB = pd.get_dummies(df_RandomForest[features])\n",
    "\n",
    "train = xgb.DMatrix(X_XGB, label=y_XGB)\n",
    "\n",
    "# 'objective': 'multi:softmax',\n",
    "\n",
    "param = {\n",
    "    'max_depth': 6,\n",
    "    'eta': 0.3,    \n",
    "    'objective': 'multi:softmax',\n",
    "    'num_class': 2} \n",
    "epochs = 10 \n",
    "\n",
    "model_XGB = xgb.train(param, train, epochs)\n",
    "predictions_XGB = model_XGB.predict(train)\n",
    "\n",
    "#print(accuracy_score(y_XGB, predictions_XGB))\n",
    "\n",
    "# 2. Execute Prediction\n",
    "X_test_XGB = pd.get_dummies(df_test[features])\n",
    "\n",
    "test_XGB = xgb.DMatrix(X_test_XGB)\n",
    "\n",
    "predictions_test_XGB = model_XGB.predict(test_XGB)\n",
    "\n",
    "# output_6th = pd.DataFrame({'PassengerId': df_test.PassengerId, 'Survived': predictions_test_XGB})\n",
    "# output_6th.to_csv('fredsenav6_submission.csv', index=False)\n"
   ]
  },
  {
   "cell_type": "code",
   "execution_count": null,
   "id": "tough-court",
   "metadata": {},
   "outputs": [],
   "source": [
    "# import xgboost as xgb\n",
    "# # read in data\n",
    "# dtrain = xgb.DMatrix('demo/data/agaricus.txt.train')\n",
    "# dtest = xgb.DMatrix('demo/data/agaricus.txt.test')\n",
    "# # specify parameters via map\n",
    "# param = {'max_depth':2, 'eta':1, 'objective':'binary:logistic' }\n",
    "# num_round = 2\n",
    "# bst = xgb.train(param, dtrain, num_round)\n",
    "# # make prediction\n",
    "# preds = bst.predict(dtest)\n",
    "\n"
   ]
  },
  {
   "cell_type": "code",
   "execution_count": 515,
   "id": "silent-parcel",
   "metadata": {},
   "outputs": [
    {
     "data": {
      "text/plain": [
       "array([[521,  28],\n",
       "       [ 80, 260]])"
      ]
     },
     "execution_count": 515,
     "metadata": {},
     "output_type": "execute_result"
    },
    {
     "data": {
      "image/png": "[encoded data removed]",
      "text/plain": [
       "<Figure size 288x288 with 2 Axes>"
      ]
     },
     "metadata": {
      "needs_background": "light"
     },
     "output_type": "display_data"
    }
   ],
   "source": [
    "from sklearn.metrics import confusion_matrix\n",
    "plt.subplots(figsize=(4,4))\n",
    "sns.heatmap(confusion_matrix(y_RandomForest, model_XGB.predict(train)), annot=True)\n",
    "\n",
    "confusion_matrix(y_RandomForest, predictions_XGB)"
   ]
  },
  {
   "cell_type": "code",
   "execution_count": 547,
   "id": "unsigned-fetish",
   "metadata": {},
   "outputs": [],
   "source": [
    "import xgboost as xgb\n",
    "from xgboost import XGBClassifier\n",
    "from sklearn.model_selection import RandomizedSearchCV\n",
    "\n",
    "features = ['Pclass', 'Sex', 'SibSp', 'Parch', 'Embarked', 'Age']\n",
    "\n",
    "X_test_XGB = pd.get_dummies(df_test[features])\n",
    "\n",
    "\n",
    "# Create the parameter grid: gbm_param_grid \n",
    "gbm_param_grid = {\n",
    "    'n_estimators': range(1, 20),\n",
    "    'max_depth': range(3, 10),\n",
    "    'learning_rate': [.001, .003, .035, .4, .45, .5, .55, .6],\n",
    "    'colsample_bytree': [.1, .4, .6, .7, .8, .9, 1]\n",
    "}\n",
    "\n",
    "# Instantiate the regressor: gbm\n",
    "gbm = XGBClassifier(n_estimators=10)\n",
    "\n",
    "# Perform random search: grid_mse\n",
    "xgb_random = RandomizedSearchCV(param_distributions=gbm_param_grid, \n",
    "                                    estimator = gbm, scoring = \"accuracy\", \n",
    "                                    verbose = 0, n_iter = 100, cv = 4)\n",
    "\n",
    "\n",
    "# Fit randomized_mse to the data\n",
    "xgb_random.fit(X_XGB, y_XGB)\n",
    "\n",
    "# Print the best parameters and lowest RMSE\n",
    "print(\"Best parameters found: \", xgb_random.best_params_)\n",
    "print(\"Best accuracy found: \", xgb_random.best_score_)\n",
    "\n",
    "\n",
    "xgb_pred = xgb_random.predict(X_test_XGB)\n",
    "\n",
    "# print(xgb_pred)\n",
    "\n",
    "output_8th = pd.DataFrame({'PassengerId': df_test.PassengerId, 'Survived': xgb_pred})\n",
    "output_8th.to_csv('fredsenav8_submission.csv', index=False)\n"
   ]
  },
  {
   "cell_type": "code",
   "execution_count": 388,
   "id": "sporting-yugoslavia",
   "metadata": {},
   "outputs": [
    {
     "data": {
      "text/plain": [
       "Survived      int64\n",
       "Pclass        int64\n",
       "Age         float64\n",
       "SibSp         int64\n",
       "Parch         int64\n",
       "Fare        float64\n",
       "Embarked     object\n",
       "Sex          object\n",
       "dtype: object"
      ]
     },
     "execution_count": 388,
     "metadata": {},
     "output_type": "execute_result"
    }
   ],
   "source": [
    "df_train.dtypes"
   ]
  },
  {
   "cell_type": "code",
   "execution_count": 389,
   "id": "valuable-newsletter",
   "metadata": {},
   "outputs": [
    {
     "data": {
      "text/plain": [
       "PassengerId      int64\n",
       "Pclass           int64\n",
       "Name            object\n",
       "Sex             object\n",
       "Age            float64\n",
       "SibSp            int64\n",
       "Parch            int64\n",
       "Ticket          object\n",
       "Fare           float64\n",
       "Cabin           object\n",
       "Embarked        object\n",
       "dtype: object"
      ]
     },
     "execution_count": 389,
     "metadata": {},
     "output_type": "execute_result"
    }
   ],
   "source": [
    "df_test.dtypes"
   ]
  },
  {
   "cell_type": "code",
   "execution_count": 393,
   "id": "clean-utility",
   "metadata": {},
   "outputs": [
    {
     "data": {
      "text/plain": [
       "Pclass        int64\n",
       "SibSp         int64\n",
       "Parch         int64\n",
       "Sex_female    uint8\n",
       "Sex_male      uint8\n",
       "Embarked_C    uint8\n",
       "Embarked_Q    uint8\n",
       "Embarked_S    uint8\n",
       "dtype: object"
      ]
     },
     "execution_count": 393,
     "metadata": {},
     "output_type": "execute_result"
    }
   ],
   "source": [
    "X_RandomForest.dtypes"
   ]
  },
  {
   "cell_type": "code",
   "execution_count": 399,
   "id": "spectacular-difference",
   "metadata": {},
   "outputs": [
    {
     "name": "stdout",
     "output_type": "stream",
     "text": [
      "cross_val_score:  0.8065117466802858\n"
     ]
    }
   ],
   "source": [
    "from sklearn import svm\n",
    "from sklearn.model_selection import cross_val_score\n",
    "\n",
    "features = ['Pclass', 'Sex', 'SibSp', 'Parch', 'Embarked']\n",
    "\n",
    "X_svm = pd.get_dummies(df_RandomForest[features])\n",
    "X_test_svm = np.asarray(X_svm)\n",
    "\n",
    "y_svm = df_RandomForest[\"Survived\"]\n",
    "\n",
    "y_test_svm = np.asarray(y_svm)\n",
    "\n",
    "\n",
    "# kernel : {'linear', 'poly', 'rbf', 'sigmoid', 'precomputed'}, default='rbf'\n",
    "clf = svm.SVC(kernel='rbf')\n",
    "\n",
    "clf.fit(X_test_svm, y_test_svm) \n",
    "\n",
    "# svm_scores = cross_val_score(clf, X_train, y_train, cv=10)\n",
    "svm_scores = cross_val_score(clf, X_test_svm, y_test_svm, cv=10)\n",
    "print(\"cross_val_score: \", svm_scores.mean())\n",
    "\n"
   ]
  },
  {
   "cell_type": "code",
   "execution_count": 400,
   "id": "deluxe-porter",
   "metadata": {},
   "outputs": [],
   "source": [
    "# \"Cardinality\" means the number of unique values in a column\n",
    "# Select categorical columns with relatively low cardinality (convenient but arbitrary)\n",
    "categorical_cols = [cname for cname in df.columns if\n",
    "                    df[cname].nunique() < 10 and \n",
    "                    df[cname].dtype == \"object\"]"
   ]
  },
  {
   "cell_type": "code",
   "execution_count": 401,
   "id": "comparable-fetish",
   "metadata": {},
   "outputs": [
    {
     "data": {
      "text/plain": [
       "['Sex', 'Embarked']"
      ]
     },
     "execution_count": 401,
     "metadata": {},
     "output_type": "execute_result"
    }
   ],
   "source": [
    "categorical_cols"
   ]
  },
  {
   "cell_type": "code",
   "execution_count": 402,
   "id": "atlantic-wrist",
   "metadata": {},
   "outputs": [],
   "source": [
    "# Select numerical columns\n",
    "numerical_cols = [cname for cname in df.columns if \n",
    "                df[cname].dtype in ['int64', 'float64']]"
   ]
  },
  {
   "cell_type": "code",
   "execution_count": 403,
   "id": "occupational-product",
   "metadata": {},
   "outputs": [
    {
     "data": {
      "text/plain": [
       "['PassengerId', 'Survived', 'Pclass', 'Age', 'SibSp', 'Parch', 'Fare']"
      ]
     },
     "execution_count": 403,
     "metadata": {},
     "output_type": "execute_result"
    }
   ],
   "source": [
    "numerical_cols"
   ]
  },
  {
   "cell_type": "code",
   "execution_count": 423,
   "id": "compact-importance",
   "metadata": {},
   "outputs": [
    {
     "name": "stdout",
     "output_type": "stream",
     "text": [
      "MAE: 0.2222495315444726\n",
      "cross_val_score:  0.407777846034372\n"
     ]
    }
   ],
   "source": [
    "from sklearn.compose import ColumnTransformer\n",
    "from sklearn.pipeline import Pipeline\n",
    "from sklearn.impute import SimpleImputer\n",
    "from sklearn.preprocessing import OneHotEncoder\n",
    "from sklearn.ensemble import RandomForestRegressor\n",
    "from sklearn.metrics import mean_absolute_error\n",
    "\n",
    "from sklearn.model_selection import cross_val_score\n",
    "from sklearn import metrics\n",
    "\n",
    "\n",
    "# X_train_Regressor = df[['Pclass', 'Age', 'SibSp','Parch', 'Fare', 'Sex', 'Embarked']]\n",
    "\n",
    "X_train_Regressor = df_RandomForest[['Pclass', 'Sex', 'Fare', 'SibSp', 'Parch', 'Embarked']]\n",
    "\n",
    "y_train_Regressor = df_RandomForest[\"Survived\"]\n",
    "\n",
    "\n",
    "# Preprocessing for numerical data\n",
    "numerical_transformer = SimpleImputer(strategy='constant')\n",
    "\n",
    "# Preprocessing for categorical data\n",
    "categorical_transformer = Pipeline(steps=[\n",
    "    ('imputer', SimpleImputer(strategy='most_frequent')),\n",
    "    ('onehot', OneHotEncoder(handle_unknown='ignore'))\n",
    "])\n",
    "\n",
    "# Bundle preprocessing for numerical and categorical data\n",
    "preprocessor = ColumnTransformer(\n",
    "    transformers=[\n",
    "        ('num', numerical_transformer, ['Pclass', 'SibSp', 'Parch', 'Fare']),\n",
    "        ('cat', categorical_transformer, ['Sex', 'Embarked'])\n",
    "    ])\n",
    "\n",
    "# Define model\n",
    "rndForestReg = RandomForestRegressor(n_estimators=100, max_depth=6, random_state=42)\n",
    "\n",
    "# Bundle preprocessing and modeling code in a pipeline\n",
    "pipeRndForestReg = Pipeline(steps=[('preprocessor', preprocessor),\n",
    "                      ('model', rndForestReg)\n",
    "                     ])\n",
    "\n",
    "# Preprocessing of training data, fit model \n",
    "pipeRndForestReg.fit(X_train_Regressor, y_train_Regressor)\n",
    "\n",
    "# Preprocessing of validation data, get predictions\n",
    "preds = pipeRndForestReg.predict(X_train_Regressor)\n",
    "\n",
    "print('MAE:', mean_absolute_error(y_train_Regressor, preds))\n",
    "\n",
    "rndForestReg_scores = cross_val_score(pipeRndForestReg, X_train_Regressor, y_train_Regressor, cv=10)\n",
    "print(\"cross_val_score: \", rndForestReg_scores.mean())\n"
   ]
  },
  {
   "cell_type": "code",
   "execution_count": null,
   "id": "neural-combat",
   "metadata": {},
   "outputs": [],
   "source": []
  }
 ],
 "metadata": {
  "kernelspec": {
   "display_name": "Python 3.9 (XPython)",
   "language": "python",
   "name": "xpython"
  },
  "language_info": {
   "file_extension": ".py",
   "mimetype": "text/x-python",
   "name": "python",
   "version": "3.9.1"
  }
 },
 "nbformat": 4,
 "nbformat_minor": 5
}
