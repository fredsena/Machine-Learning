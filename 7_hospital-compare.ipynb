{
 "cells": [
  {
   "cell_type": "markdown",
   "id": "serious-james",
   "metadata": {},
   "source": [
    "#  Decision Trees/ Information Gain/ Entropy"
   ]
  },
  {
   "cell_type": "code",
   "execution_count": 7,
   "id": "frequent-dietary",
   "metadata": {},
   "outputs": [],
   "source": [
    "\n",
    "import numpy as np\n",
    "import pandas as pd\n",
    "import matplotlib.pyplot as plt\n",
    "\n",
    "from sklearn.model_selection import train_test_split\n",
    "from sklearn.model_selection import GridSearchCV\n",
    "from sklearn.metrics import classification_report\n",
    "from sklearn.svm import SVC\n",
    "\n",
    "from math import log, e\n",
    "\n",
    "%matplotlib inline"
   ]
  },
  {
   "cell_type": "code",
   "execution_count": 18,
   "id": "meaning-requirement",
   "metadata": {},
   "outputs": [],
   "source": [
    "def check_missing_data(dataset):  \n",
    "    print('Qtd rows X columns:{}'.format(dataset.shape))\n",
    "    print('\\nAre there any Missing values?:{}'.format(dataset.isnull().values.any()))\n",
    "    print('\\nTotal of missing ROWS values: {}'.format(dataset.shape[0] - dataset.dropna().shape[0]))    \n",
    "    print('\\nHas duplicated values?\\n{}'.format(dataset.duplicated().value_counts()))    \n",
    "    print('\\nMissing values by columns:\\n{}'.format(dataset.isnull().sum()))\n",
    "    print('\\nTotal sum of missing values: {}'.format(dataset.isnull().sum().sum()))\n",
    "    print('\\n')\n",
    "    print(dataset.info())"
   ]
  },
  {
   "cell_type": "code",
   "execution_count": 12,
   "id": "personal-government",
   "metadata": {},
   "outputs": [
    {
     "name": "stdout",
     "output_type": "stream",
     "text": [
      "(4772, 24)\n"
     ]
    },
    {
     "data": {
      "text/html": [
       "<div>\n",
       "<style scoped>\n",
       "    .dataframe tbody tr th:only-of-type {\n",
       "        vertical-align: middle;\n",
       "    }\n",
       "\n",
       "    .dataframe tbody tr th {\n",
       "        vertical-align: top;\n",
       "    }\n",
       "\n",
       "    .dataframe thead th {\n",
       "        text-align: right;\n",
       "    }\n",
       "</style>\n",
       "<table border=\"1\" class=\"dataframe\">\n",
       "  <thead>\n",
       "    <tr style=\"text-align: right;\">\n",
       "      <th></th>\n",
       "      <th>Facility.Name</th>\n",
       "      <th>Facility.City</th>\n",
       "      <th>Facility.State</th>\n",
       "      <th>Facility.Type</th>\n",
       "      <th>Rating.Overall</th>\n",
       "      <th>Rating.Mortality</th>\n",
       "      <th>Rating.Safety</th>\n",
       "      <th>Rating.Readmission</th>\n",
       "      <th>Rating.Experience</th>\n",
       "      <th>Rating.Effectiveness</th>\n",
       "      <th>Rating.Timeliness</th>\n",
       "      <th>Rating.Imaging</th>\n",
       "      <th>Procedure.Heart Attack.Cost</th>\n",
       "      <th>Procedure.Heart Attack.Quality</th>\n",
       "      <th>Procedure.Heart Attack.Value</th>\n",
       "      <th>Procedure.Heart Failure.Cost</th>\n",
       "      <th>Procedure.Heart Failure.Quality</th>\n",
       "      <th>Procedure.Heart Failure.Value</th>\n",
       "      <th>Procedure.Pneumonia.Cost</th>\n",
       "      <th>Procedure.Pneumonia.Quality</th>\n",
       "      <th>Procedure.Pneumonia.Value</th>\n",
       "      <th>Procedure.Hip Knee.Cost</th>\n",
       "      <th>Procedure.Hip Knee.Quality</th>\n",
       "      <th>Procedure.Hip Knee.Value</th>\n",
       "    </tr>\n",
       "  </thead>\n",
       "  <tbody>\n",
       "    <tr>\n",
       "      <th>0</th>\n",
       "      <td>Southeast Alabama Medical Center</td>\n",
       "      <td>Dothan</td>\n",
       "      <td>AL</td>\n",
       "      <td>Government</td>\n",
       "      <td>2</td>\n",
       "      <td>Below</td>\n",
       "      <td>Above</td>\n",
       "      <td>Below</td>\n",
       "      <td>Below</td>\n",
       "      <td>Same</td>\n",
       "      <td>Above</td>\n",
       "      <td>Same</td>\n",
       "      <td>23394</td>\n",
       "      <td>Average</td>\n",
       "      <td>Average</td>\n",
       "      <td>17041</td>\n",
       "      <td>Average</td>\n",
       "      <td>Average</td>\n",
       "      <td>18281</td>\n",
       "      <td>Average</td>\n",
       "      <td>Average</td>\n",
       "      <td>25812</td>\n",
       "      <td>Average</td>\n",
       "      <td>Higher</td>\n",
       "    </tr>\n",
       "    <tr>\n",
       "      <th>1</th>\n",
       "      <td>Marshall Medical Center South</td>\n",
       "      <td>Boaz</td>\n",
       "      <td>AL</td>\n",
       "      <td>Government</td>\n",
       "      <td>1</td>\n",
       "      <td>Below</td>\n",
       "      <td>Below</td>\n",
       "      <td>Below</td>\n",
       "      <td>Same</td>\n",
       "      <td>Above</td>\n",
       "      <td>Above</td>\n",
       "      <td>Below</td>\n",
       "      <td>22579</td>\n",
       "      <td>Average</td>\n",
       "      <td>Average</td>\n",
       "      <td>15819</td>\n",
       "      <td>Worse</td>\n",
       "      <td>Average</td>\n",
       "      <td>15614</td>\n",
       "      <td>Worse</td>\n",
       "      <td>Lower</td>\n",
       "      <td>22747</td>\n",
       "      <td>Average</td>\n",
       "      <td>Average</td>\n",
       "    </tr>\n",
       "    <tr>\n",
       "      <th>2</th>\n",
       "      <td>Eliza Coffee Memorial Hospital</td>\n",
       "      <td>Florence</td>\n",
       "      <td>AL</td>\n",
       "      <td>Government</td>\n",
       "      <td>3</td>\n",
       "      <td>Below</td>\n",
       "      <td>Above</td>\n",
       "      <td>Above</td>\n",
       "      <td>Below</td>\n",
       "      <td>Same</td>\n",
       "      <td>Above</td>\n",
       "      <td>Below</td>\n",
       "      <td>24002</td>\n",
       "      <td>Average</td>\n",
       "      <td>Average</td>\n",
       "      <td>16334</td>\n",
       "      <td>Average</td>\n",
       "      <td>Average</td>\n",
       "      <td>17371</td>\n",
       "      <td>Average</td>\n",
       "      <td>Average</td>\n",
       "      <td>24491</td>\n",
       "      <td>Average</td>\n",
       "      <td>Higher</td>\n",
       "    </tr>\n",
       "  </tbody>\n",
       "</table>\n",
       "</div>"
      ],
      "text/plain": [
       "                      Facility.Name Facility.City Facility.State  \\\n",
       "0  Southeast Alabama Medical Center        Dothan             AL   \n",
       "1     Marshall Medical Center South          Boaz             AL   \n",
       "2    Eliza Coffee Memorial Hospital      Florence             AL   \n",
       "\n",
       "  Facility.Type  Rating.Overall Rating.Mortality Rating.Safety  \\\n",
       "0    Government               2            Below         Above   \n",
       "1    Government               1            Below         Below   \n",
       "2    Government               3            Below         Above   \n",
       "\n",
       "  Rating.Readmission Rating.Experience Rating.Effectiveness Rating.Timeliness  \\\n",
       "0              Below             Below                 Same             Above   \n",
       "1              Below              Same                Above             Above   \n",
       "2              Above             Below                 Same             Above   \n",
       "\n",
       "  Rating.Imaging  Procedure.Heart Attack.Cost Procedure.Heart Attack.Quality  \\\n",
       "0           Same                        23394                        Average   \n",
       "1          Below                        22579                        Average   \n",
       "2          Below                        24002                        Average   \n",
       "\n",
       "  Procedure.Heart Attack.Value  Procedure.Heart Failure.Cost  \\\n",
       "0                      Average                         17041   \n",
       "1                      Average                         15819   \n",
       "2                      Average                         16334   \n",
       "\n",
       "  Procedure.Heart Failure.Quality Procedure.Heart Failure.Value  \\\n",
       "0                         Average                       Average   \n",
       "1                           Worse                       Average   \n",
       "2                         Average                       Average   \n",
       "\n",
       "   Procedure.Pneumonia.Cost Procedure.Pneumonia.Quality  \\\n",
       "0                     18281                     Average   \n",
       "1                     15614                       Worse   \n",
       "2                     17371                     Average   \n",
       "\n",
       "  Procedure.Pneumonia.Value  Procedure.Hip Knee.Cost  \\\n",
       "0                   Average                    25812   \n",
       "1                     Lower                    22747   \n",
       "2                   Average                    24491   \n",
       "\n",
       "  Procedure.Hip Knee.Quality Procedure.Hip Knee.Value  \n",
       "0                    Average                   Higher  \n",
       "1                    Average                  Average  \n",
       "2                    Average                   Higher  "
      ]
     },
     "execution_count": 12,
     "metadata": {},
     "output_type": "execute_result"
    }
   ],
   "source": [
    "df = pd.DataFrame()\n",
    "\n",
    "df = pd.read_csv('data/hospitals.csv')\n",
    "print(df.shape)\n",
    "df.head(3)"
   ]
  },
  {
   "cell_type": "code",
   "execution_count": 10,
   "id": "unsigned-jacket",
   "metadata": {},
   "outputs": [
    {
     "data": {
      "text/plain": [
       " 3    1258\n",
       " 4    1087\n",
       "-1    1057\n",
       " 2     797\n",
       " 5     292\n",
       " 1     281\n",
       "Name: Rating.Overall, dtype: int64"
      ]
     },
     "execution_count": 10,
     "metadata": {},
     "output_type": "execute_result"
    }
   ],
   "source": [
    "pd.set_option('display.max_rows', None)\n",
    "pd.set_option('display.max_columns', None)\n",
    "\n",
    "df[\"Rating.Overall\"].value_counts()"
   ]
  },
  {
   "cell_type": "code",
   "execution_count": 19,
   "id": "bright-music",
   "metadata": {},
   "outputs": [
    {
     "name": "stdout",
     "output_type": "stream",
     "text": [
      "Qtd rows X columns:(4772, 24)\n",
      "\n",
      "Are there any Missing values?:False\n",
      "\n",
      "Total of missing ROWS values: 0\n",
      "\n",
      "Has duplicated values?\n",
      "False    4772\n",
      "dtype: int64\n",
      "\n",
      "Missing values by columns:\n",
      "Facility.Name                      0\n",
      "Facility.City                      0\n",
      "Facility.State                     0\n",
      "Facility.Type                      0\n",
      "Rating.Overall                     0\n",
      "Rating.Mortality                   0\n",
      "Rating.Safety                      0\n",
      "Rating.Readmission                 0\n",
      "Rating.Experience                  0\n",
      "Rating.Effectiveness               0\n",
      "Rating.Timeliness                  0\n",
      "Rating.Imaging                     0\n",
      "Procedure.Heart Attack.Cost        0\n",
      "Procedure.Heart Attack.Quality     0\n",
      "Procedure.Heart Attack.Value       0\n",
      "Procedure.Heart Failure.Cost       0\n",
      "Procedure.Heart Failure.Quality    0\n",
      "Procedure.Heart Failure.Value      0\n",
      "Procedure.Pneumonia.Cost           0\n",
      "Procedure.Pneumonia.Quality        0\n",
      "Procedure.Pneumonia.Value          0\n",
      "Procedure.Hip Knee.Cost            0\n",
      "Procedure.Hip Knee.Quality         0\n",
      "Procedure.Hip Knee.Value           0\n",
      "dtype: int64\n",
      "\n",
      "Total sum of missing values: 0\n",
      "\n",
      "\n",
      "<class 'pandas.core.frame.DataFrame'>\n",
      "RangeIndex: 4772 entries, 0 to 4771\n",
      "Data columns (total 24 columns):\n",
      " #   Column                           Non-Null Count  Dtype \n",
      "---  ------                           --------------  ----- \n",
      " 0   Facility.Name                    4772 non-null   object\n",
      " 1   Facility.City                    4772 non-null   object\n",
      " 2   Facility.State                   4772 non-null   object\n",
      " 3   Facility.Type                    4772 non-null   object\n",
      " 4   Rating.Overall                   4772 non-null   int64 \n",
      " 5   Rating.Mortality                 4772 non-null   object\n",
      " 6   Rating.Safety                    4772 non-null   object\n",
      " 7   Rating.Readmission               4772 non-null   object\n",
      " 8   Rating.Experience                4772 non-null   object\n",
      " 9   Rating.Effectiveness             4772 non-null   object\n",
      " 10  Rating.Timeliness                4772 non-null   object\n",
      " 11  Rating.Imaging                   4772 non-null   object\n",
      " 12  Procedure.Heart Attack.Cost      4772 non-null   int64 \n",
      " 13  Procedure.Heart Attack.Quality   4772 non-null   object\n",
      " 14  Procedure.Heart Attack.Value     4772 non-null   object\n",
      " 15  Procedure.Heart Failure.Cost     4772 non-null   int64 \n",
      " 16  Procedure.Heart Failure.Quality  4772 non-null   object\n",
      " 17  Procedure.Heart Failure.Value    4772 non-null   object\n",
      " 18  Procedure.Pneumonia.Cost         4772 non-null   int64 \n",
      " 19  Procedure.Pneumonia.Quality      4772 non-null   object\n",
      " 20  Procedure.Pneumonia.Value        4772 non-null   object\n",
      " 21  Procedure.Hip Knee.Cost          4772 non-null   int64 \n",
      " 22  Procedure.Hip Knee.Quality       4772 non-null   object\n",
      " 23  Procedure.Hip Knee.Value         4772 non-null   object\n",
      "dtypes: int64(5), object(19)\n",
      "memory usage: 894.9+ KB\n",
      "None\n"
     ]
    }
   ],
   "source": [
    "check_missing_data(df)"
   ]
  },
  {
   "cell_type": "code",
   "execution_count": 5,
   "id": "according-bones",
   "metadata": {
    "tags": []
   },
   "outputs": [],
   "source": [
    "# Remove Rating.Overall with -1 values\n",
    "df.drop(df.loc[df['Rating.Overall']==-1].index, inplace=True)\n"
   ]
  },
  {
   "cell_type": "code",
   "execution_count": 6,
   "id": "innovative-gasoline",
   "metadata": {},
   "outputs": [
    {
     "data": {
      "text/plain": [
       "3    1258\n",
       "4    1087\n",
       "2     797\n",
       "5     292\n",
       "1     281\n",
       "Name: Rating.Overall, dtype: int64"
      ]
     },
     "execution_count": 6,
     "metadata": {},
     "output_type": "execute_result"
    }
   ],
   "source": [
    "# Overall rating between 1 and 5 stars, with 5 stars being the highest rating; -1 represents no rating.\n",
    "df[\"Rating.Overall\"].value_counts()"
   ]
  },
  {
   "cell_type": "code",
   "execution_count": 7,
   "id": "thrown-tracker",
   "metadata": {},
   "outputs": [
    {
     "name": "stdout",
     "output_type": "stream",
     "text": [
      "(3715, 24)\n",
      "Rating.Mortality, qtd: 0\n",
      "Rating.Safety, qtd: 0\n",
      "Rating.Readmission, qtd: 0\n",
      "Rating.Experience, qtd: 0\n",
      "Rating.Effectiveness, qtd: 0\n",
      "Rating.Timeliness, qtd: 0\n",
      "Rating.Imaging, qtd: 0\n",
      "Procedure.Heart Attack.Quality, qtd: 1461\n",
      "Procedure.Heart Attack.Value, qtd: 1461\n",
      "Procedure.Heart Failure.Quality, qtd: 354\n",
      "Procedure.Heart Failure.Value, qtd: 354\n",
      "Procedure.Pneumonia.Quality, qtd: 111\n",
      "Procedure.Pneumonia.Value, qtd: 111\n",
      "Procedure.Hip Knee.Quality, qtd: 1082\n",
      "Procedure.Hip Knee.Value, qtd: 1082\n"
     ]
    }
   ],
   "source": [
    "selected_features = ['Rating.Mortality','Rating.Safety','Rating.Readmission','Rating.Experience','Rating.Effectiveness','Rating.Timeliness','Rating.Imaging',\n",
    "'Procedure.Heart Attack.Quality','Procedure.Heart Attack.Value','Procedure.Heart Failure.Quality','Procedure.Heart Failure.Value',\n",
    "'Procedure.Pneumonia.Quality','Procedure.Pneumonia.Value','Procedure.Hip Knee.Quality','Procedure.Hip Knee.Value']\n",
    "\n",
    "# filtering the rows where value is Unknown\n",
    "# options = ['Unknown']\n",
    "\n",
    "print(df.shape)\n",
    "\n",
    "for feature in selected_features:\n",
    "    if df.loc[df[feature]=='Unknown'].shape[0] ==0:\n",
    "        print('{}, qtd: {}'.format(feature, df.loc[df[feature]=='Unknown'].shape[0]))\n",
    "\n",
    "for feature in selected_features:\n",
    "    if df.loc[df[feature]=='Unknown'].shape[0] > 0:\n",
    "        print('{}, qtd: {}'.format(feature, df.loc[df[feature]=='Unknown'].shape[0]))\n"
   ]
  },
  {
   "cell_type": "code",
   "execution_count": 519,
   "id": "olympic-soccer",
   "metadata": {},
   "outputs": [],
   "source": [
    "\n",
    "#List attributes and verify None and Unknown values to delete\n",
    "# for feature in selected_features:\n",
    "#     print('\\n{}\\n{}'.format(feature, df[feature].value_counts()))\n"
   ]
  },
  {
   "cell_type": "code",
   "execution_count": 8,
   "id": "otherwise-water",
   "metadata": {},
   "outputs": [
    {
     "name": "stdout",
     "output_type": "stream",
     "text": [
      "(3715, 24)\n",
      "(2938, 24)\n"
     ]
    }
   ],
   "source": [
    "\n",
    "#(3715, 24)\n",
    "print(df.shape)\n",
    "\n",
    "df.drop(df.loc[df['Rating.Mortality']=='None'].index, inplace=True)\n",
    "df.drop(df.loc[df['Rating.Readmission']=='None'].index, inplace=True)\n",
    "df.drop(df.loc[df['Rating.Experience']=='None'].index, inplace=True)\n",
    "df.drop(df.loc[df['Rating.Effectiveness']=='None'].index, inplace=True)\n",
    "df.drop(df.loc[df['Rating.Timeliness']=='None'].index, inplace=True)\n",
    "\n",
    "df.drop(df.loc[df['Procedure.Heart Failure.Quality']=='Unknown'].index, inplace=True)\n",
    "df.drop(df.loc[df['Procedure.Heart Failure.Value']=='Unknown'].index, inplace=True)\n",
    "df.drop(df.loc[df['Procedure.Pneumonia.Value']=='Unknown'].index, inplace=True)\n",
    "df.drop(df.loc[df['Procedure.Pneumonia.Quality']=='Unknown'].index, inplace=True)\n",
    "\n",
    "print(df.shape)\n"
   ]
  },
  {
   "cell_type": "code",
   "execution_count": 9,
   "id": "missing-planning",
   "metadata": {},
   "outputs": [
    {
     "name": "stdout",
     "output_type": "stream",
     "text": [
      "\n",
      "Rating.Mortality\n",
      "Same     2212\n",
      "Above     379\n",
      "Below     347\n",
      "Name: Rating.Mortality, dtype: int64\n",
      "\n",
      "Rating.Readmission\n",
      "Above    1270\n",
      "Below    1185\n",
      "Same      483\n",
      "Name: Rating.Readmission, dtype: int64\n",
      "\n",
      "Rating.Experience\n",
      "Below    1054\n",
      "Same     1037\n",
      "Above     847\n",
      "Name: Rating.Experience, dtype: int64\n",
      "\n",
      "Rating.Effectiveness\n",
      "Same     2538\n",
      "Below     250\n",
      "Above     150\n",
      "Name: Rating.Effectiveness, dtype: int64\n",
      "\n",
      "Rating.Timeliness\n",
      "Same     1084\n",
      "Below    1023\n",
      "Above     831\n",
      "Name: Rating.Timeliness, dtype: int64\n",
      "\n",
      "Procedure.Heart Failure.Quality\n",
      "Average    2615\n",
      "Better      195\n",
      "Worse       128\n",
      "Name: Procedure.Heart Failure.Quality, dtype: int64\n",
      "\n",
      "Procedure.Heart Failure.Value\n",
      "Average    2059\n",
      "Higher      510\n",
      "Lower       369\n",
      "Name: Procedure.Heart Failure.Value, dtype: int64\n",
      "\n",
      "Procedure.Pneumonia.Value\n",
      "Average    1658\n",
      "Higher      691\n",
      "Lower       589\n",
      "Name: Procedure.Pneumonia.Value, dtype: int64\n",
      "\n",
      "Procedure.Pneumonia.Quality\n",
      "Average    2498\n",
      "Worse       226\n",
      "Better      214\n",
      "Name: Procedure.Pneumonia.Quality, dtype: int64\n"
     ]
    }
   ],
   "source": [
    "categorical_features = ['Rating.Mortality','Rating.Readmission', 'Rating.Experience', 'Rating.Effectiveness', 'Rating.Timeliness',\n",
    "'Procedure.Heart Failure.Quality','Procedure.Heart Failure.Value','Procedure.Pneumonia.Value','Procedure.Pneumonia.Quality']\n",
    "\n",
    "for feature in categorical_features:\n",
    "    print('\\n{}\\n{}'.format(feature, df[feature].value_counts()))"
   ]
  },
  {
   "cell_type": "code",
   "execution_count": 10,
   "id": "surrounded-equilibrium",
   "metadata": {},
   "outputs": [
    {
     "data": {
      "text/plain": [
       "3    934\n",
       "4    811\n",
       "2    699\n",
       "1    271\n",
       "5    223\n",
       "Name: Rating.Overall, dtype: int64"
      ]
     },
     "execution_count": 10,
     "metadata": {},
     "output_type": "execute_result"
    }
   ],
   "source": [
    "# Overall rating between 1 and 5 stars, with 5 stars being the highest rating; -1 represents no rating.\n",
    "df[\"Rating.Overall\"].value_counts()"
   ]
  },
  {
   "cell_type": "code",
   "execution_count": 150,
   "id": "violent-concern",
   "metadata": {},
   "outputs": [],
   "source": [
    "\n",
    "df['IsFiveStars'] = df['Rating.Overall'].apply(lambda x:'yes' if x == 5 else 'no')\n",
    "\n",
    "df['IsFiveStarsNumeric'] = df['Rating.Overall'].apply(lambda x:1 if x == 5 else 0)\n"
   ]
  },
  {
   "cell_type": "code",
   "execution_count": 151,
   "id": "chicken-title",
   "metadata": {},
   "outputs": [
    {
     "data": {
      "text/html": [
       "<div>\n",
       "<style scoped>\n",
       "    .dataframe tbody tr th:only-of-type {\n",
       "        vertical-align: middle;\n",
       "    }\n",
       "\n",
       "    .dataframe tbody tr th {\n",
       "        vertical-align: top;\n",
       "    }\n",
       "\n",
       "    .dataframe thead th {\n",
       "        text-align: right;\n",
       "    }\n",
       "</style>\n",
       "<table border=\"1\" class=\"dataframe\">\n",
       "  <thead>\n",
       "    <tr style=\"text-align: right;\">\n",
       "      <th></th>\n",
       "      <th></th>\n",
       "      <th>Procedure.Heart Attack.Cost</th>\n",
       "      <th>Procedure.Heart Failure.Cost</th>\n",
       "      <th>Procedure.Pneumonia.Cost</th>\n",
       "      <th>Procedure.Hip Knee.Cost</th>\n",
       "      <th>IsFiveStarsNumeric</th>\n",
       "    </tr>\n",
       "    <tr>\n",
       "      <th>IsFiveStars</th>\n",
       "      <th>Rating.Overall</th>\n",
       "      <th></th>\n",
       "      <th></th>\n",
       "      <th></th>\n",
       "      <th></th>\n",
       "      <th></th>\n",
       "    </tr>\n",
       "  </thead>\n",
       "  <tbody>\n",
       "    <tr>\n",
       "      <th rowspan=\"4\" valign=\"top\">no</th>\n",
       "      <th>1</th>\n",
       "      <td>22427.339483</td>\n",
       "      <td>17056.701107</td>\n",
       "      <td>18239.287823</td>\n",
       "      <td>18269.701107</td>\n",
       "      <td>0.0</td>\n",
       "    </tr>\n",
       "    <tr>\n",
       "      <th>2</th>\n",
       "      <td>20173.769671</td>\n",
       "      <td>16821.941345</td>\n",
       "      <td>17905.409156</td>\n",
       "      <td>18215.424893</td>\n",
       "      <td>0.0</td>\n",
       "    </tr>\n",
       "    <tr>\n",
       "      <th>3</th>\n",
       "      <td>17119.291221</td>\n",
       "      <td>16604.453961</td>\n",
       "      <td>17373.066381</td>\n",
       "      <td>17698.450749</td>\n",
       "      <td>0.0</td>\n",
       "    </tr>\n",
       "    <tr>\n",
       "      <th>4</th>\n",
       "      <td>15422.066584</td>\n",
       "      <td>16630.794081</td>\n",
       "      <td>17226.147965</td>\n",
       "      <td>17907.131936</td>\n",
       "      <td>0.0</td>\n",
       "    </tr>\n",
       "    <tr>\n",
       "      <th>yes</th>\n",
       "      <th>5</th>\n",
       "      <td>19286.739910</td>\n",
       "      <td>16597.937220</td>\n",
       "      <td>17308.636771</td>\n",
       "      <td>18760.152466</td>\n",
       "      <td>1.0</td>\n",
       "    </tr>\n",
       "  </tbody>\n",
       "</table>\n",
       "</div>"
      ],
      "text/plain": [
       "                            Procedure.Heart Attack.Cost  \\\n",
       "IsFiveStars Rating.Overall                                \n",
       "no          1                              22427.339483   \n",
       "            2                              20173.769671   \n",
       "            3                              17119.291221   \n",
       "            4                              15422.066584   \n",
       "yes         5                              19286.739910   \n",
       "\n",
       "                            Procedure.Heart Failure.Cost  \\\n",
       "IsFiveStars Rating.Overall                                 \n",
       "no          1                               17056.701107   \n",
       "            2                               16821.941345   \n",
       "            3                               16604.453961   \n",
       "            4                               16630.794081   \n",
       "yes         5                               16597.937220   \n",
       "\n",
       "                            Procedure.Pneumonia.Cost  Procedure.Hip Knee.Cost  \\\n",
       "IsFiveStars Rating.Overall                                                      \n",
       "no          1                           18239.287823             18269.701107   \n",
       "            2                           17905.409156             18215.424893   \n",
       "            3                           17373.066381             17698.450749   \n",
       "            4                           17226.147965             17907.131936   \n",
       "yes         5                           17308.636771             18760.152466   \n",
       "\n",
       "                            IsFiveStarsNumeric  \n",
       "IsFiveStars Rating.Overall                      \n",
       "no          1                              0.0  \n",
       "            2                              0.0  \n",
       "            3                              0.0  \n",
       "            4                              0.0  \n",
       "yes         5                              1.0  "
      ]
     },
     "execution_count": 151,
     "metadata": {},
     "output_type": "execute_result"
    }
   ],
   "source": [
    "df.groupby(['IsFiveStars','Rating.Overall']).mean()\n"
   ]
  },
  {
   "cell_type": "code",
   "execution_count": 628,
   "id": "polar-pizza",
   "metadata": {},
   "outputs": [],
   "source": [
    "# import numpy as np\n",
    "# from scipy.stats import entropy\n",
    "# from math import log, e\n"
   ]
  },
  {
   "cell_type": "code",
   "execution_count": 13,
   "id": "dominican-watershed",
   "metadata": {},
   "outputs": [],
   "source": [
    "def get_entropy(attribute):\n",
    "    ent = 0\n",
    "    sumValues = attribute.value_counts().sum()\n",
    "    #print('\\nsum of {} Values: {}'.format(attribute.name, sumValues))    \n",
    "    for value in attribute.value_counts():\n",
    "        #print('value: {}'.format(value))\n",
    "        ent -= ((value/sumValues) * log((value/sumValues), 2))\n",
    "    #print('ent -= ((value/sumValues) * log((value/sumValues), 2))')\n",
    "    #print('\\nEntropy of {}: {}'.format(attribute.name, ent))   \n",
    "    return ent"
   ]
  },
  {
   "cell_type": "code",
   "execution_count": 14,
   "id": "structural-banana",
   "metadata": {},
   "outputs": [],
   "source": [
    "\n",
    "def get_attribute_entropy(dataframe, attribute_name, target_name):\n",
    "\n",
    "    attributes_values = dataframe[attribute_name].value_counts()\n",
    "    \n",
    "    #print('\\nValue counts of {} by {}:'.format(attribute_name, target_name))\n",
    "    #print(attributes_values)\n",
    "    #print(\"\")\n",
    "    #print('Total count of {} by {}: {}'.format(attribute_name, target_name, attributes_values.sum()))    \n",
    "    #print(\"\")\n",
    "\n",
    "    attrib_by_target_counts = dataframe.groupby([attribute_name,target_name])[attribute_name].count()\n",
    "    \n",
    "    #print('Count of {} by {}: '.format(attribute_name, target_name))\n",
    "    #print(attrib_by_target_counts)\n",
    "    #print(\"\")\n",
    "    \n",
    "    entropy = 0\n",
    "\n",
    "    for attrib_values in attributes_values.index:\n",
    "\n",
    "        result = 0\n",
    "        att_ratio = 0    \n",
    "        count_attrib_by_target = 0\n",
    "        name = ''\n",
    "        temp = 0\n",
    "    \n",
    "        for att_count, value in zip(attrib_by_target_counts, attrib_by_target_counts.index):\n",
    "\n",
    "            if attrib_values == value[0]:        \n",
    "                # entropy_mid = -( (2/4 * log(2/4, 2)) +  (2/4 * log(2/4, 2)) ) * 4/10            \n",
    "                #print('att_count: {} total: {} value: {}'.format(att_count, attributes_values.loc[value[0]], value[0] ))        \n",
    "                temp = attributes_values.loc[value[0]]\n",
    "                att_ratio = att_count / temp\n",
    "                result += (att_ratio * log(att_ratio, 2))            \n",
    "                count_attrib_by_target = temp                  \n",
    "                name = value[0]\n",
    "\n",
    "        #print('att name:{}, entropy: {}'.format(name, ( (-result) * (count_attrib_by_target/attributes_values.sum())) ))\n",
    "        entropy += ( (-result) * (count_attrib_by_target/attributes_values.sum()))\n",
    "      \n",
    "    #print('Entropy({},{}): {}'.format(target_name, attribute_name, entropy) )\n",
    "    return entropy                \n",
    "    \n"
   ]
  },
  {
   "cell_type": "code",
   "execution_count": 15,
   "id": "widespread-marks",
   "metadata": {},
   "outputs": [],
   "source": [
    "def get_information_gain(dataframe, attribute_list, target_name ):\n",
    "    \n",
    "    target_attribute = []\n",
    "    entropy_target = []\n",
    "    entropy_attr = []\n",
    "    ig_score = []\n",
    "    \n",
    "    entropy = 0\n",
    "    \n",
    "    # Get entropy from target\n",
    "    target_entropy = get_entropy(dataframe[target_name])\n",
    "    #print('Target entropy: {}'.format(target_entropy))\n",
    "    \n",
    "    for attribute in attribute_list:        \n",
    "        \n",
    "        name = '({},{})'.format(target_name, attribute)        \n",
    "        entropy = get_attribute_entropy(dataframe, attribute, target_name)        \n",
    "        \n",
    "        target_attribute.append(name)\n",
    "        entropy_target.append(target_entropy)\n",
    "        entropy_attr.append(entropy)\n",
    "        ig_score.append(target_entropy - entropy)\n",
    "        \n",
    "        entropy = 0\n",
    "        name = ''\n",
    "        \n",
    "    \n",
    "    record = { \n",
    "        'target_attribute' : target_attribute, \n",
    "        'entropy_target': entropy_target, \n",
    "        'entropy_attr' : entropy_attr, \n",
    "        'ig_score' : ig_score \n",
    "    }    \n",
    "    \n",
    "    dframe = pd.DataFrame(record, columns = ['target_attribute', 'entropy_target', 'entropy_attr', 'ig_score'])\n",
    "    return dframe.sort_values(['ig_score'],ascending=False)\n",
    "    "
   ]
  },
  {
   "cell_type": "code",
   "execution_count": 152,
   "id": "later-length",
   "metadata": {},
   "outputs": [
    {
     "data": {
      "text/html": [
       "<div>\n",
       "<style scoped>\n",
       "    .dataframe tbody tr th:only-of-type {\n",
       "        vertical-align: middle;\n",
       "    }\n",
       "\n",
       "    .dataframe tbody tr th {\n",
       "        vertical-align: top;\n",
       "    }\n",
       "\n",
       "    .dataframe thead th {\n",
       "        text-align: right;\n",
       "    }\n",
       "</style>\n",
       "<table border=\"1\" class=\"dataframe\">\n",
       "  <thead>\n",
       "    <tr style=\"text-align: right;\">\n",
       "      <th></th>\n",
       "      <th>target_attribute</th>\n",
       "      <th>entropy_target</th>\n",
       "      <th>entropy_attr</th>\n",
       "      <th>ig_score</th>\n",
       "    </tr>\n",
       "  </thead>\n",
       "  <tbody>\n",
       "    <tr>\n",
       "      <th>1</th>\n",
       "      <td>(IsFiveStars,Rating.Readmission)</td>\n",
       "      <td>0.387572</td>\n",
       "      <td>0.331078</td>\n",
       "      <td>0.056495</td>\n",
       "    </tr>\n",
       "    <tr>\n",
       "      <th>2</th>\n",
       "      <td>(IsFiveStars,Rating.Experience)</td>\n",
       "      <td>0.387572</td>\n",
       "      <td>0.336546</td>\n",
       "      <td>0.051026</td>\n",
       "    </tr>\n",
       "    <tr>\n",
       "      <th>0</th>\n",
       "      <td>(IsFiveStars,Rating.Mortality)</td>\n",
       "      <td>0.387572</td>\n",
       "      <td>0.362911</td>\n",
       "      <td>0.024661</td>\n",
       "    </tr>\n",
       "    <tr>\n",
       "      <th>8</th>\n",
       "      <td>(IsFiveStars,Procedure.Pneumonia.Quality)</td>\n",
       "      <td>0.387572</td>\n",
       "      <td>0.368436</td>\n",
       "      <td>0.019136</td>\n",
       "    </tr>\n",
       "    <tr>\n",
       "      <th>5</th>\n",
       "      <td>(IsFiveStars,Procedure.Heart Failure.Quality)</td>\n",
       "      <td>0.387572</td>\n",
       "      <td>0.377855</td>\n",
       "      <td>0.009717</td>\n",
       "    </tr>\n",
       "    <tr>\n",
       "      <th>3</th>\n",
       "      <td>(IsFiveStars,Rating.Effectiveness)</td>\n",
       "      <td>0.387572</td>\n",
       "      <td>0.382687</td>\n",
       "      <td>0.004885</td>\n",
       "    </tr>\n",
       "    <tr>\n",
       "      <th>4</th>\n",
       "      <td>(IsFiveStars,Rating.Timeliness)</td>\n",
       "      <td>0.387572</td>\n",
       "      <td>0.383256</td>\n",
       "      <td>0.004316</td>\n",
       "    </tr>\n",
       "    <tr>\n",
       "      <th>7</th>\n",
       "      <td>(IsFiveStars,Procedure.Pneumonia.Value)</td>\n",
       "      <td>0.387572</td>\n",
       "      <td>0.386299</td>\n",
       "      <td>0.001274</td>\n",
       "    </tr>\n",
       "    <tr>\n",
       "      <th>6</th>\n",
       "      <td>(IsFiveStars,Procedure.Heart Failure.Value)</td>\n",
       "      <td>0.387572</td>\n",
       "      <td>0.387313</td>\n",
       "      <td>0.000259</td>\n",
       "    </tr>\n",
       "  </tbody>\n",
       "</table>\n",
       "</div>"
      ],
      "text/plain": [
       "                                target_attribute  entropy_target  \\\n",
       "1               (IsFiveStars,Rating.Readmission)        0.387572   \n",
       "2                (IsFiveStars,Rating.Experience)        0.387572   \n",
       "0                 (IsFiveStars,Rating.Mortality)        0.387572   \n",
       "8      (IsFiveStars,Procedure.Pneumonia.Quality)        0.387572   \n",
       "5  (IsFiveStars,Procedure.Heart Failure.Quality)        0.387572   \n",
       "3             (IsFiveStars,Rating.Effectiveness)        0.387572   \n",
       "4                (IsFiveStars,Rating.Timeliness)        0.387572   \n",
       "7        (IsFiveStars,Procedure.Pneumonia.Value)        0.387572   \n",
       "6    (IsFiveStars,Procedure.Heart Failure.Value)        0.387572   \n",
       "\n",
       "   entropy_attr  ig_score  \n",
       "1      0.331078  0.056495  \n",
       "2      0.336546  0.051026  \n",
       "0      0.362911  0.024661  \n",
       "8      0.368436  0.019136  \n",
       "5      0.377855  0.009717  \n",
       "3      0.382687  0.004885  \n",
       "4      0.383256  0.004316  \n",
       "7      0.386299  0.001274  \n",
       "6      0.387313  0.000259  "
      ]
     },
     "execution_count": 152,
     "metadata": {},
     "output_type": "execute_result"
    }
   ],
   "source": [
    "result_scores = get_information_gain(df, categorical_features,'IsFiveStars')\n",
    "result_scores\n"
   ]
  },
  {
   "cell_type": "code",
   "execution_count": 153,
   "id": "improving-shopper",
   "metadata": {},
   "outputs": [
    {
     "name": "stdout",
     "output_type": "stream",
     "text": [
      "(2056, 27)\n",
      "(882, 27)\n",
      "DecisionTrees's Accuracy:  0.927437641723356\n"
     ]
    }
   ],
   "source": [
    "\n",
    "from sklearn.model_selection import train_test_split\n",
    "from sklearn.tree import DecisionTreeClassifier\n",
    "from sklearn import metrics\n",
    "\n",
    "y = df[\"IsFiveStarsNumeric\"]\n",
    "X = pd.get_dummies(df[categorical_features])\n",
    "\n",
    "\n",
    "X_train, X_test, y_train, y_test = train_test_split(X, y, test_size=0.3, random_state=3)\n",
    "\n",
    "\n",
    "print(X_train.shape)\n",
    "print(X_test.shape)\n",
    "\n",
    "\n",
    "treeClassifier = DecisionTreeClassifier(criterion=\"entropy\", max_depth = 4)\n",
    "treeClassifier\n",
    "\n",
    "treeClassifier.fit(X_train,y_train)\n",
    "\n",
    "predTree = treeClassifier.predict(X_test)\n",
    "\n",
    "#print (predTree [0:5])\n",
    "#print (y_test [0:5])\n",
    "\n",
    "print(\"DecisionTrees's Accuracy: \", metrics.accuracy_score(y_test, predTree))\n",
    "\n"
   ]
  },
  {
   "cell_type": "code",
   "execution_count": 154,
   "id": "adult-hazard",
   "metadata": {},
   "outputs": [
    {
     "data": {
      "text/plain": [
       "0.9260786170968505"
      ]
     },
     "execution_count": 154,
     "metadata": {},
     "output_type": "execute_result"
    }
   ],
   "source": [
    "from sklearn.ensemble import RandomForestClassifier\n",
    "from sklearn.model_selection import cross_val_score\n",
    "forest_clf = RandomForestClassifier(n_estimators=100, random_state=42)\n",
    "\n",
    "forest_clf.fit(X_train, y_train)\n",
    "\n",
    "forest_scores = cross_val_score(forest_clf, X_train, y_train, cv=10)\n",
    "forest_scores.mean()"
   ]
  },
  {
   "cell_type": "code",
   "execution_count": 155,
   "id": "possible-hebrew",
   "metadata": {},
   "outputs": [
    {
     "name": "stdout",
     "output_type": "stream",
     "text": [
      "0.9240362811791383\n"
     ]
    }
   ],
   "source": [
    "y_predict_class = forest_clf.predict(X_test)\n",
    "\n",
    "print (metrics.accuracy_score(y_test, y_predict_class))\n"
   ]
  },
  {
   "cell_type": "code",
   "execution_count": 156,
   "id": "laden-clock",
   "metadata": {},
   "outputs": [
    {
     "data": {
      "text/plain": [
       "0    817\n",
       "1     65\n",
       "Name: IsFiveStarsNumeric, dtype: int64"
      ]
     },
     "execution_count": 156,
     "metadata": {},
     "output_type": "execute_result"
    }
   ],
   "source": [
    "y_test.value_counts()"
   ]
  },
  {
   "cell_type": "code",
   "execution_count": 157,
   "id": "capable-devil",
   "metadata": {},
   "outputs": [
    {
     "data": {
      "text/plain": [
       "0.07369614512471655"
      ]
     },
     "execution_count": 157,
     "metadata": {},
     "output_type": "execute_result"
    }
   ],
   "source": [
    "y_test.mean()"
   ]
  },
  {
   "cell_type": "code",
   "execution_count": 158,
   "id": "flexible-escape",
   "metadata": {},
   "outputs": [
    {
     "name": "stdout",
     "output_type": "stream",
     "text": [
      "[[804  13]\n",
      " [ 54  11]]\n"
     ]
    },
    {
     "data": {
      "text/plain": [
       "<AxesSubplot:>"
      ]
     },
     "execution_count": 158,
     "metadata": {},
     "output_type": "execute_result"
    },
    {
     "data": {
      "image/png": "[encoded data removed]",
      "text/plain": [
       "<Figure size 288x288 with 2 Axes>"
      ]
     },
     "metadata": {},
     "output_type": "display_data"
    }
   ],
   "source": [
    "from sklearn.metrics import confusion_matrix\n",
    "\n",
    "\n",
    "print(confusion_matrix(y_test, y_predict_class))\n",
    "\n",
    "\n",
    "plt.subplots(figsize=(4,4))\n",
    "sns.heatmap(confusion_matrix(y_test, y_predict_class), annot=True, fmt=\"d\")"
   ]
  },
  {
   "cell_type": "code",
   "execution_count": 119,
   "id": "noted-thursday",
   "metadata": {},
   "outputs": [
    {
     "data": {
      "text/plain": [
       "(array([[  0.,   6.,  17.,   6.,   0., 103.,  24., 726.],\n",
       "        [726.,  24., 103.,   0.,   6.,  17.,   6.,   0.]]),\n",
       " array([0.   , 0.125, 0.25 , 0.375, 0.5  , 0.625, 0.75 , 0.875, 1.   ]),\n",
       " <a list of 2 BarContainer objects>)"
      ]
     },
     "execution_count": 119,
     "metadata": {},
     "output_type": "execute_result"
    },
    {
     "data": {
      "image/png": "[encoded data removed]",
      "text/plain": [
       "<Figure size 432x288 with 1 Axes>"
      ]
     },
     "metadata": {},
     "output_type": "display_data"
    }
   ],
   "source": [
    "y_predict_prob = forest_clf.predict_proba(X_test)\n",
    "\n",
    "plt.hist(y_predict_prob, bins=8)\n"
   ]
  },
  {
   "cell_type": "code",
   "execution_count": 122,
   "id": "fifth-slovak",
   "metadata": {},
   "outputs": [
    {
     "data": {
      "text/plain": [
       "0.8312346754419926"
      ]
     },
     "execution_count": 122,
     "metadata": {},
     "output_type": "execute_result"
    }
   ],
   "source": [
    "cross_val_score(forest_clf, X_test, y_test, cv=10, scoring='roc_auc').mean()\n"
   ]
  },
  {
   "cell_type": "code",
   "execution_count": 159,
   "id": "instrumental-explanation",
   "metadata": {},
   "outputs": [
    {
     "data": {
      "text/html": [
       "<div>\n",
       "<style scoped>\n",
       "    .dataframe tbody tr th:only-of-type {\n",
       "        vertical-align: middle;\n",
       "    }\n",
       "\n",
       "    .dataframe tbody tr th {\n",
       "        vertical-align: top;\n",
       "    }\n",
       "\n",
       "    .dataframe thead th {\n",
       "        text-align: right;\n",
       "    }\n",
       "</style>\n",
       "<table border=\"1\" class=\"dataframe\">\n",
       "  <thead>\n",
       "    <tr style=\"text-align: right;\">\n",
       "      <th></th>\n",
       "      <th>feature</th>\n",
       "      <th>importance</th>\n",
       "    </tr>\n",
       "  </thead>\n",
       "  <tbody>\n",
       "    <tr>\n",
       "      <th>3</th>\n",
       "      <td>Rating.Readmission_Above</td>\n",
       "      <td>0.396786</td>\n",
       "    </tr>\n",
       "    <tr>\n",
       "      <th>6</th>\n",
       "      <td>Rating.Experience_Above</td>\n",
       "      <td>0.190474</td>\n",
       "    </tr>\n",
       "    <tr>\n",
       "      <th>0</th>\n",
       "      <td>Rating.Mortality_Above</td>\n",
       "      <td>0.182487</td>\n",
       "    </tr>\n",
       "    <tr>\n",
       "      <th>25</th>\n",
       "      <td>Procedure.Pneumonia.Quality_Better</td>\n",
       "      <td>0.135620</td>\n",
       "    </tr>\n",
       "    <tr>\n",
       "      <th>1</th>\n",
       "      <td>Rating.Mortality_Below</td>\n",
       "      <td>0.035159</td>\n",
       "    </tr>\n",
       "    <tr>\n",
       "      <th>21</th>\n",
       "      <td>Procedure.Pneumonia.Value_Average</td>\n",
       "      <td>0.024694</td>\n",
       "    </tr>\n",
       "    <tr>\n",
       "      <th>7</th>\n",
       "      <td>Rating.Experience_Below</td>\n",
       "      <td>0.017463</td>\n",
       "    </tr>\n",
       "    <tr>\n",
       "      <th>11</th>\n",
       "      <td>Rating.Effectiveness_Same</td>\n",
       "      <td>0.017317</td>\n",
       "    </tr>\n",
       "    <tr>\n",
       "      <th>16</th>\n",
       "      <td>Procedure.Heart Failure.Quality_Better</td>\n",
       "      <td>0.000000</td>\n",
       "    </tr>\n",
       "    <tr>\n",
       "      <th>24</th>\n",
       "      <td>Procedure.Pneumonia.Quality_Average</td>\n",
       "      <td>0.000000</td>\n",
       "    </tr>\n",
       "    <tr>\n",
       "      <th>23</th>\n",
       "      <td>Procedure.Pneumonia.Value_Lower</td>\n",
       "      <td>0.000000</td>\n",
       "    </tr>\n",
       "    <tr>\n",
       "      <th>22</th>\n",
       "      <td>Procedure.Pneumonia.Value_Higher</td>\n",
       "      <td>0.000000</td>\n",
       "    </tr>\n",
       "    <tr>\n",
       "      <th>20</th>\n",
       "      <td>Procedure.Heart Failure.Value_Lower</td>\n",
       "      <td>0.000000</td>\n",
       "    </tr>\n",
       "    <tr>\n",
       "      <th>19</th>\n",
       "      <td>Procedure.Heart Failure.Value_Higher</td>\n",
       "      <td>0.000000</td>\n",
       "    </tr>\n",
       "    <tr>\n",
       "      <th>18</th>\n",
       "      <td>Procedure.Heart Failure.Value_Average</td>\n",
       "      <td>0.000000</td>\n",
       "    </tr>\n",
       "    <tr>\n",
       "      <th>17</th>\n",
       "      <td>Procedure.Heart Failure.Quality_Worse</td>\n",
       "      <td>0.000000</td>\n",
       "    </tr>\n",
       "    <tr>\n",
       "      <th>13</th>\n",
       "      <td>Rating.Timeliness_Below</td>\n",
       "      <td>0.000000</td>\n",
       "    </tr>\n",
       "    <tr>\n",
       "      <th>15</th>\n",
       "      <td>Procedure.Heart Failure.Quality_Average</td>\n",
       "      <td>0.000000</td>\n",
       "    </tr>\n",
       "    <tr>\n",
       "      <th>14</th>\n",
       "      <td>Rating.Timeliness_Same</td>\n",
       "      <td>0.000000</td>\n",
       "    </tr>\n",
       "    <tr>\n",
       "      <th>12</th>\n",
       "      <td>Rating.Timeliness_Above</td>\n",
       "      <td>0.000000</td>\n",
       "    </tr>\n",
       "    <tr>\n",
       "      <th>10</th>\n",
       "      <td>Rating.Effectiveness_Below</td>\n",
       "      <td>0.000000</td>\n",
       "    </tr>\n",
       "    <tr>\n",
       "      <th>9</th>\n",
       "      <td>Rating.Effectiveness_Above</td>\n",
       "      <td>0.000000</td>\n",
       "    </tr>\n",
       "    <tr>\n",
       "      <th>8</th>\n",
       "      <td>Rating.Experience_Same</td>\n",
       "      <td>0.000000</td>\n",
       "    </tr>\n",
       "    <tr>\n",
       "      <th>5</th>\n",
       "      <td>Rating.Readmission_Same</td>\n",
       "      <td>0.000000</td>\n",
       "    </tr>\n",
       "    <tr>\n",
       "      <th>4</th>\n",
       "      <td>Rating.Readmission_Below</td>\n",
       "      <td>0.000000</td>\n",
       "    </tr>\n",
       "    <tr>\n",
       "      <th>2</th>\n",
       "      <td>Rating.Mortality_Same</td>\n",
       "      <td>0.000000</td>\n",
       "    </tr>\n",
       "    <tr>\n",
       "      <th>26</th>\n",
       "      <td>Procedure.Pneumonia.Quality_Worse</td>\n",
       "      <td>0.000000</td>\n",
       "    </tr>\n",
       "  </tbody>\n",
       "</table>\n",
       "</div>"
      ],
      "text/plain": [
       "                                    feature  importance\n",
       "3                  Rating.Readmission_Above    0.396786\n",
       "6                   Rating.Experience_Above    0.190474\n",
       "0                    Rating.Mortality_Above    0.182487\n",
       "25       Procedure.Pneumonia.Quality_Better    0.135620\n",
       "1                    Rating.Mortality_Below    0.035159\n",
       "21        Procedure.Pneumonia.Value_Average    0.024694\n",
       "7                   Rating.Experience_Below    0.017463\n",
       "11                Rating.Effectiveness_Same    0.017317\n",
       "16   Procedure.Heart Failure.Quality_Better    0.000000\n",
       "24      Procedure.Pneumonia.Quality_Average    0.000000\n",
       "23          Procedure.Pneumonia.Value_Lower    0.000000\n",
       "22         Procedure.Pneumonia.Value_Higher    0.000000\n",
       "20      Procedure.Heart Failure.Value_Lower    0.000000\n",
       "19     Procedure.Heart Failure.Value_Higher    0.000000\n",
       "18    Procedure.Heart Failure.Value_Average    0.000000\n",
       "17    Procedure.Heart Failure.Quality_Worse    0.000000\n",
       "13                  Rating.Timeliness_Below    0.000000\n",
       "15  Procedure.Heart Failure.Quality_Average    0.000000\n",
       "14                   Rating.Timeliness_Same    0.000000\n",
       "12                  Rating.Timeliness_Above    0.000000\n",
       "10               Rating.Effectiveness_Below    0.000000\n",
       "9                Rating.Effectiveness_Above    0.000000\n",
       "8                    Rating.Experience_Same    0.000000\n",
       "5                   Rating.Readmission_Same    0.000000\n",
       "4                  Rating.Readmission_Below    0.000000\n",
       "2                     Rating.Mortality_Same    0.000000\n",
       "26        Procedure.Pneumonia.Quality_Worse    0.000000"
      ]
     },
     "execution_count": 159,
     "metadata": {},
     "output_type": "execute_result"
    }
   ],
   "source": [
    "fred = pd.DataFrame({'feature':X_train.columns, 'importance':treeClassifier.feature_importances_}).sort_values(['importance'],ascending=False)\n",
    "fred\n"
   ]
  },
  {
   "cell_type": "code",
   "execution_count": 39,
   "id": "spiritual-jungle",
   "metadata": {},
   "outputs": [
    {
     "name": "stdout",
     "output_type": "stream",
     "text": [
      "[0 1]\n"
     ]
    },
    {
     "data": {
      "text/plain": [
       "Index(['Rating.Mortality_Above', 'Rating.Mortality_Below',\n",
       "       'Rating.Mortality_Same', 'Rating.Readmission_Above',\n",
       "       'Rating.Readmission_Below', 'Rating.Readmission_Same',\n",
       "       'Rating.Experience_Above', 'Rating.Experience_Below',\n",
       "       'Rating.Experience_Same', 'Rating.Effectiveness_Above',\n",
       "       'Rating.Effectiveness_Below', 'Rating.Effectiveness_Same',\n",
       "       'Rating.Timeliness_Above', 'Rating.Timeliness_Below',\n",
       "       'Rating.Timeliness_Same', 'Procedure.Heart Failure.Quality_Average',\n",
       "       'Procedure.Heart Failure.Quality_Better',\n",
       "       'Procedure.Heart Failure.Quality_Worse',\n",
       "       'Procedure.Heart Failure.Value_Average',\n",
       "       'Procedure.Heart Failure.Value_Higher',\n",
       "       'Procedure.Heart Failure.Value_Lower',\n",
       "       'Procedure.Pneumonia.Value_Average', 'Procedure.Pneumonia.Value_Higher',\n",
       "       'Procedure.Pneumonia.Value_Lower',\n",
       "       'Procedure.Pneumonia.Quality_Average',\n",
       "       'Procedure.Pneumonia.Quality_Better',\n",
       "       'Procedure.Pneumonia.Quality_Worse'],\n",
       "      dtype='object')"
      ]
     },
     "execution_count": 39,
     "metadata": {},
     "output_type": "execute_result"
    }
   ],
   "source": [
    "print(np.unique(y_train))\n",
    "X_train.columns\n",
    "#X"
   ]
  },
  {
   "cell_type": "code",
   "execution_count": 82,
   "id": "different-pavilion",
   "metadata": {},
   "outputs": [
    {
     "data": {
      "text/plain": [
       "'Source.gv.pdf'"
      ]
     },
     "execution_count": 82,
     "metadata": {},
     "output_type": "execute_result"
    }
   ],
   "source": [
    "from  io import StringIO\n",
    "import graphviz\n",
    "import pydotplus\n",
    "import matplotlib.image as mpimg\n",
    "from sklearn import tree\n",
    "%matplotlib inline \n",
    "\n",
    "featureNames = X_train.columns\n",
    "\n",
    "dot_data=tree.export_graphviz(treeClassifier,                         \n",
    "                         out_file=None, \n",
    "                         feature_names=featureNames, \n",
    "                         class_names= np.unique(y_train), \n",
    "                         filled=True, rounded=True,  \n",
    "                         special_characters=True,\n",
    "                         rotate=False)  \n",
    "\n",
    "graph = graphviz.Source(dot_data)  \n",
    "#graph \n",
    "\n",
    "graph.view()\n"
   ]
  },
  {
   "cell_type": "code",
   "execution_count": 63,
   "id": "upper-native",
   "metadata": {},
   "outputs": [],
   "source": [
    "\n",
    "df_numAttrib = pd.DataFrame()\n",
    "\n",
    "df_numAttrib = df.copy()\n",
    "\n",
    "rating1 = {'Above': 3, 'Same': 2, 'Below': 1}\n",
    "df_numAttrib['Rating.Mortality'] = df_numAttrib['Rating.Mortality'].map(rating1)\n",
    "df_numAttrib['Rating.Readmission'] = df_numAttrib['Rating.Readmission'].map(rating1)\n",
    "df_numAttrib['Rating.Experience'] = df_numAttrib['Rating.Experience'].map(rating1)\n",
    "df_numAttrib['Rating.Effectiveness'] = df_numAttrib['Rating.Effectiveness'].map(rating1)\n",
    "df_numAttrib['Rating.Timeliness'] = df_numAttrib['Rating.Timeliness'].map(rating1)\n",
    "\n",
    "rating2 = {'Better': 3, 'Average': 2, 'Worse': 1}\n",
    "df_numAttrib['Procedure.Heart Failure.Quality'] = df_numAttrib['Procedure.Heart Failure.Quality'].map(rating2)\n",
    "df_numAttrib['Procedure.Pneumonia.Quality'] = df_numAttrib['Procedure.Pneumonia.Quality'].map(rating2)\n",
    "\n",
    "\n",
    "rating3 = {'Higher': 3, 'Average': 2, 'Lower': 1}\n",
    "df_numAttrib['Procedure.Heart Failure.Value'] = df_numAttrib['Procedure.Heart Failure.Value'].map(rating3)\n",
    "df_numAttrib['Procedure.Pneumonia.Value'] = df_numAttrib['Procedure.Pneumonia.Value'].map(rating3)\n"
   ]
  },
  {
   "cell_type": "code",
   "execution_count": 65,
   "id": "quiet-python",
   "metadata": {},
   "outputs": [
    {
     "data": {
      "text/html": [
       "<div>\n",
       "<style scoped>\n",
       "    .dataframe tbody tr th:only-of-type {\n",
       "        vertical-align: middle;\n",
       "    }\n",
       "\n",
       "    .dataframe tbody tr th {\n",
       "        vertical-align: top;\n",
       "    }\n",
       "\n",
       "    .dataframe thead th {\n",
       "        text-align: right;\n",
       "    }\n",
       "</style>\n",
       "<table border=\"1\" class=\"dataframe\">\n",
       "  <thead>\n",
       "    <tr style=\"text-align: right;\">\n",
       "      <th></th>\n",
       "      <th>Rating.Mortality</th>\n",
       "      <th>Rating.Readmission</th>\n",
       "      <th>Rating.Experience</th>\n",
       "      <th>Rating.Effectiveness</th>\n",
       "      <th>Rating.Timeliness</th>\n",
       "      <th>Procedure.Heart Failure.Quality</th>\n",
       "      <th>Procedure.Heart Failure.Value</th>\n",
       "      <th>Procedure.Pneumonia.Value</th>\n",
       "      <th>Procedure.Pneumonia.Quality</th>\n",
       "    </tr>\n",
       "  </thead>\n",
       "  <tbody>\n",
       "    <tr>\n",
       "      <th>0</th>\n",
       "      <td>1</td>\n",
       "      <td>1</td>\n",
       "      <td>1</td>\n",
       "      <td>2</td>\n",
       "      <td>3</td>\n",
       "      <td>2</td>\n",
       "      <td>2</td>\n",
       "      <td>2</td>\n",
       "      <td>2</td>\n",
       "    </tr>\n",
       "    <tr>\n",
       "      <th>1</th>\n",
       "      <td>1</td>\n",
       "      <td>1</td>\n",
       "      <td>2</td>\n",
       "      <td>3</td>\n",
       "      <td>3</td>\n",
       "      <td>1</td>\n",
       "      <td>2</td>\n",
       "      <td>1</td>\n",
       "      <td>1</td>\n",
       "    </tr>\n",
       "    <tr>\n",
       "      <th>2</th>\n",
       "      <td>1</td>\n",
       "      <td>3</td>\n",
       "      <td>1</td>\n",
       "      <td>2</td>\n",
       "      <td>3</td>\n",
       "      <td>2</td>\n",
       "      <td>2</td>\n",
       "      <td>2</td>\n",
       "      <td>2</td>\n",
       "    </tr>\n",
       "    <tr>\n",
       "      <th>3</th>\n",
       "      <td>2</td>\n",
       "      <td>1</td>\n",
       "      <td>1</td>\n",
       "      <td>1</td>\n",
       "      <td>3</td>\n",
       "      <td>2</td>\n",
       "      <td>1</td>\n",
       "      <td>1</td>\n",
       "      <td>1</td>\n",
       "    </tr>\n",
       "    <tr>\n",
       "      <th>5</th>\n",
       "      <td>2</td>\n",
       "      <td>1</td>\n",
       "      <td>1</td>\n",
       "      <td>1</td>\n",
       "      <td>1</td>\n",
       "      <td>2</td>\n",
       "      <td>2</td>\n",
       "      <td>2</td>\n",
       "      <td>2</td>\n",
       "    </tr>\n",
       "    <tr>\n",
       "      <th>6</th>\n",
       "      <td>1</td>\n",
       "      <td>1</td>\n",
       "      <td>1</td>\n",
       "      <td>2</td>\n",
       "      <td>3</td>\n",
       "      <td>2</td>\n",
       "      <td>2</td>\n",
       "      <td>2</td>\n",
       "      <td>1</td>\n",
       "    </tr>\n",
       "    <tr>\n",
       "      <th>7</th>\n",
       "      <td>2</td>\n",
       "      <td>3</td>\n",
       "      <td>1</td>\n",
       "      <td>2</td>\n",
       "      <td>2</td>\n",
       "      <td>2</td>\n",
       "      <td>3</td>\n",
       "      <td>3</td>\n",
       "      <td>2</td>\n",
       "    </tr>\n",
       "    <tr>\n",
       "      <th>9</th>\n",
       "      <td>2</td>\n",
       "      <td>1</td>\n",
       "      <td>2</td>\n",
       "      <td>2</td>\n",
       "      <td>3</td>\n",
       "      <td>2</td>\n",
       "      <td>2</td>\n",
       "      <td>2</td>\n",
       "      <td>2</td>\n",
       "    </tr>\n",
       "    <tr>\n",
       "      <th>10</th>\n",
       "      <td>2</td>\n",
       "      <td>2</td>\n",
       "      <td>3</td>\n",
       "      <td>2</td>\n",
       "      <td>3</td>\n",
       "      <td>2</td>\n",
       "      <td>2</td>\n",
       "      <td>2</td>\n",
       "      <td>2</td>\n",
       "    </tr>\n",
       "    <tr>\n",
       "      <th>11</th>\n",
       "      <td>2</td>\n",
       "      <td>3</td>\n",
       "      <td>3</td>\n",
       "      <td>2</td>\n",
       "      <td>2</td>\n",
       "      <td>2</td>\n",
       "      <td>2</td>\n",
       "      <td>1</td>\n",
       "      <td>2</td>\n",
       "    </tr>\n",
       "  </tbody>\n",
       "</table>\n",
       "</div>"
      ],
      "text/plain": [
       "    Rating.Mortality  Rating.Readmission  Rating.Experience  \\\n",
       "0                  1                   1                  1   \n",
       "1                  1                   1                  2   \n",
       "2                  1                   3                  1   \n",
       "3                  2                   1                  1   \n",
       "5                  2                   1                  1   \n",
       "6                  1                   1                  1   \n",
       "7                  2                   3                  1   \n",
       "9                  2                   1                  2   \n",
       "10                 2                   2                  3   \n",
       "11                 2                   3                  3   \n",
       "\n",
       "    Rating.Effectiveness  Rating.Timeliness  Procedure.Heart Failure.Quality  \\\n",
       "0                      2                  3                                2   \n",
       "1                      3                  3                                1   \n",
       "2                      2                  3                                2   \n",
       "3                      1                  3                                2   \n",
       "5                      1                  1                                2   \n",
       "6                      2                  3                                2   \n",
       "7                      2                  2                                2   \n",
       "9                      2                  3                                2   \n",
       "10                     2                  3                                2   \n",
       "11                     2                  2                                2   \n",
       "\n",
       "    Procedure.Heart Failure.Value  Procedure.Pneumonia.Value  \\\n",
       "0                               2                          2   \n",
       "1                               2                          1   \n",
       "2                               2                          2   \n",
       "3                               1                          1   \n",
       "5                               2                          2   \n",
       "6                               2                          2   \n",
       "7                               3                          3   \n",
       "9                               2                          2   \n",
       "10                              2                          2   \n",
       "11                              2                          1   \n",
       "\n",
       "    Procedure.Pneumonia.Quality  \n",
       "0                             2  \n",
       "1                             1  \n",
       "2                             2  \n",
       "3                             1  \n",
       "5                             2  \n",
       "6                             1  \n",
       "7                             2  \n",
       "9                             2  \n",
       "10                            2  \n",
       "11                            2  "
      ]
     },
     "execution_count": 65,
     "metadata": {},
     "output_type": "execute_result"
    }
   ],
   "source": [
    "df_numAttrib[categorical_features].head(10)"
   ]
  },
  {
   "cell_type": "code",
   "execution_count": 67,
   "id": "artificial-relation",
   "metadata": {},
   "outputs": [
    {
     "name": "stdout",
     "output_type": "stream",
     "text": [
      "(9, 4)\n"
     ]
    },
    {
     "data": {
      "text/html": [
       "<div>\n",
       "<style scoped>\n",
       "    .dataframe tbody tr th:only-of-type {\n",
       "        vertical-align: middle;\n",
       "    }\n",
       "\n",
       "    .dataframe tbody tr th {\n",
       "        vertical-align: top;\n",
       "    }\n",
       "\n",
       "    .dataframe thead th {\n",
       "        text-align: right;\n",
       "    }\n",
       "</style>\n",
       "<table border=\"1\" class=\"dataframe\">\n",
       "  <thead>\n",
       "    <tr style=\"text-align: right;\">\n",
       "      <th></th>\n",
       "      <th>target_attribute</th>\n",
       "      <th>entropy_target</th>\n",
       "      <th>entropy_attr</th>\n",
       "      <th>ig_score</th>\n",
       "    </tr>\n",
       "  </thead>\n",
       "  <tbody>\n",
       "    <tr>\n",
       "      <th>1</th>\n",
       "      <td>(IsFiveStars,Rating.Readmission)</td>\n",
       "      <td>0.387572</td>\n",
       "      <td>0.331078</td>\n",
       "      <td>0.056495</td>\n",
       "    </tr>\n",
       "    <tr>\n",
       "      <th>2</th>\n",
       "      <td>(IsFiveStars,Rating.Experience)</td>\n",
       "      <td>0.387572</td>\n",
       "      <td>0.336546</td>\n",
       "      <td>0.051026</td>\n",
       "    </tr>\n",
       "    <tr>\n",
       "      <th>0</th>\n",
       "      <td>(IsFiveStars,Rating.Mortality)</td>\n",
       "      <td>0.387572</td>\n",
       "      <td>0.362911</td>\n",
       "      <td>0.024661</td>\n",
       "    </tr>\n",
       "    <tr>\n",
       "      <th>8</th>\n",
       "      <td>(IsFiveStars,Procedure.Pneumonia.Quality)</td>\n",
       "      <td>0.387572</td>\n",
       "      <td>0.368436</td>\n",
       "      <td>0.019136</td>\n",
       "    </tr>\n",
       "    <tr>\n",
       "      <th>5</th>\n",
       "      <td>(IsFiveStars,Procedure.Heart Failure.Quality)</td>\n",
       "      <td>0.387572</td>\n",
       "      <td>0.377855</td>\n",
       "      <td>0.009717</td>\n",
       "    </tr>\n",
       "    <tr>\n",
       "      <th>3</th>\n",
       "      <td>(IsFiveStars,Rating.Effectiveness)</td>\n",
       "      <td>0.387572</td>\n",
       "      <td>0.382687</td>\n",
       "      <td>0.004885</td>\n",
       "    </tr>\n",
       "    <tr>\n",
       "      <th>4</th>\n",
       "      <td>(IsFiveStars,Rating.Timeliness)</td>\n",
       "      <td>0.387572</td>\n",
       "      <td>0.383256</td>\n",
       "      <td>0.004316</td>\n",
       "    </tr>\n",
       "    <tr>\n",
       "      <th>7</th>\n",
       "      <td>(IsFiveStars,Procedure.Pneumonia.Value)</td>\n",
       "      <td>0.387572</td>\n",
       "      <td>0.386299</td>\n",
       "      <td>0.001274</td>\n",
       "    </tr>\n",
       "    <tr>\n",
       "      <th>6</th>\n",
       "      <td>(IsFiveStars,Procedure.Heart Failure.Value)</td>\n",
       "      <td>0.387572</td>\n",
       "      <td>0.387313</td>\n",
       "      <td>0.000259</td>\n",
       "    </tr>\n",
       "  </tbody>\n",
       "</table>\n",
       "</div>"
      ],
      "text/plain": [
       "                                target_attribute  entropy_target  \\\n",
       "1               (IsFiveStars,Rating.Readmission)        0.387572   \n",
       "2                (IsFiveStars,Rating.Experience)        0.387572   \n",
       "0                 (IsFiveStars,Rating.Mortality)        0.387572   \n",
       "8      (IsFiveStars,Procedure.Pneumonia.Quality)        0.387572   \n",
       "5  (IsFiveStars,Procedure.Heart Failure.Quality)        0.387572   \n",
       "3             (IsFiveStars,Rating.Effectiveness)        0.387572   \n",
       "4                (IsFiveStars,Rating.Timeliness)        0.387572   \n",
       "7        (IsFiveStars,Procedure.Pneumonia.Value)        0.387572   \n",
       "6    (IsFiveStars,Procedure.Heart Failure.Value)        0.387572   \n",
       "\n",
       "   entropy_attr  ig_score  \n",
       "1      0.331078  0.056495  \n",
       "2      0.336546  0.051026  \n",
       "0      0.362911  0.024661  \n",
       "8      0.368436  0.019136  \n",
       "5      0.377855  0.009717  \n",
       "3      0.382687  0.004885  \n",
       "4      0.383256  0.004316  \n",
       "7      0.386299  0.001274  \n",
       "6      0.387313  0.000259  "
      ]
     },
     "execution_count": 67,
     "metadata": {},
     "output_type": "execute_result"
    }
   ],
   "source": [
    "result_scores2 = get_information_gain(df_numAttrib, categorical_features,'IsFiveStars')\n",
    "print(result_scores2.shape)\n",
    "result_scores2"
   ]
  },
  {
   "cell_type": "code",
   "execution_count": 70,
   "id": "unusual-virtue",
   "metadata": {},
   "outputs": [
    {
     "name": "stdout",
     "output_type": "stream",
     "text": [
      "(2056, 9)\n",
      "(882, 9)\n",
      "DecisionTrees's Accuracy:  0.9297052154195011\n"
     ]
    }
   ],
   "source": [
    "from sklearn.model_selection import train_test_split\n",
    "from sklearn.tree import DecisionTreeClassifier\n",
    "from sklearn import metrics\n",
    "\n",
    "y2 = df_numAttrib[\"IsFiveStars\"]\n",
    "X2 = df_numAttrib[categorical_features]\n",
    "\n",
    "\n",
    "X_train2, X_test2, y_train2, y_test2 = train_test_split(X2, y2, test_size=0.3, random_state=3)\n",
    "\n",
    "\n",
    "print(X_train2.shape)\n",
    "print(X_test2.shape)\n",
    "\n",
    "\n",
    "treeClassifier2 = DecisionTreeClassifier(criterion=\"entropy\", max_depth = 4)\n",
    "treeClassifier2\n",
    "\n",
    "treeClassifier2.fit(X_train2,y_train2)\n",
    "\n",
    "predTree2 = treeClassifier2.predict(X_test2)\n",
    "\n",
    "#print (predTree [0:5])\n",
    "#print (y_test [0:5])\n",
    "\n",
    "print(\"DecisionTrees's Accuracy: \", metrics.accuracy_score(y_test2, predTree2))"
   ]
  },
  {
   "cell_type": "code",
   "execution_count": 80,
   "id": "english-inventory",
   "metadata": {},
   "outputs": [
    {
     "name": "stdout",
     "output_type": "stream",
     "text": [
      "['no' 'yes']\n"
     ]
    },
    {
     "data": {
      "text/plain": [
       "Index(['Rating.Mortality', 'Rating.Readmission', 'Rating.Experience',\n",
       "       'Rating.Effectiveness', 'Rating.Timeliness',\n",
       "       'Procedure.Heart Failure.Quality', 'Procedure.Heart Failure.Value',\n",
       "       'Procedure.Pneumonia.Value', 'Procedure.Pneumonia.Quality'],\n",
       "      dtype='object')"
      ]
     },
     "execution_count": 80,
     "metadata": {},
     "output_type": "execute_result"
    }
   ],
   "source": [
    "print(np.unique(y_train2))\n",
    "X_train2.columns\n",
    "#X2"
   ]
  },
  {
   "cell_type": "code",
   "execution_count": 81,
   "id": "smoking-happiness",
   "metadata": {},
   "outputs": [
    {
     "data": {
      "text/plain": [
       "'Source.gv.pdf'"
      ]
     },
     "execution_count": 81,
     "metadata": {},
     "output_type": "execute_result"
    }
   ],
   "source": [
    "from  io import StringIO\n",
    "import graphviz\n",
    "import pydotplus\n",
    "import matplotlib.image as mpimg\n",
    "from sklearn import tree\n",
    "%matplotlib inline \n",
    "\n",
    "featureNames = X_train2.columns\n",
    "\n",
    "dot_data=tree.export_graphviz(treeClassifier2,                         \n",
    "                         out_file=None, \n",
    "                         feature_names=featureNames, \n",
    "                         class_names= np.unique(y_train2), \n",
    "                         filled=True, rounded=True,  \n",
    "                         special_characters=True,\n",
    "                         rotate=False)  \n",
    "\n",
    "graph = graphviz.Source(dot_data)  \n",
    "#graph \n",
    "\n",
    "graph.view()"
   ]
  },
  {
   "cell_type": "code",
   "execution_count": 86,
   "id": "assured-moore",
   "metadata": {},
   "outputs": [],
   "source": [
    "df_numAttrib['IsFiveStarsNumeric'] = df_numAttrib['Rating.Overall'].apply(lambda x:1 if x == 5 else 0)"
   ]
  },
  {
   "cell_type": "code",
   "execution_count": 87,
   "id": "czech-electric",
   "metadata": {},
   "outputs": [
    {
     "data": {
      "text/plain": [
       "<AxesSubplot:>"
      ]
     },
     "execution_count": 87,
     "metadata": {},
     "output_type": "execute_result"
    },
    {
     "data": {
      "image/png": "[encoded data removed]",
      "text/plain": [
       "<Figure size 1080x1080 with 2 Axes>"
      ]
     },
     "metadata": {},
     "output_type": "display_data"
    }
   ],
   "source": [
    "import seaborn as sns\n",
    "sns.set()\n",
    "\n",
    "plt.subplots(figsize=(15,15))\n",
    "sns.heatmap(df_numAttrib.corr(), annot=True)"
   ]
  },
  {
   "cell_type": "code",
   "execution_count": 161,
   "id": "controlled-trunk",
   "metadata": {},
   "outputs": [
    {
     "data": {
      "text/plain": [
       "<AxesSubplot:>"
      ]
     },
     "execution_count": 161,
     "metadata": {},
     "output_type": "execute_result"
    },
    {
     "data": {
      "image/png": "[encoded data removed]",
      "text/plain": [
       "<Figure size 288x288 with 2 Axes>"
      ]
     },
     "metadata": {},
     "output_type": "display_data"
    }
   ],
   "source": [
    "from sklearn.metrics import confusion_matrix\n",
    "plt.subplots(figsize=(4,4))\n",
    "sns.heatmap(confusion_matrix(y_test2, treeClassifier2.predict(X_test2)), annot=True, fmt=\"d\")"
   ]
  },
  {
   "cell_type": "code",
   "execution_count": null,
   "id": "negative-sharp",
   "metadata": {},
   "outputs": [],
   "source": []
  }
 ],
 "metadata": {
  "kernelspec": {
   "display_name": "Python 3.9 (XPython)",
   "language": "python",
   "name": "xpython"
  },
  "language_info": {
   "file_extension": ".py",
   "mimetype": "text/x-python",
   "name": "python",
   "version": "3.9.1"
  }
 },
 "nbformat": 4,
 "nbformat_minor": 5
}
