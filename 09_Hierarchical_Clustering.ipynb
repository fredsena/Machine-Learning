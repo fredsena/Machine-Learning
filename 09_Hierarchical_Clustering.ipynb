{
 "cells": [
  {
   "cell_type": "markdown",
   "id": "invisible-contributor",
   "metadata": {},
   "source": [
    "# Hierarchical Clustering - Agglomerative"
   ]
  },
  {
   "cell_type": "code",
   "execution_count": 53,
   "id": "convinced-genesis",
   "metadata": {},
   "outputs": [],
   "source": [
    "import numpy as np \n",
    "import pandas as pd\n",
    "from scipy import ndimage \n",
    "from scipy.cluster import hierarchy \n",
    "from scipy.spatial import distance_matrix \n",
    "from matplotlib import pyplot as plt \n",
    "from sklearn import manifold, datasets \n",
    "from sklearn.cluster import AgglomerativeClustering \n",
    "\n",
    "%matplotlib inline"
   ]
  },
  {
   "cell_type": "code",
   "execution_count": 54,
   "id": "covered-configuration",
   "metadata": {},
   "outputs": [],
   "source": [
    "def check_missing_data(dataset):  \n",
    "    print('Qtd rows X columns:{}'.format(dataset.shape))\n",
    "    print('\\nAre there any Missing values?:{}'.format(dataset.isnull().values.any()))\n",
    "    print('\\nTotal of missing ROWS values: {}'.format(dataset.shape[0] - dataset.dropna().shape[0]))    \n",
    "    print('\\nHas duplicated values? how to drop => df=df.drop_duplicates() \\n{}'.format(dataset.duplicated().value_counts()))    \n",
    "    print('\\nMissing values by columns:\\n{}'.format(dataset.isnull().sum()))\n",
    "    print('\\nTotal sum of missing values: {}'.format(dataset.isnull().sum().sum()))\n",
    "    print('\\n')\n",
    "    print(dataset.info())"
   ]
  },
  {
   "cell_type": "code",
   "execution_count": 55,
   "id": "handed-recipient",
   "metadata": {},
   "outputs": [],
   "source": [
    "pd.set_option('display.max_rows', None)\n",
    "pd.set_option('display.max_columns', None)"
   ]
  },
  {
   "cell_type": "code",
   "execution_count": 56,
   "id": "lucky-japan",
   "metadata": {},
   "outputs": [
    {
     "data": {
      "text/html": [
       "<div>\n",
       "<style scoped>\n",
       "    .dataframe tbody tr th:only-of-type {\n",
       "        vertical-align: middle;\n",
       "    }\n",
       "\n",
       "    .dataframe tbody tr th {\n",
       "        vertical-align: top;\n",
       "    }\n",
       "\n",
       "    .dataframe thead th {\n",
       "        text-align: right;\n",
       "    }\n",
       "</style>\n",
       "<table border=\"1\" class=\"dataframe\">\n",
       "  <thead>\n",
       "    <tr style=\"text-align: right;\">\n",
       "      <th></th>\n",
       "      <th>Unnamed: 0</th>\n",
       "      <th>page_url</th>\n",
       "      <th>number_bathrooms</th>\n",
       "      <th>number_bedrooms</th>\n",
       "      <th>description</th>\n",
       "      <th>display_address</th>\n",
       "      <th>features</th>\n",
       "      <th>manager_id</th>\n",
       "      <th>photos</th>\n",
       "      <th>price</th>\n",
       "      <th>number_of_views</th>\n",
       "      <th>created_at</th>\n",
       "      <th>price_period</th>\n",
       "    </tr>\n",
       "  </thead>\n",
       "  <tbody>\n",
       "    <tr>\n",
       "      <th>0</th>\n",
       "      <td>0</td>\n",
       "      <td>https://www.daft.ie/for-rent/apartment-2-bedro...</td>\n",
       "      <td>2</td>\n",
       "      <td>2</td>\n",
       "      <td>This elegant two bedroom apartment, offers inc...</td>\n",
       "      <td>2 Bedroom Apartment, Capital Dock Residence, G...</td>\n",
       "      <td>['Parking', 'Central Heating', 'Cable Televisi...</td>\n",
       "      <td>Eoin Grant</td>\n",
       "      <td>['https://photos.cdn.dsch.ie/OTRlZDA3YWQwNzFjO...</td>\n",
       "      <td>2970</td>\n",
       "      <td>22239</td>\n",
       "      <td>2021-03-18</td>\n",
       "      <td>month</td>\n",
       "    </tr>\n",
       "    <tr>\n",
       "      <th>1</th>\n",
       "      <td>1</td>\n",
       "      <td>https://www.daft.ie/for-rent/apartment-three-b...</td>\n",
       "      <td>2</td>\n",
       "      <td>3</td>\n",
       "      <td>This elegant three bedroom apartment, in Dubli...</td>\n",
       "      <td>Three Bedroom Apartment, Capital Dock Residenc...</td>\n",
       "      <td>['Parking', 'Central Heating', 'Cable Televisi...</td>\n",
       "      <td>Eoin Grant</td>\n",
       "      <td>['https://photos.cdn.dsch.ie/NmYxOWJhM2M5NTVlM...</td>\n",
       "      <td>3690</td>\n",
       "      <td>2763</td>\n",
       "      <td>2021-03-18</td>\n",
       "      <td>month</td>\n",
       "    </tr>\n",
       "    <tr>\n",
       "      <th>2</th>\n",
       "      <td>2</td>\n",
       "      <td>https://www.daft.ie/for-rent/apartment-2-bedro...</td>\n",
       "      <td>2</td>\n",
       "      <td>2</td>\n",
       "      <td>This elegant two bedroom apartment, in Dublin’...</td>\n",
       "      <td>2 Bedroom Serviced Apartment, Capital Dock Res...</td>\n",
       "      <td>['Parking', 'Central Heating', 'Cable Televisi...</td>\n",
       "      <td>Eoin Grant</td>\n",
       "      <td>['https://photos.cdn.dsch.ie/OGNkYmRjMzc5YmExN...</td>\n",
       "      <td>4000</td>\n",
       "      <td>17421</td>\n",
       "      <td>2021-03-21</td>\n",
       "      <td>month</td>\n",
       "    </tr>\n",
       "    <tr>\n",
       "      <th>3</th>\n",
       "      <td>3</td>\n",
       "      <td>https://www.daft.ie/for-rent/apartment-apartme...</td>\n",
       "      <td>1</td>\n",
       "      <td>1</td>\n",
       "      <td>To provide you with extra peace of mind when c...</td>\n",
       "      <td>Apartment 1, 1A, Quayside Quarter, North Wall ...</td>\n",
       "      <td>['Parking', 'Central Heating', 'Cable Televisi...</td>\n",
       "      <td>Laura Foody</td>\n",
       "      <td>['https://photos.cdn.dsch.ie/YjFjODhmMmNmMzEwY...</td>\n",
       "      <td>2300</td>\n",
       "      <td>6892</td>\n",
       "      <td>2021-03-03</td>\n",
       "      <td>month</td>\n",
       "    </tr>\n",
       "    <tr>\n",
       "      <th>4</th>\n",
       "      <td>4</td>\n",
       "      <td>https://www.daft.ie/for-rent/apartment-apartme...</td>\n",
       "      <td>1</td>\n",
       "      <td>1</td>\n",
       "      <td>To provide you with extra peace of mind when c...</td>\n",
       "      <td>Apartment 103, Quayside Quarter, North Wall Qu...</td>\n",
       "      <td>['Parking', 'Central Heating', 'Cable Televisi...</td>\n",
       "      <td>Laura Foody</td>\n",
       "      <td>['https://photos.cdn.dsch.ie/YjFjODhmMmNmMzEwY...</td>\n",
       "      <td>2430</td>\n",
       "      <td>9759</td>\n",
       "      <td>2021-03-03</td>\n",
       "      <td>month</td>\n",
       "    </tr>\n",
       "  </tbody>\n",
       "</table>\n",
       "</div>"
      ],
      "text/plain": [
       "   Unnamed: 0                                           page_url  \\\n",
       "0           0  https://www.daft.ie/for-rent/apartment-2-bedro...   \n",
       "1           1  https://www.daft.ie/for-rent/apartment-three-b...   \n",
       "2           2  https://www.daft.ie/for-rent/apartment-2-bedro...   \n",
       "3           3  https://www.daft.ie/for-rent/apartment-apartme...   \n",
       "4           4  https://www.daft.ie/for-rent/apartment-apartme...   \n",
       "\n",
       "   number_bathrooms  number_bedrooms  \\\n",
       "0                 2                2   \n",
       "1                 2                3   \n",
       "2                 2                2   \n",
       "3                 1                1   \n",
       "4                 1                1   \n",
       "\n",
       "                                         description  \\\n",
       "0  This elegant two bedroom apartment, offers inc...   \n",
       "1  This elegant three bedroom apartment, in Dubli...   \n",
       "2  This elegant two bedroom apartment, in Dublin’...   \n",
       "3  To provide you with extra peace of mind when c...   \n",
       "4  To provide you with extra peace of mind when c...   \n",
       "\n",
       "                                     display_address  \\\n",
       "0  2 Bedroom Apartment, Capital Dock Residence, G...   \n",
       "1  Three Bedroom Apartment, Capital Dock Residenc...   \n",
       "2  2 Bedroom Serviced Apartment, Capital Dock Res...   \n",
       "3  Apartment 1, 1A, Quayside Quarter, North Wall ...   \n",
       "4  Apartment 103, Quayside Quarter, North Wall Qu...   \n",
       "\n",
       "                                            features   manager_id  \\\n",
       "0  ['Parking', 'Central Heating', 'Cable Televisi...   Eoin Grant   \n",
       "1  ['Parking', 'Central Heating', 'Cable Televisi...   Eoin Grant   \n",
       "2  ['Parking', 'Central Heating', 'Cable Televisi...   Eoin Grant   \n",
       "3  ['Parking', 'Central Heating', 'Cable Televisi...  Laura Foody   \n",
       "4  ['Parking', 'Central Heating', 'Cable Televisi...  Laura Foody   \n",
       "\n",
       "                                              photos  price  number_of_views  \\\n",
       "0  ['https://photos.cdn.dsch.ie/OTRlZDA3YWQwNzFjO...   2970            22239   \n",
       "1  ['https://photos.cdn.dsch.ie/NmYxOWJhM2M5NTVlM...   3690             2763   \n",
       "2  ['https://photos.cdn.dsch.ie/OGNkYmRjMzc5YmExN...   4000            17421   \n",
       "3  ['https://photos.cdn.dsch.ie/YjFjODhmMmNmMzEwY...   2300             6892   \n",
       "4  ['https://photos.cdn.dsch.ie/YjFjODhmMmNmMzEwY...   2430             9759   \n",
       "\n",
       "   created_at price_period  \n",
       "0  2021-03-18        month  \n",
       "1  2021-03-18        month  \n",
       "2  2021-03-21        month  \n",
       "3  2021-03-03        month  \n",
       "4  2021-03-03        month  "
      ]
     },
     "execution_count": 56,
     "metadata": {},
     "output_type": "execute_result"
    }
   ],
   "source": [
    "df = pd.DataFrame()\n",
    "df = pd.read_csv('data/daft_apartments.csv')\n",
    "df.head()"
   ]
  },
  {
   "cell_type": "code",
   "execution_count": 57,
   "id": "municipal-pleasure",
   "metadata": {},
   "outputs": [
    {
     "name": "stdout",
     "output_type": "stream",
     "text": [
      "Qtd rows X columns:(1927, 13)\n",
      "\n",
      "Are there any Missing values?:True\n",
      "\n",
      "Total of missing ROWS values: 3\n",
      "\n",
      "Has duplicated values? how to drop => df=df.drop_duplicates() \n",
      "False    1927\n",
      "dtype: int64\n",
      "\n",
      "Missing values by columns:\n",
      "Unnamed: 0          0\n",
      "page_url            0\n",
      "number_bathrooms    0\n",
      "number_bedrooms     0\n",
      "description         3\n",
      "display_address     0\n",
      "features            0\n",
      "manager_id          0\n",
      "photos              0\n",
      "price               0\n",
      "number_of_views     0\n",
      "created_at          0\n",
      "price_period        0\n",
      "dtype: int64\n",
      "\n",
      "Total sum of missing values: 3\n",
      "\n",
      "\n",
      "<class 'pandas.core.frame.DataFrame'>\n",
      "RangeIndex: 1927 entries, 0 to 1926\n",
      "Data columns (total 13 columns):\n",
      " #   Column            Non-Null Count  Dtype \n",
      "---  ------            --------------  ----- \n",
      " 0   Unnamed: 0        1927 non-null   int64 \n",
      " 1   page_url          1927 non-null   object\n",
      " 2   number_bathrooms  1927 non-null   int64 \n",
      " 3   number_bedrooms   1927 non-null   int64 \n",
      " 4   description       1924 non-null   object\n",
      " 5   display_address   1927 non-null   object\n",
      " 6   features          1927 non-null   object\n",
      " 7   manager_id        1927 non-null   object\n",
      " 8   photos            1927 non-null   object\n",
      " 9   price             1927 non-null   int64 \n",
      " 10  number_of_views   1927 non-null   int64 \n",
      " 11  created_at        1927 non-null   object\n",
      " 12  price_period      1927 non-null   object\n",
      "dtypes: int64(5), object(8)\n",
      "memory usage: 195.8+ KB\n",
      "None\n"
     ]
    }
   ],
   "source": [
    "check_missing_data(df)"
   ]
  },
  {
   "cell_type": "code",
   "execution_count": 58,
   "id": "arranged-camera",
   "metadata": {},
   "outputs": [
    {
     "data": {
      "text/html": [
       "<div>\n",
       "<style scoped>\n",
       "    .dataframe tbody tr th:only-of-type {\n",
       "        vertical-align: middle;\n",
       "    }\n",
       "\n",
       "    .dataframe tbody tr th {\n",
       "        vertical-align: top;\n",
       "    }\n",
       "\n",
       "    .dataframe thead th {\n",
       "        text-align: right;\n",
       "    }\n",
       "</style>\n",
       "<table border=\"1\" class=\"dataframe\">\n",
       "  <thead>\n",
       "    <tr style=\"text-align: right;\">\n",
       "      <th></th>\n",
       "      <th>Unnamed: 0</th>\n",
       "      <th>number_bathrooms</th>\n",
       "      <th>number_bedrooms</th>\n",
       "      <th>price</th>\n",
       "      <th>number_of_views</th>\n",
       "    </tr>\n",
       "  </thead>\n",
       "  <tbody>\n",
       "    <tr>\n",
       "      <th>count</th>\n",
       "      <td>1927.000000</td>\n",
       "      <td>1927.000000</td>\n",
       "      <td>1927.000000</td>\n",
       "      <td>1927.000000</td>\n",
       "      <td>1927.000000</td>\n",
       "    </tr>\n",
       "    <tr>\n",
       "      <th>mean</th>\n",
       "      <td>963.000000</td>\n",
       "      <td>1.438505</td>\n",
       "      <td>1.772704</td>\n",
       "      <td>1886.048262</td>\n",
       "      <td>2923.406331</td>\n",
       "    </tr>\n",
       "    <tr>\n",
       "      <th>std</th>\n",
       "      <td>556.421303</td>\n",
       "      <td>0.634121</td>\n",
       "      <td>0.722162</td>\n",
       "      <td>670.518496</td>\n",
       "      <td>3805.668799</td>\n",
       "    </tr>\n",
       "    <tr>\n",
       "      <th>min</th>\n",
       "      <td>0.000000</td>\n",
       "      <td>1.000000</td>\n",
       "      <td>1.000000</td>\n",
       "      <td>125.000000</td>\n",
       "      <td>104.000000</td>\n",
       "    </tr>\n",
       "    <tr>\n",
       "      <th>25%</th>\n",
       "      <td>481.500000</td>\n",
       "      <td>1.000000</td>\n",
       "      <td>1.000000</td>\n",
       "      <td>1550.000000</td>\n",
       "      <td>1039.000000</td>\n",
       "    </tr>\n",
       "    <tr>\n",
       "      <th>50%</th>\n",
       "      <td>963.000000</td>\n",
       "      <td>1.000000</td>\n",
       "      <td>2.000000</td>\n",
       "      <td>1800.000000</td>\n",
       "      <td>1917.000000</td>\n",
       "    </tr>\n",
       "    <tr>\n",
       "      <th>75%</th>\n",
       "      <td>1444.500000</td>\n",
       "      <td>2.000000</td>\n",
       "      <td>2.000000</td>\n",
       "      <td>2100.000000</td>\n",
       "      <td>3262.500000</td>\n",
       "    </tr>\n",
       "    <tr>\n",
       "      <th>max</th>\n",
       "      <td>1926.000000</td>\n",
       "      <td>8.000000</td>\n",
       "      <td>8.000000</td>\n",
       "      <td>8500.000000</td>\n",
       "      <td>68165.000000</td>\n",
       "    </tr>\n",
       "  </tbody>\n",
       "</table>\n",
       "</div>"
      ],
      "text/plain": [
       "        Unnamed: 0  number_bathrooms  number_bedrooms        price  \\\n",
       "count  1927.000000       1927.000000      1927.000000  1927.000000   \n",
       "mean    963.000000          1.438505         1.772704  1886.048262   \n",
       "std     556.421303          0.634121         0.722162   670.518496   \n",
       "min       0.000000          1.000000         1.000000   125.000000   \n",
       "25%     481.500000          1.000000         1.000000  1550.000000   \n",
       "50%     963.000000          1.000000         2.000000  1800.000000   \n",
       "75%    1444.500000          2.000000         2.000000  2100.000000   \n",
       "max    1926.000000          8.000000         8.000000  8500.000000   \n",
       "\n",
       "       number_of_views  \n",
       "count      1927.000000  \n",
       "mean       2923.406331  \n",
       "std        3805.668799  \n",
       "min         104.000000  \n",
       "25%        1039.000000  \n",
       "50%        1917.000000  \n",
       "75%        3262.500000  \n",
       "max       68165.000000  "
      ]
     },
     "execution_count": 58,
     "metadata": {},
     "output_type": "execute_result"
    }
   ],
   "source": [
    "df.describe()"
   ]
  },
  {
   "cell_type": "code",
   "execution_count": 59,
   "id": "serious-juice",
   "metadata": {},
   "outputs": [
    {
     "name": "stdout",
     "output_type": "stream",
     "text": [
      "['Central Heating', 'Washing Machine', 'Dryer', 'Dishwasher', 'Microwave', 'Garden / Patio / Balcony']\n",
      "['Central Heating', 'Cable Television', 'Washing Machine', 'Dryer', 'Dishwasher', 'Microwave', 'Internet']\n",
      "['Parking']\n",
      "['Parking', 'Central Heating', 'Washing Machine', 'Dryer', 'Microwave', 'Internet', 'Garden / Patio / Balcony']\n",
      "['Parking', 'Washing Machine', 'Dishwasher', 'Microwave', 'Garden / Patio / Balcony']\n",
      "['Parking', 'Central Heating', 'Washing Machine', 'Microwave', 'Garden / Patio / Balcony', 'Serviced Property']\n",
      "['Parking', 'Washing Machine', 'Dryer', 'Microwave', 'Internet', 'Garden / Patio / Balcony']\n",
      "['Central Heating', 'Alarm', 'Cable Television', 'Washing Machine', 'Microwave', 'Wheelchair Access', 'Internet', 'Garden / Patio / Balcony']\n",
      "['Parking', 'Central Heating', 'Cable Television', 'Washing Machine', 'Microwave', 'Internet', 'Garden / Patio / Balcony']\n",
      "['Parking', 'Washing Machine', 'Dryer', 'Microwave', 'Internet']\n",
      "['Parking', 'Central Heating', 'Washing Machine', 'Dishwasher', 'Microwave', 'Internet', 'Garden / Patio / Balcony']\n",
      "['Central Heating', 'Washing Machine', 'Dryer', 'Microwave', 'Internet']\n",
      "['Cable Television', 'Washing Machine', 'Dryer', 'Microwave', 'Internet']\n",
      "['Central Heating', 'Washing Machine', 'Microwave', 'Wheelchair Access', 'Internet']\n",
      "['Parking', 'Washing Machine', 'Dryer', 'Microwave', 'Internet', 'Garden / Patio / Balcony']\n",
      "['Parking', 'Central Heating', 'Alarm', 'Cable Television', 'Washing Machine', 'Dryer', 'Dishwasher', 'Microwave', 'Internet']\n",
      "['Parking', 'Central Heating', 'Alarm', 'Washing Machine', 'Dryer', 'Dishwasher', 'Microwave', 'Garden / Patio / Balcony']\n",
      "['Parking', 'Central Heating', 'Alarm', 'Washing Machine', 'Dishwasher', 'Microwave', 'Garden / Patio / Balcony', 'Serviced Property']\n",
      "[]\n",
      "[]\n",
      "[]\n",
      "[]\n",
      "[]\n",
      "[]\n",
      "[]\n",
      "[]\n",
      "[]\n",
      "[]\n",
      "[]\n",
      "[]\n"
     ]
    }
   ],
   "source": [
    "# Found empty list of features\n",
    "for i in range(500,530):\n",
    "    print(df['features'][i])"
   ]
  },
  {
   "cell_type": "code",
   "execution_count": 251,
   "id": "honey-quilt",
   "metadata": {},
   "outputs": [
    {
     "name": "stdout",
     "output_type": "stream",
     "text": [
      "St Kevins Church, South Circular Road, Dublin 8\n",
      "240 The Richmond North Brunswick Street, Dublin 7\n",
      "Rockview, Simons Ridge, Sandyford, Dublin 18\n",
      "apt 9 landscape court landscape road churchtown, Churchtown, Dublin 14\n",
      "La Rochelle, Christchurch, Dublin 8\n",
      "15 0rwell Place Marianella, Rathgar, Dublin 6\n",
      "17 St Patricks Ave off Spring Garden Street, North Strand, Dublin 3\n",
      "65 Millennium Tower, Grand Canal Dock, Dublin 4\n",
      "Parkview Court, Harold's Cross, Dublin 6\n",
      "Aberdeen Street, Dublin 7\n",
      "The Court, Bettyglen, Watermill Road, Raheny, D.5., Dublin 5\n",
      "Apartment 63, Maltin House, Irish Financial Servic, Dublin 1\n",
      "Nethercross Court, North Street, Swords, Co. Dublin\n",
      "25 liffey walk The Lotts Dublin 1, Dublin 1\n",
      "The Pines, Herbert Park Lane, Dublin 4\n",
      "22 The Sweepstakes, Ballsbridge, Dublin 4\n",
      "The Pines, Herbert Park Lane, Dublin 4\n",
      "Apartment 2, 43 Pembroke Road, Ballsbridge, Dublin 4\n",
      "The Cedars, Herbert Park Lane, Ballsbridge, Dublin 4\n",
      "The Pines, Herbert Park Lane, Dublin 4\n",
      "Herbert Park Lane, Ballsbridge, Dublin 4\n",
      "1 Riverside Walk, Clonskeagh Road, Clonskeagh, Dublin 14\n",
      "The Pines, Herbert Park Lane, Ballsbridge, Dublin 4\n",
      "Apartment 21, Lansdowne Wood, Lansdowne Road, Ballsbridge, Dublin 4\n",
      "Apartment 2, 43 Pembroke Road, Ballsbridge, Dublin 4\n",
      "Apartment 7, Lansdowne Wood, Lansdowne Road, Ballsbridge, Dublin 4\n",
      "Gardiner Street, Dublin 1\n",
      "Bachelors Walk, Dublin 1, Temple Bar, Dublin 2\n",
      "Bachelors Walk, Dublin 1, Temple Bar, Dublin 2\n",
      "67 Convent Rd, Dun Laoghaire, Co. Dublin\n"
     ]
    }
   ],
   "source": [
    "# display_address\n",
    "\n",
    "\n",
    "for i in range(500,530):\n",
    "    print(df['display_address'][i])\n"
   ]
  },
  {
   "cell_type": "code",
   "execution_count": 60,
   "id": "challenging-cutting",
   "metadata": {},
   "outputs": [
    {
     "data": {
      "text/plain": [
       "(200, 13)"
      ]
     },
     "execution_count": 60,
     "metadata": {},
     "output_type": "execute_result"
    }
   ],
   "source": [
    "df_empty = df[ df[\"features\"] == '[]']\n",
    "df_empty.shape\n",
    "# print(df_empty.iloc[198])"
   ]
  },
  {
   "cell_type": "code",
   "execution_count": 287,
   "id": "fiscal-profile",
   "metadata": {},
   "outputs": [],
   "source": [
    "# All Adresses are based on Dublin city\n",
    "# for i in range(10):\n",
    "#     print(df['display_address'][i])"
   ]
  },
  {
   "cell_type": "code",
   "execution_count": 61,
   "id": "beginning-justice",
   "metadata": {},
   "outputs": [
    {
     "data": {
      "text/plain": [
       "False"
      ]
     },
     "execution_count": 61,
     "metadata": {},
     "output_type": "execute_result"
    }
   ],
   "source": [
    "# Remove null description\n",
    "null_description = pd.isnull(df[\"description\"])\n",
    "\n",
    "# df[null_description]\n",
    "# df.iloc[[ 63,64,769]]\n",
    "\n",
    "description_indexes =  df[null_description].index.values.tolist()\n",
    "\n",
    "df.drop(description_indexes, inplace=True)\n",
    "\n",
    "df.isnull().values.any()"
   ]
  },
  {
   "cell_type": "code",
   "execution_count": 62,
   "id": "framed-fitting",
   "metadata": {},
   "outputs": [
    {
     "data": {
      "text/plain": [
       "(0, 13)"
      ]
     },
     "execution_count": 62,
     "metadata": {},
     "output_type": "execute_result"
    }
   ],
   "source": [
    "# Remove empty features\n",
    "empty_features_indices = df[ df[\"features\"] == '[]'].index.values.tolist()\n",
    "\n",
    "# len(empty_features_indices)\n",
    "\n",
    "df.drop(empty_features_indices, inplace=True)\n",
    "\n",
    "df[ df[\"features\"] == '[]'].shape"
   ]
  },
  {
   "cell_type": "code",
   "execution_count": 63,
   "id": "transparent-dallas",
   "metadata": {},
   "outputs": [
    {
     "data": {
      "text/plain": [
       "(1724, 13)"
      ]
     },
     "execution_count": 63,
     "metadata": {},
     "output_type": "execute_result"
    }
   ],
   "source": [
    "df.shape"
   ]
  },
  {
   "cell_type": "code",
   "execution_count": 64,
   "id": "impossible-thompson",
   "metadata": {},
   "outputs": [],
   "source": [
    "# Feature engineering / selection\n",
    "\n",
    "# df['display_address'].str.split(',').str[-1].head(10)\n",
    "\n",
    "# Create New Column: Region\n",
    "df['Region'] = df['display_address'].str.split(',').str[-1]\n",
    "\n",
    "#df.iloc[14]['display_address']"
   ]
  },
  {
   "cell_type": "code",
   "execution_count": 65,
   "id": "cardiovascular-backup",
   "metadata": {},
   "outputs": [
    {
     "data": {
      "text/plain": [
       " Dublin 1                   252\n",
       " Dublin 4                   236\n",
       " Dublin 2                   233\n",
       " Co. Dublin                 188\n",
       " Dublin 8                   171\n",
       " Dublin 6                   133\n",
       " Dublin 7                    86\n",
       " Dublin 18                   78\n",
       " Dublin 3                    65\n",
       " Dublin 14                   51\n",
       " Dublin 9                    41\n",
       " Dublin 15                   33\n",
       " Dublin 11                   21\n",
       " Dublin 13                   17\n",
       " Dublin 24                   16\n",
       " Dublin 16                   15\n",
       " Dublin 12                   14\n",
       " Dublin 5                    13\n",
       " Dublin 22                    8\n",
       " Dublin 6W                    8\n",
       " Dublin 20                    8\n",
       " Dublin 10                    3\n",
       "Alexandra Place               3\n",
       " East Road                    2\n",
       " Off Hami                     2\n",
       " Christchurch                 2\n",
       " Ringsend                     2\n",
       " Crosbie's Yard               2\n",
       " Dublin 17                    2\n",
       " Balgriffin                   1\n",
       " Sandymount                   1\n",
       " 110 Philipsburgh Avenue      1\n",
       " Fairview                     1\n",
       "East Wall                     1\n",
       " Kilmore                      1\n",
       " Harold's Cross               1\n",
       " Waterfall Avenue             1\n",
       " Richmond Avenue              1\n",
       " Co. Meath                    1\n",
       "Apt. 71 Crosbies Yard         1\n",
       " Alverno                      1\n",
       " Church Street East           1\n",
       " East Wall                    1\n",
       " Ossory road                  1\n",
       " IFSC                         1\n",
       "North Strand Road             1\n",
       " Richmond Road                1\n",
       " Blanchardstown               1\n",
       "Name: Region, dtype: int64"
      ]
     },
     "execution_count": 65,
     "metadata": {},
     "output_type": "execute_result"
    }
   ],
   "source": [
    "df['Region'].value_counts()"
   ]
  },
  {
   "cell_type": "code",
   "execution_count": 66,
   "id": "postal-pittsburgh",
   "metadata": {},
   "outputs": [],
   "source": [
    "# Remove regions with 3 or less quantities\n",
    "regions = df['Region'].value_counts()\n",
    "region_list = regions[regions.values <= 3].index.values.tolist()\n",
    "#region_list"
   ]
  },
  {
   "cell_type": "code",
   "execution_count": 270,
   "id": "loaded-badge",
   "metadata": {},
   "outputs": [],
   "source": [
    "# df_RegionsToDelete = df[df['Region'].isin(region_list)]\n",
    "# print(df_RegionsToDelete.shape)\n",
    "# df_RegionsToDelete['Region'].value_counts()"
   ]
  },
  {
   "cell_type": "code",
   "execution_count": 67,
   "id": "lyric-wrong",
   "metadata": {},
   "outputs": [],
   "source": [
    "regions_indices = df[df['Region'].isin(region_list)].index.values.tolist()\n",
    "df.drop(regions_indices, inplace=True)"
   ]
  },
  {
   "cell_type": "code",
   "execution_count": 68,
   "id": "charged-delivery",
   "metadata": {},
   "outputs": [
    {
     "name": "stdout",
     "output_type": "stream",
     "text": [
      "(1687, 14)\n"
     ]
    },
    {
     "data": {
      "text/plain": [
       "Unnamed: 0          0\n",
       "page_url            0\n",
       "number_bathrooms    0\n",
       "number_bedrooms     0\n",
       "description         0\n",
       "display_address     0\n",
       "features            0\n",
       "manager_id          0\n",
       "photos              0\n",
       "price               0\n",
       "number_of_views     0\n",
       "created_at          0\n",
       "price_period        0\n",
       "Region              0\n",
       "dtype: int64"
      ]
     },
     "execution_count": 68,
     "metadata": {},
     "output_type": "execute_result"
    }
   ],
   "source": [
    "print(df.shape)\n",
    "df[df['Region'].isin(region_list)].count()"
   ]
  },
  {
   "cell_type": "code",
   "execution_count": 69,
   "id": "commercial-penny",
   "metadata": {},
   "outputs": [
    {
     "data": {
      "text/plain": [
       "'Dublin 2'"
      ]
     },
     "execution_count": 69,
     "metadata": {},
     "output_type": "execute_result"
    }
   ],
   "source": [
    "# Remove extra spaces\n",
    "df['Region'] = df['Region'].str.strip()\n",
    "\n",
    "df.loc[0,\"Region\"]\n"
   ]
  },
  {
   "cell_type": "code",
   "execution_count": 70,
   "id": "automotive-government",
   "metadata": {},
   "outputs": [
    {
     "name": "stdout",
     "output_type": "stream",
     "text": [
      "(1687, 14)\n",
      "Parking 1077\n",
      "Central Heating 1293\n",
      "Washing Machine 1536\n",
      "Dryer 994\n",
      "Dishwasher 942\n",
      "Microwave 1382\n",
      "Pets Allowed 93\n",
      "Wheelchair Access 139\n",
      "Garden / Patio / Balcony 1027\n",
      "Serviced Property 217\n"
     ]
    }
   ],
   "source": [
    "features_list = ['Parking', 'Central Heating', 'Washing Machine', 'Dryer', 'Dishwasher', 'Microwave', 'Pets Allowed', 'Wheelchair Access', 'Garden / Patio / Balcony', 'Serviced Property']\n",
    "\n",
    "print(df.shape)\n",
    "# df.query('display_address.str.contains(\"Islandbridge\")', engine='python')\n",
    "\n",
    "for value in features_list:    \n",
    "    # df.query('features.str.contains(\"Pets Allowed\")', engine='python').shape[0]\n",
    "    print(value, df.query('features.str.contains(@value)', engine='python').count()[0])"
   ]
  },
  {
   "cell_type": "code",
   "execution_count": 329,
   "id": "curious-shadow",
   "metadata": {},
   "outputs": [],
   "source": [
    "# # Code template to automate feature extraction from features column \n",
    "# df['Pets Allowed'] = 0\n",
    "# index = df.query('features.str.contains(\"Pets Allowed\")', engine='python').index\n",
    "# # now use df.loc to set values only to those rows\n",
    "# df.loc[index,'Pets Allowed'] = 1\n",
    "# df['Pets Allowed'].value_counts()\n",
    "# print(df['Pets Allowed'].head())\n",
    "# # cleanup template test\n",
    "# df.drop(['Pets Allowed'] , axis='columns', inplace=True)"
   ]
  },
  {
   "cell_type": "code",
   "execution_count": 71,
   "id": "level-container",
   "metadata": {},
   "outputs": [
    {
     "name": "stdout",
     "output_type": "stream",
     "text": [
      "Parking 1077\n",
      "Central Heating 1293\n",
      "Washing Machine 1536\n",
      "Dryer 994\n",
      "Dishwasher 942\n",
      "Microwave 1382\n",
      "Pets Allowed 93\n",
      "Wheelchair Access 139\n",
      "Garden / Patio / Balcony 1027\n",
      "Serviced Property 217\n"
     ]
    }
   ],
   "source": [
    "# Create new columns based on feature column\n",
    "\n",
    "for value in features_list:    \n",
    "    # df.query('features.str.contains(\"Pets Allowed\")', engine='python').shape[0]\n",
    "    print(value, df.query('features.str.contains(@value)', engine='python').count()[0])\n",
    "    df[value] = 0    \n",
    "    index = df.query('features.str.contains(@value)', engine='python').index    \n",
    "    df.loc[index,value] = 1\n"
   ]
  },
  {
   "cell_type": "code",
   "execution_count": 72,
   "id": "provincial-possible",
   "metadata": {},
   "outputs": [
    {
     "data": {
      "text/plain": [
       " Blackrock        34\n",
       " Dun Laoghaire    27\n",
       " Stillorgan       21\n",
       " Malahide         18\n",
       " Swords           15\n",
       " Lucan            10\n",
       " Monkstown         7\n",
       " Booterstown       7\n",
       " Citywest          6\n",
       " Dalkey            6\n",
       " Mount Merrion     5\n",
       " Killiney          4\n",
       " Portmarnock       4\n",
       " Saggart           3\n",
       " Ballybrack        2\n",
       " Rathcoole         2\n",
       " Balbriggan        2\n",
       " Glenageary        2\n",
       " Sandycove         2\n",
       " Deans Grange      1\n",
       " Co.Dublin         1\n",
       " Adamstown         1\n",
       " Inchicore         1\n",
       " Kinsealy          1\n",
       " Christchurch      1\n",
       " Dublin 1          1\n",
       " Co Dublin         1\n",
       " Dublin            1\n",
       " Dublin 24         1\n",
       " The Ward          1\n",
       "Name: display_address, dtype: int64"
      ]
     },
     "execution_count": 72,
     "metadata": {},
     "output_type": "execute_result"
    }
   ],
   "source": [
    "# Todo: try to Find/fix 'Co. Dublin' adresses\n",
    "\n",
    "result = df[df['Region'] == 'Co. Dublin']\n",
    "# # result.loc[14,\"display_address\"]\n",
    "\n",
    "# for item in result['display_address']:\n",
    "#     print(item)\n",
    "    \n",
    "result2 = result['display_address'].str.split(',').str[-2]\n",
    "result2.value_counts()"
   ]
  },
  {
   "cell_type": "code",
   "execution_count": 73,
   "id": "military-delay",
   "metadata": {},
   "outputs": [],
   "source": [
    "# 'Blackrock','Dun Laoghaire', 'Stillorgan','Malahide','Swords','Lucan'\n",
    "\n",
    "# result3 = df.query('display_address.str.contains(\"Blackrock\")', engine='python')\n",
    "\n",
    "# result3['display_address'].value_counts()\n",
    "\n",
    "\n",
    "index1 = df.query('display_address.str.contains(\"Blackrock\")', engine='python').index    \n",
    "df.loc[index1,'Region'] = 'Dun Laoghaire A94'\n",
    "\n",
    "index2 = df.query('display_address.str.contains(\"Dun Laoghaire\")', engine='python').index    \n",
    "df.loc[index2,'Region'] = 'Dun Laoghaire A96'\n",
    "\n",
    "index3 = df.query('display_address.str.contains(\"Stillorgan\")', engine='python').index    \n",
    "df.loc[index3,'Region'] = 'Dun Laoghaire A9X'\n",
    "\n",
    "index4 = df.query('display_address.str.contains(\"Malahide\")', engine='python').index    \n",
    "df.loc[index4,'Region'] = 'Dublin Fingal K36'\n",
    "\n",
    "index5 = df.query('display_address.str.contains(\"Swords\")', engine='python').index    \n",
    "df.loc[index5,'Region'] = 'Dublin Fingal K67'\n",
    "\n",
    "index6 = df.query('display_address.str.contains(\"Lucan\")', engine='python').index    \n",
    "df.loc[index6,'Region'] = 'South Dublin K78'\n",
    "\n"
   ]
  },
  {
   "cell_type": "code",
   "execution_count": 74,
   "id": "noticed-princeton",
   "metadata": {},
   "outputs": [
    {
     "data": {
      "text/plain": [
       "Dublin 1             252\n",
       "Dublin 4             234\n",
       "Dublin 2             233\n",
       "Dublin 8             171\n",
       "Dublin 6             133\n",
       "Dublin 7              86\n",
       "Dublin 18             78\n",
       "Dublin 3              65\n",
       "Co. Dublin            59\n",
       "Dublin 14             51\n",
       "Dublin 9              38\n",
       "Dun Laoghaire A94     34\n",
       "Dublin 15             33\n",
       "Dun Laoghaire A96     28\n",
       "Dun Laoghaire A9X     26\n",
       "Dublin 11             21\n",
       "Dublin Fingal K67     20\n",
       "Dublin Fingal K36     18\n",
       "Dublin 24             16\n",
       "Dublin 16             15\n",
       "Dublin 13             15\n",
       "Dublin 12             14\n",
       "Dublin 5              13\n",
       "South Dublin K78      10\n",
       "Dublin 6W              8\n",
       "Dublin 22              8\n",
       "Dublin 20              8\n",
       "Name: Region, dtype: int64"
      ]
     },
     "execution_count": 74,
     "metadata": {},
     "output_type": "execute_result"
    }
   ],
   "source": [
    "df['Region'].value_counts()"
   ]
  },
  {
   "cell_type": "code",
   "execution_count": 75,
   "id": "sporting-insurance",
   "metadata": {},
   "outputs": [
    {
     "name": "stdout",
     "output_type": "stream",
     "text": [
      "(59, 24)\n",
      "(0, 24)\n"
     ]
    }
   ],
   "source": [
    "# Remove Co. Dublin smallest qty regions (59)\n",
    "\n",
    "print(df[ df[\"Region\"] == 'Co. Dublin'].shape)\n",
    "\n",
    "CoDublin_indices = df[ df[\"Region\"] == 'Co. Dublin'].index.values.tolist()\n",
    "\n",
    "# len(CoDublin_indices)\n",
    "\n",
    "df.drop(CoDublin_indices, inplace=True)\n",
    "\n",
    "print(df[ df[\"Region\"] == 'Co. Dublin'].shape)\n"
   ]
  },
  {
   "cell_type": "code",
   "execution_count": 76,
   "id": "novel-bradley",
   "metadata": {},
   "outputs": [
    {
     "data": {
      "text/plain": [
       "(1628, 24)"
      ]
     },
     "execution_count": 76,
     "metadata": {},
     "output_type": "execute_result"
    }
   ],
   "source": [
    "df.shape"
   ]
  },
  {
   "cell_type": "code",
   "execution_count": 122,
   "id": "extreme-combining",
   "metadata": {},
   "outputs": [
    {
     "data": {
      "text/plain": [
       "Index(['Unnamed: 0', 'page_url', 'number_bathrooms', 'number_bedrooms',\n",
       "       'description', 'display_address', 'features', 'manager_id', 'photos',\n",
       "       'price', 'number_of_views', 'created_at', 'price_period', 'Region',\n",
       "       'Parking', 'Central Heating', 'Washing Machine', 'Dryer', 'Dishwasher',\n",
       "       'Microwave', 'Pets Allowed', 'Wheelchair Access',\n",
       "       'Garden / Patio / Balcony', 'Serviced Property'],\n",
       "      dtype='object')"
      ]
     },
     "execution_count": 122,
     "metadata": {},
     "output_type": "execute_result"
    }
   ],
   "source": [
    "df.columns"
   ]
  },
  {
   "cell_type": "code",
   "execution_count": 123,
   "id": "cleared-veteran",
   "metadata": {},
   "outputs": [
    {
     "data": {
      "text/plain": [
       "month    1535\n",
       "week       93\n",
       "Name: price_period, dtype: int64"
      ]
     },
     "execution_count": 123,
     "metadata": {},
     "output_type": "execute_result"
    }
   ],
   "source": [
    "df['price_period'].value_counts()\n"
   ]
  },
  {
   "cell_type": "code",
   "execution_count": 127,
   "id": "addressed-columbia",
   "metadata": {},
   "outputs": [
    {
     "name": "stdout",
     "output_type": "stream",
     "text": [
      "column price_period_code already exists\n"
     ]
    }
   ],
   "source": [
    "# Convert categorical values\n",
    "# Encode price_period\n",
    "\n",
    "# df.drop(['Region_cat'], axis = 1, inplace=True)\n",
    "\n",
    "if 'price_period_code' in df.columns:\n",
    "    print('column price_period_code already exists')\n",
    "else:\n",
    "    df['price_period'] = df['price_period'].astype('category')\n",
    "    df['price_period_code'] = df['price_period'].cat.codes\n",
    "    df[['price_period_code','price_period']].value_counts()\n",
    "    print('column price_period_code created')\n"
   ]
  },
  {
   "cell_type": "code",
   "execution_count": 128,
   "id": "inappropriate-regression",
   "metadata": {},
   "outputs": [
    {
     "data": {
      "text/plain": [
       "price_period_code  price_period\n",
       "0                  month           1535\n",
       "1                  week              93\n",
       "dtype: int64"
      ]
     },
     "execution_count": 128,
     "metadata": {},
     "output_type": "execute_result"
    }
   ],
   "source": [
    "df[['price_period_code','price_period']].value_counts()"
   ]
  },
  {
   "cell_type": "code",
   "execution_count": 133,
   "id": "hydraulic-federal",
   "metadata": {},
   "outputs": [
    {
     "name": "stdout",
     "output_type": "stream",
     "text": [
      "column Region_code created\n"
     ]
    }
   ],
   "source": [
    "# Encode region\n",
    "\n",
    "if 'Region_code' in df.columns:\n",
    "    print('column Region_code already exists')\n",
    "else:\n",
    "    df['Region'] = df['Region'].astype('category')\n",
    "    df['Region_code'] = df['Region'].cat.codes\n",
    "    df[['Region_code','Region']].value_counts()\n",
    "    print('column Region_code created')\n"
   ]
  },
  {
   "cell_type": "code",
   "execution_count": 159,
   "id": "through-appliance",
   "metadata": {},
   "outputs": [
    {
     "data": {
      "text/plain": [
       "Index(['page_url', 'number_bathrooms', 'number_bedrooms', 'description',\n",
       "       'display_address', 'features', 'manager_id', 'photos', 'price',\n",
       "       'number_of_views', 'created_at', 'price_period', 'Region', 'Parking',\n",
       "       'Central Heating', 'Washing Machine', 'Dryer', 'Dishwasher',\n",
       "       'Microwave', 'Pets Allowed', 'Wheelchair Access',\n",
       "       'Garden / Patio / Balcony', 'Serviced Property', 'price_period_code',\n",
       "       'Region_code'],\n",
       "      dtype='object')"
      ]
     },
     "execution_count": 159,
     "metadata": {},
     "output_type": "execute_result"
    }
   ],
   "source": [
    "# drop column 'Unnamed: 0'\n",
    "\n",
    "df.drop(['Unnamed: 0'], axis = 1, inplace=True)\n",
    "\n",
    "df.columns"
   ]
  },
  {
   "cell_type": "code",
   "execution_count": 160,
   "id": "quiet-metallic",
   "metadata": {},
   "outputs": [
    {
     "data": {
      "text/html": [
       "<div>\n",
       "<style scoped>\n",
       "    .dataframe tbody tr th:only-of-type {\n",
       "        vertical-align: middle;\n",
       "    }\n",
       "\n",
       "    .dataframe tbody tr th {\n",
       "        vertical-align: top;\n",
       "    }\n",
       "\n",
       "    .dataframe thead th {\n",
       "        text-align: right;\n",
       "    }\n",
       "</style>\n",
       "<table border=\"1\" class=\"dataframe\">\n",
       "  <thead>\n",
       "    <tr style=\"text-align: right;\">\n",
       "      <th></th>\n",
       "      <th>page_url</th>\n",
       "      <th>number_bathrooms</th>\n",
       "      <th>number_bedrooms</th>\n",
       "      <th>description</th>\n",
       "      <th>display_address</th>\n",
       "      <th>features</th>\n",
       "      <th>manager_id</th>\n",
       "      <th>photos</th>\n",
       "      <th>price</th>\n",
       "      <th>number_of_views</th>\n",
       "      <th>created_at</th>\n",
       "      <th>price_period</th>\n",
       "      <th>Region</th>\n",
       "      <th>Parking</th>\n",
       "      <th>Central Heating</th>\n",
       "      <th>Washing Machine</th>\n",
       "      <th>Dryer</th>\n",
       "      <th>Dishwasher</th>\n",
       "      <th>Microwave</th>\n",
       "      <th>Pets Allowed</th>\n",
       "      <th>Wheelchair Access</th>\n",
       "      <th>Garden / Patio / Balcony</th>\n",
       "      <th>Serviced Property</th>\n",
       "      <th>price_period_code</th>\n",
       "      <th>Region_code</th>\n",
       "    </tr>\n",
       "  </thead>\n",
       "  <tbody>\n",
       "    <tr>\n",
       "      <th>0</th>\n",
       "      <td>https://www.daft.ie/for-rent/apartment-2-bedro...</td>\n",
       "      <td>2</td>\n",
       "      <td>2</td>\n",
       "      <td>This elegant two bedroom apartment, offers inc...</td>\n",
       "      <td>2 Bedroom Apartment, Capital Dock Residence, G...</td>\n",
       "      <td>['Parking', 'Central Heating', 'Cable Televisi...</td>\n",
       "      <td>Eoin Grant</td>\n",
       "      <td>['https://photos.cdn.dsch.ie/OTRlZDA3YWQwNzFjO...</td>\n",
       "      <td>2970</td>\n",
       "      <td>22239</td>\n",
       "      <td>2021-03-18</td>\n",
       "      <td>month</td>\n",
       "      <td>Dublin 2</td>\n",
       "      <td>1</td>\n",
       "      <td>1</td>\n",
       "      <td>1</td>\n",
       "      <td>1</td>\n",
       "      <td>1</td>\n",
       "      <td>1</td>\n",
       "      <td>1</td>\n",
       "      <td>1</td>\n",
       "      <td>1</td>\n",
       "      <td>1</td>\n",
       "      <td>0</td>\n",
       "      <td>8</td>\n",
       "    </tr>\n",
       "    <tr>\n",
       "      <th>1</th>\n",
       "      <td>https://www.daft.ie/for-rent/apartment-three-b...</td>\n",
       "      <td>2</td>\n",
       "      <td>3</td>\n",
       "      <td>This elegant three bedroom apartment, in Dubli...</td>\n",
       "      <td>Three Bedroom Apartment, Capital Dock Residenc...</td>\n",
       "      <td>['Parking', 'Central Heating', 'Cable Televisi...</td>\n",
       "      <td>Eoin Grant</td>\n",
       "      <td>['https://photos.cdn.dsch.ie/NmYxOWJhM2M5NTVlM...</td>\n",
       "      <td>3690</td>\n",
       "      <td>2763</td>\n",
       "      <td>2021-03-18</td>\n",
       "      <td>month</td>\n",
       "      <td>Dublin 2</td>\n",
       "      <td>1</td>\n",
       "      <td>1</td>\n",
       "      <td>1</td>\n",
       "      <td>1</td>\n",
       "      <td>1</td>\n",
       "      <td>1</td>\n",
       "      <td>1</td>\n",
       "      <td>1</td>\n",
       "      <td>1</td>\n",
       "      <td>1</td>\n",
       "      <td>0</td>\n",
       "      <td>8</td>\n",
       "    </tr>\n",
       "    <tr>\n",
       "      <th>2</th>\n",
       "      <td>https://www.daft.ie/for-rent/apartment-2-bedro...</td>\n",
       "      <td>2</td>\n",
       "      <td>2</td>\n",
       "      <td>This elegant two bedroom apartment, in Dublin’...</td>\n",
       "      <td>2 Bedroom Serviced Apartment, Capital Dock Res...</td>\n",
       "      <td>['Parking', 'Central Heating', 'Cable Televisi...</td>\n",
       "      <td>Eoin Grant</td>\n",
       "      <td>['https://photos.cdn.dsch.ie/OGNkYmRjMzc5YmExN...</td>\n",
       "      <td>4000</td>\n",
       "      <td>17421</td>\n",
       "      <td>2021-03-21</td>\n",
       "      <td>month</td>\n",
       "      <td>Dublin 2</td>\n",
       "      <td>1</td>\n",
       "      <td>1</td>\n",
       "      <td>1</td>\n",
       "      <td>1</td>\n",
       "      <td>1</td>\n",
       "      <td>1</td>\n",
       "      <td>1</td>\n",
       "      <td>1</td>\n",
       "      <td>1</td>\n",
       "      <td>1</td>\n",
       "      <td>0</td>\n",
       "      <td>8</td>\n",
       "    </tr>\n",
       "    <tr>\n",
       "      <th>3</th>\n",
       "      <td>https://www.daft.ie/for-rent/apartment-apartme...</td>\n",
       "      <td>1</td>\n",
       "      <td>1</td>\n",
       "      <td>To provide you with extra peace of mind when c...</td>\n",
       "      <td>Apartment 1, 1A, Quayside Quarter, North Wall ...</td>\n",
       "      <td>['Parking', 'Central Heating', 'Cable Televisi...</td>\n",
       "      <td>Laura Foody</td>\n",
       "      <td>['https://photos.cdn.dsch.ie/YjFjODhmMmNmMzEwY...</td>\n",
       "      <td>2300</td>\n",
       "      <td>6892</td>\n",
       "      <td>2021-03-03</td>\n",
       "      <td>month</td>\n",
       "      <td>Dublin 1</td>\n",
       "      <td>1</td>\n",
       "      <td>1</td>\n",
       "      <td>1</td>\n",
       "      <td>1</td>\n",
       "      <td>1</td>\n",
       "      <td>1</td>\n",
       "      <td>1</td>\n",
       "      <td>1</td>\n",
       "      <td>1</td>\n",
       "      <td>0</td>\n",
       "      <td>0</td>\n",
       "      <td>0</td>\n",
       "    </tr>\n",
       "    <tr>\n",
       "      <th>4</th>\n",
       "      <td>https://www.daft.ie/for-rent/apartment-apartme...</td>\n",
       "      <td>1</td>\n",
       "      <td>1</td>\n",
       "      <td>To provide you with extra peace of mind when c...</td>\n",
       "      <td>Apartment 103, Quayside Quarter, North Wall Qu...</td>\n",
       "      <td>['Parking', 'Central Heating', 'Cable Televisi...</td>\n",
       "      <td>Laura Foody</td>\n",
       "      <td>['https://photos.cdn.dsch.ie/YjFjODhmMmNmMzEwY...</td>\n",
       "      <td>2430</td>\n",
       "      <td>9759</td>\n",
       "      <td>2021-03-03</td>\n",
       "      <td>month</td>\n",
       "      <td>Dublin 1</td>\n",
       "      <td>1</td>\n",
       "      <td>1</td>\n",
       "      <td>1</td>\n",
       "      <td>1</td>\n",
       "      <td>1</td>\n",
       "      <td>1</td>\n",
       "      <td>1</td>\n",
       "      <td>1</td>\n",
       "      <td>1</td>\n",
       "      <td>0</td>\n",
       "      <td>0</td>\n",
       "      <td>0</td>\n",
       "    </tr>\n",
       "  </tbody>\n",
       "</table>\n",
       "</div>"
      ],
      "text/plain": [
       "                                            page_url  number_bathrooms  \\\n",
       "0  https://www.daft.ie/for-rent/apartment-2-bedro...                 2   \n",
       "1  https://www.daft.ie/for-rent/apartment-three-b...                 2   \n",
       "2  https://www.daft.ie/for-rent/apartment-2-bedro...                 2   \n",
       "3  https://www.daft.ie/for-rent/apartment-apartme...                 1   \n",
       "4  https://www.daft.ie/for-rent/apartment-apartme...                 1   \n",
       "\n",
       "   number_bedrooms                                        description  \\\n",
       "0                2  This elegant two bedroom apartment, offers inc...   \n",
       "1                3  This elegant three bedroom apartment, in Dubli...   \n",
       "2                2  This elegant two bedroom apartment, in Dublin’...   \n",
       "3                1  To provide you with extra peace of mind when c...   \n",
       "4                1  To provide you with extra peace of mind when c...   \n",
       "\n",
       "                                     display_address  \\\n",
       "0  2 Bedroom Apartment, Capital Dock Residence, G...   \n",
       "1  Three Bedroom Apartment, Capital Dock Residenc...   \n",
       "2  2 Bedroom Serviced Apartment, Capital Dock Res...   \n",
       "3  Apartment 1, 1A, Quayside Quarter, North Wall ...   \n",
       "4  Apartment 103, Quayside Quarter, North Wall Qu...   \n",
       "\n",
       "                                            features   manager_id  \\\n",
       "0  ['Parking', 'Central Heating', 'Cable Televisi...   Eoin Grant   \n",
       "1  ['Parking', 'Central Heating', 'Cable Televisi...   Eoin Grant   \n",
       "2  ['Parking', 'Central Heating', 'Cable Televisi...   Eoin Grant   \n",
       "3  ['Parking', 'Central Heating', 'Cable Televisi...  Laura Foody   \n",
       "4  ['Parking', 'Central Heating', 'Cable Televisi...  Laura Foody   \n",
       "\n",
       "                                              photos  price  number_of_views  \\\n",
       "0  ['https://photos.cdn.dsch.ie/OTRlZDA3YWQwNzFjO...   2970            22239   \n",
       "1  ['https://photos.cdn.dsch.ie/NmYxOWJhM2M5NTVlM...   3690             2763   \n",
       "2  ['https://photos.cdn.dsch.ie/OGNkYmRjMzc5YmExN...   4000            17421   \n",
       "3  ['https://photos.cdn.dsch.ie/YjFjODhmMmNmMzEwY...   2300             6892   \n",
       "4  ['https://photos.cdn.dsch.ie/YjFjODhmMmNmMzEwY...   2430             9759   \n",
       "\n",
       "   created_at price_period    Region  Parking  Central Heating  \\\n",
       "0  2021-03-18        month  Dublin 2        1                1   \n",
       "1  2021-03-18        month  Dublin 2        1                1   \n",
       "2  2021-03-21        month  Dublin 2        1                1   \n",
       "3  2021-03-03        month  Dublin 1        1                1   \n",
       "4  2021-03-03        month  Dublin 1        1                1   \n",
       "\n",
       "   Washing Machine  Dryer  Dishwasher  Microwave  Pets Allowed  \\\n",
       "0                1      1           1          1             1   \n",
       "1                1      1           1          1             1   \n",
       "2                1      1           1          1             1   \n",
       "3                1      1           1          1             1   \n",
       "4                1      1           1          1             1   \n",
       "\n",
       "   Wheelchair Access  Garden / Patio / Balcony  Serviced Property  \\\n",
       "0                  1                         1                  1   \n",
       "1                  1                         1                  1   \n",
       "2                  1                         1                  1   \n",
       "3                  1                         1                  0   \n",
       "4                  1                         1                  0   \n",
       "\n",
       "   price_period_code  Region_code  \n",
       "0                  0            8  \n",
       "1                  0            8  \n",
       "2                  0            8  \n",
       "3                  0            0  \n",
       "4                  0            0  "
      ]
     },
     "execution_count": 160,
     "metadata": {},
     "output_type": "execute_result"
    }
   ],
   "source": [
    "# Reset dataframe index\n",
    "\n",
    "df = df.reset_index(drop=True)\n",
    "\n",
    "df.head()\n"
   ]
  },
  {
   "cell_type": "code",
   "execution_count": 161,
   "id": "short-aside",
   "metadata": {},
   "outputs": [
    {
     "data": {
      "text/html": [
       "<div>\n",
       "<style scoped>\n",
       "    .dataframe tbody tr th:only-of-type {\n",
       "        vertical-align: middle;\n",
       "    }\n",
       "\n",
       "    .dataframe tbody tr th {\n",
       "        vertical-align: top;\n",
       "    }\n",
       "\n",
       "    .dataframe thead th {\n",
       "        text-align: right;\n",
       "    }\n",
       "</style>\n",
       "<table border=\"1\" class=\"dataframe\">\n",
       "  <thead>\n",
       "    <tr style=\"text-align: right;\">\n",
       "      <th></th>\n",
       "      <th>number_bathrooms</th>\n",
       "      <th>number_bedrooms</th>\n",
       "      <th>price</th>\n",
       "      <th>number_of_views</th>\n",
       "      <th>price_period_code</th>\n",
       "      <th>Region_code</th>\n",
       "      <th>Parking</th>\n",
       "      <th>Central Heating</th>\n",
       "      <th>Washing Machine</th>\n",
       "      <th>Dryer</th>\n",
       "      <th>Dishwasher</th>\n",
       "      <th>Microwave</th>\n",
       "      <th>Pets Allowed</th>\n",
       "      <th>Wheelchair Access</th>\n",
       "      <th>Garden / Patio / Balcony</th>\n",
       "      <th>Serviced Property</th>\n",
       "    </tr>\n",
       "  </thead>\n",
       "  <tbody>\n",
       "    <tr>\n",
       "      <th>0</th>\n",
       "      <td>2</td>\n",
       "      <td>2</td>\n",
       "      <td>2970</td>\n",
       "      <td>22239</td>\n",
       "      <td>0</td>\n",
       "      <td>8</td>\n",
       "      <td>1</td>\n",
       "      <td>1</td>\n",
       "      <td>1</td>\n",
       "      <td>1</td>\n",
       "      <td>1</td>\n",
       "      <td>1</td>\n",
       "      <td>1</td>\n",
       "      <td>1</td>\n",
       "      <td>1</td>\n",
       "      <td>1</td>\n",
       "    </tr>\n",
       "    <tr>\n",
       "      <th>1</th>\n",
       "      <td>2</td>\n",
       "      <td>3</td>\n",
       "      <td>3690</td>\n",
       "      <td>2763</td>\n",
       "      <td>0</td>\n",
       "      <td>8</td>\n",
       "      <td>1</td>\n",
       "      <td>1</td>\n",
       "      <td>1</td>\n",
       "      <td>1</td>\n",
       "      <td>1</td>\n",
       "      <td>1</td>\n",
       "      <td>1</td>\n",
       "      <td>1</td>\n",
       "      <td>1</td>\n",
       "      <td>1</td>\n",
       "    </tr>\n",
       "    <tr>\n",
       "      <th>2</th>\n",
       "      <td>2</td>\n",
       "      <td>2</td>\n",
       "      <td>4000</td>\n",
       "      <td>17421</td>\n",
       "      <td>0</td>\n",
       "      <td>8</td>\n",
       "      <td>1</td>\n",
       "      <td>1</td>\n",
       "      <td>1</td>\n",
       "      <td>1</td>\n",
       "      <td>1</td>\n",
       "      <td>1</td>\n",
       "      <td>1</td>\n",
       "      <td>1</td>\n",
       "      <td>1</td>\n",
       "      <td>1</td>\n",
       "    </tr>\n",
       "    <tr>\n",
       "      <th>3</th>\n",
       "      <td>1</td>\n",
       "      <td>1</td>\n",
       "      <td>2300</td>\n",
       "      <td>6892</td>\n",
       "      <td>0</td>\n",
       "      <td>0</td>\n",
       "      <td>1</td>\n",
       "      <td>1</td>\n",
       "      <td>1</td>\n",
       "      <td>1</td>\n",
       "      <td>1</td>\n",
       "      <td>1</td>\n",
       "      <td>1</td>\n",
       "      <td>1</td>\n",
       "      <td>1</td>\n",
       "      <td>0</td>\n",
       "    </tr>\n",
       "    <tr>\n",
       "      <th>4</th>\n",
       "      <td>1</td>\n",
       "      <td>1</td>\n",
       "      <td>2430</td>\n",
       "      <td>9759</td>\n",
       "      <td>0</td>\n",
       "      <td>0</td>\n",
       "      <td>1</td>\n",
       "      <td>1</td>\n",
       "      <td>1</td>\n",
       "      <td>1</td>\n",
       "      <td>1</td>\n",
       "      <td>1</td>\n",
       "      <td>1</td>\n",
       "      <td>1</td>\n",
       "      <td>1</td>\n",
       "      <td>0</td>\n",
       "    </tr>\n",
       "  </tbody>\n",
       "</table>\n",
       "</div>"
      ],
      "text/plain": [
       "   number_bathrooms  number_bedrooms  price  number_of_views  \\\n",
       "0                 2                2   2970            22239   \n",
       "1                 2                3   3690             2763   \n",
       "2                 2                2   4000            17421   \n",
       "3                 1                1   2300             6892   \n",
       "4                 1                1   2430             9759   \n",
       "\n",
       "   price_period_code  Region_code  Parking  Central Heating  Washing Machine  \\\n",
       "0                  0            8        1                1                1   \n",
       "1                  0            8        1                1                1   \n",
       "2                  0            8        1                1                1   \n",
       "3                  0            0        1                1                1   \n",
       "4                  0            0        1                1                1   \n",
       "\n",
       "   Dryer  Dishwasher  Microwave  Pets Allowed  Wheelchair Access  \\\n",
       "0      1           1          1             1                  1   \n",
       "1      1           1          1             1                  1   \n",
       "2      1           1          1             1                  1   \n",
       "3      1           1          1             1                  1   \n",
       "4      1           1          1             1                  1   \n",
       "\n",
       "   Garden / Patio / Balcony  Serviced Property  \n",
       "0                         1                  1  \n",
       "1                         1                  1  \n",
       "2                         1                  1  \n",
       "3                         1                  0  \n",
       "4                         1                  0  "
      ]
     },
     "execution_count": 161,
     "metadata": {},
     "output_type": "execute_result"
    }
   ],
   "source": [
    "selected_columns = ['number_bathrooms', 'number_bedrooms', 'price', 'number_of_views', 'price_period_code',\n",
    "       'Region_code', 'Parking', 'Central Heating', 'Washing Machine', 'Dryer', 'Dishwasher',\n",
    "       'Microwave', 'Pets Allowed', 'Wheelchair Access', 'Garden / Patio / Balcony', 'Serviced Property']\n",
    "\n",
    "df_apartments = pd.DataFrame()\n",
    "\n",
    "df_apartments = df[selected_columns]\n",
    "\n",
    "df_apartments.head()\n"
   ]
  },
  {
   "cell_type": "code",
   "execution_count": 162,
   "id": "simplified-victory",
   "metadata": {},
   "outputs": [
    {
     "data": {
      "text/plain": [
       "array([[0.14285714, 0.14285714, 0.33970149, 0.32522296, 0.        ,\n",
       "        0.32      , 1.        , 1.        , 1.        , 1.        ,\n",
       "        1.        , 1.        , 1.        , 1.        , 1.        ,\n",
       "        1.        ],\n",
       "       [0.14285714, 0.28571429, 0.42567164, 0.03906789, 0.        ,\n",
       "        0.32      , 1.        , 1.        , 1.        , 1.        ,\n",
       "        1.        , 1.        , 1.        , 1.        , 1.        ,\n",
       "        1.        ],\n",
       "       [0.14285714, 0.14285714, 0.46268657, 0.25443352, 0.        ,\n",
       "        0.32      , 1.        , 1.        , 1.        , 1.        ,\n",
       "        1.        , 1.        , 1.        , 1.        , 1.        ,\n",
       "        1.        ],\n",
       "       [0.        , 0.        , 0.25970149, 0.09973406, 0.        ,\n",
       "        0.        , 1.        , 1.        , 1.        , 1.        ,\n",
       "        1.        , 1.        , 1.        , 1.        , 1.        ,\n",
       "        0.        ],\n",
       "       [0.        , 0.        , 0.27522388, 0.14185804, 0.        ,\n",
       "        0.        , 1.        , 1.        , 1.        , 1.        ,\n",
       "        1.        , 1.        , 1.        , 1.        , 1.        ,\n",
       "        0.        ]])"
      ]
     },
     "execution_count": 162,
     "metadata": {},
     "output_type": "execute_result"
    }
   ],
   "source": [
    "# apply classification\n",
    "\n",
    "from sklearn.preprocessing import MinMaxScaler\n",
    "\n",
    "X = df_apartments.values #returns a numpy array\n",
    "\n",
    "min_max_scaler = MinMaxScaler()\n",
    "\n",
    "df_matrix = min_max_scaler.fit_transform(X)\n",
    "\n",
    "df_matrix [0:5]\n"
   ]
  },
  {
   "cell_type": "code",
   "execution_count": 163,
   "id": "worst-writing",
   "metadata": {},
   "outputs": [
    {
     "data": {
      "text/plain": [
       "array([[0.        , 0.33118537, 0.14190304, ..., 2.29212031, 2.50877453,\n",
       "        1.83651735],\n",
       "       [0.33118537, 0.        , 0.26107589, ..., 2.2999839 , 2.51375312,\n",
       "        1.83760502],\n",
       "       [0.14190304, 0.26107589, 0.        , ..., 2.29944216, 2.51274557,\n",
       "        1.84399258],\n",
       "       ...,\n",
       "       [2.29212031, 2.2999839 , 2.29944216, ..., 0.        , 1.87651211,\n",
       "        2.17449009],\n",
       "       [2.50877453, 2.51375312, 2.51274557, ..., 1.87651211, 0.        ,\n",
       "        2.24408577],\n",
       "       [1.83651735, 1.83760502, 1.84399258, ..., 2.17449009, 2.24408577,\n",
       "        0.        ]])"
      ]
     },
     "execution_count": 163,
     "metadata": {},
     "output_type": "execute_result"
    }
   ],
   "source": [
    "import scipy\n",
    "\n",
    "leng = df_matrix.shape[0]\n",
    "\n",
    "D = np.zeros([leng,leng])\n",
    "\n",
    "for i in range(leng):\n",
    "    for j in range(leng):\n",
    "        D[i,j] = scipy.spatial.distance.euclidean(df_matrix[i], df_matrix[j])\n",
    "D"
   ]
  },
  {
   "cell_type": "code",
   "execution_count": 141,
   "id": "decreased-modification",
   "metadata": {},
   "outputs": [
    {
     "name": "stderr",
     "output_type": "stream",
     "text": [
      "<ipython-input-141-8655000d21de>:3: ClusterWarning: scipy.cluster: The symmetric non-negative hollow observation matrix looks suspiciously like an uncondensed distance matrix\n",
      "  Z = hierarchy.linkage(D, 'complete')\n"
     ]
    }
   ],
   "source": [
    "import pylab\n",
    "import scipy.cluster.hierarchy\n",
    "\n",
    "Z = hierarchy.linkage(D, 'complete')"
   ]
  },
  {
   "cell_type": "code",
   "execution_count": 142,
   "id": "stainless-situation",
   "metadata": {},
   "outputs": [
    {
     "data": {
      "text/plain": [
       "array([4, 4, 4, ..., 5, 3, 4], dtype=int32)"
      ]
     },
     "execution_count": 142,
     "metadata": {},
     "output_type": "execute_result"
    }
   ],
   "source": [
    "from scipy.cluster.hierarchy import fcluster\n",
    "k = 5\n",
    "clusters = fcluster(Z, k, criterion='maxclust')\n",
    "clusters"
   ]
  },
  {
   "cell_type": "code",
   "execution_count": 192,
   "id": "lyric-rebecca",
   "metadata": {},
   "outputs": [
    {
     "data": {
      "image/png": "[encoded data removed]",
      "text/plain": [
       "<Figure size 648x648 with 1 Axes>"
      ]
     },
     "metadata": {
      "needs_background": "light"
     },
     "output_type": "display_data"
    }
   ],
   "source": [
    "fig = pylab.figure(figsize=(9,9))\n",
    "\n",
    "def llf(id):\n",
    "    return '[%s]' % (df['Pets Allowed'][id] )\n",
    "    \n",
    "dendro = hierarchy.dendrogram(Z,  leaf_label_func=llf, leaf_rotation=0, leaf_font_size =12, orientation = 'right')"
   ]
  },
  {
   "cell_type": "code",
   "execution_count": 193,
   "id": "standing-rider",
   "metadata": {},
   "outputs": [
    {
     "name": "stdout",
     "output_type": "stream",
     "text": [
      "[[0.         0.33118537 0.14190304 ... 2.29212031 2.50877453 1.83651735]\n",
      " [0.33118537 0.         0.26107589 ... 2.2999839  2.51375312 1.83760502]\n",
      " [0.14190304 0.26107589 0.         ... 2.29944216 2.51274557 1.84399258]\n",
      " ...\n",
      " [2.29212031 2.2999839  2.29944216 ... 0.         1.87651211 2.17449009]\n",
      " [2.50877453 2.51375312 2.51274557 ... 1.87651211 0.         2.24408577]\n",
      " [1.83651735 1.83760502 1.84399258 ... 2.17449009 2.24408577 0.        ]]\n"
     ]
    }
   ],
   "source": [
    "# now using sklearn\n",
    "\n",
    "from sklearn.metrics.pairwise import euclidean_distances\n",
    "dist_matrix = euclidean_distances(df_matrix,df_matrix) \n",
    "print(dist_matrix)"
   ]
  },
  {
   "cell_type": "code",
   "execution_count": 194,
   "id": "billion-prague",
   "metadata": {},
   "outputs": [
    {
     "name": "stderr",
     "output_type": "stream",
     "text": [
      "<ipython-input-194-bf9ca02f569b>:1: ClusterWarning: scipy.cluster: The symmetric non-negative hollow observation matrix looks suspiciously like an uncondensed distance matrix\n",
      "  Z_using_dist_matrix = hierarchy.linkage(dist_matrix, 'complete')\n"
     ]
    }
   ],
   "source": [
    "Z_using_dist_matrix = hierarchy.linkage(dist_matrix, 'complete')"
   ]
  },
  {
   "cell_type": "code",
   "execution_count": 198,
   "id": "generic-bread",
   "metadata": {},
   "outputs": [
    {
     "data": {
      "image/png": "[encoded data removed]",
      "text/plain": [
       "<Figure size 648x648 with 1 Axes>"
      ]
     },
     "metadata": {
      "needs_background": "light"
     },
     "output_type": "display_data"
    }
   ],
   "source": [
    "fig = pylab.figure(figsize=(9,9))\n",
    "\n",
    "def llf(id):\n",
    "    return '[%s]' % (df['Pets Allowed'][id] )\n",
    "    \n",
    "dendro = hierarchy.dendrogram(Z_using_dist_matrix,  leaf_label_func=llf, leaf_rotation=0, leaf_font_size =12, orientation = 'right')"
   ]
  },
  {
   "cell_type": "markdown",
   "id": "chinese-kitty",
   "metadata": {},
   "source": [
    "Now, we can use the 'AgglomerativeClustering' function from scikit-learn library to cluster the dataset. The AgglomerativeClustering performs a hierarchical clustering using a bottom up approach. The linkage criteria determines the metric used for the merge strategy:\n",
    "\n",
    "-   **Ward** minimizes the sum of squared differences within all clusters. It is a variance-minimizing approach and in this sense is similar to the k-means objective function but tackled with an agglomerative hierarchical approach.\n",
    "-   Maximum or **complete** linkage minimizes the maximum distance between observations of pairs of clusters.\n",
    "-   **Average** linkage minimizes the average of the distances between all observations of pairs of clusters."
   ]
  },
  {
   "cell_type": "code",
   "execution_count": 199,
   "id": "graphic-patio",
   "metadata": {},
   "outputs": [
    {
     "name": "stderr",
     "output_type": "stream",
     "text": [
      "/home/fredsena/anaconda3/envs/jupyterlab-debugger/lib/python3.9/site-packages/sklearn/cluster/_agglomerative.py:493: ClusterWarning: scipy.cluster: The symmetric non-negative hollow observation matrix looks suspiciously like an uncondensed distance matrix\n",
      "  out = hierarchy.linkage(X, method=linkage, metric=affinity)\n"
     ]
    },
    {
     "data": {
      "text/plain": [
       "array([0, 0, 0, ..., 0, 0, 0])"
      ]
     },
     "execution_count": 199,
     "metadata": {},
     "output_type": "execute_result"
    }
   ],
   "source": [
    "agglom = AgglomerativeClustering(n_clusters = 3, linkage = 'complete')\n",
    "agglom.fit(dist_matrix)\n",
    "\n",
    "agglom.labels_"
   ]
  },
  {
   "cell_type": "code",
   "execution_count": 202,
   "id": "tropical-illness",
   "metadata": {},
   "outputs": [],
   "source": [
    "df['cluster'] = agglom.labels_\n"
   ]
  },
  {
   "cell_type": "code",
   "execution_count": 201,
   "id": "peaceful-failing",
   "metadata": {},
   "outputs": [
    {
     "data": {
      "text/plain": [
       "1    860\n",
       "0    720\n",
       "2     48\n",
       "Name: cluster, dtype: int64"
      ]
     },
     "execution_count": 201,
     "metadata": {},
     "output_type": "execute_result"
    }
   ],
   "source": [
    "df['cluster'].value_counts()"
   ]
  },
  {
   "cell_type": "code",
   "execution_count": 250,
   "id": "controversial-planning",
   "metadata": {},
   "outputs": [
    {
     "name": "stdout",
     "output_type": "stream",
     "text": [
      "cluster  Washing Machine\n",
      "0        0                  102\n",
      "         1                  618\n",
      "1        0                    3\n",
      "         1                  857\n",
      "2        0                   41\n",
      "         1                    7\n",
      "Name: cluster, dtype: int64\n",
      "cluster  Dryer\n",
      "0        0        474\n",
      "         1        246\n",
      "1        0        147\n",
      "         1        713\n",
      "2        0         47\n",
      "         1          1\n",
      "Name: cluster, dtype: int64\n"
     ]
    }
   ],
   "source": [
    "# ['page_url', 'number_bathrooms', 'number_bedrooms', 'description',\n",
    "#        'display_address', 'features', 'manager_id', 'photos', 'price',\n",
    "#        'number_of_views', 'created_at', 'price_period', 'Region', 'Parking',\n",
    "#        'Central Heating', 'Washing Machine', 'Dryer', 'Dishwasher',\n",
    "#        'Microwave', 'Pets Allowed', 'Wheelchair Access',\n",
    "#        'Garden / Patio / Balcony', 'Serviced Property', 'price_period_code',\n",
    "#        'Region_code']\n",
    "\n",
    "\n",
    "#df.groupby(['cluster', 'Washing Machine', 'Dryer', 'Serviced Property'])['cluster'].count()\n",
    "\n",
    "\n",
    "print(df.groupby(['cluster', 'Washing Machine'])['cluster'].count())\n",
    "\n",
    "\n",
    "print(df.groupby(['cluster', 'Dryer'])['cluster'].count())\n"
   ]
  },
  {
   "cell_type": "code",
   "execution_count": 240,
   "id": "small-billion",
   "metadata": {},
   "outputs": [
    {
     "data": {
      "text/plain": [
       "cluster\n",
       "0    1728.629167\n",
       "1    2048.900000\n",
       "2    1485.250000\n",
       "Name: price, dtype: float64"
      ]
     },
     "execution_count": 240,
     "metadata": {},
     "output_type": "execute_result"
    }
   ],
   "source": [
    "agg_apartment = df.groupby(['cluster'])['price'].mean()\n",
    "agg_apartment"
   ]
  },
  {
   "cell_type": "code",
   "execution_count": 214,
   "id": "divided-soldier",
   "metadata": {},
   "outputs": [
    {
     "data": {
      "text/plain": [
       "<AxesSubplot:>"
      ]
     },
     "execution_count": 214,
     "metadata": {},
     "output_type": "execute_result"
    },
    {
     "data": {
      "image/png": "[encoded data removed]",
      "text/plain": [
       "<Figure size 1440x720 with 2 Axes>"
      ]
     },
     "metadata": {},
     "output_type": "display_data"
    }
   ],
   "source": [
    "import seaborn as sns\n",
    "sns.set()\n",
    "\n",
    "plt.subplots(figsize=(20,10))\n",
    "sns.heatmap(df.corr(), annot=True)"
   ]
  },
  {
   "cell_type": "code",
   "execution_count": 264,
   "id": "funded-brazil",
   "metadata": {},
   "outputs": [
    {
     "name": "stdout",
     "output_type": "stream",
     "text": [
      "(48, 26)\n"
     ]
    },
    {
     "data": {
      "text/plain": [
       "Index(['page_url', 'number_bathrooms', 'number_bedrooms', 'description',\n",
       "       'display_address', 'features', 'manager_id', 'photos', 'price',\n",
       "       'number_of_views', 'created_at', 'price_period', 'Region', 'Parking',\n",
       "       'Central Heating', 'Washing Machine', 'Dryer', 'Dishwasher',\n",
       "       'Microwave', 'Pets Allowed', 'Wheelchair Access',\n",
       "       'Garden / Patio / Balcony', 'Serviced Property', 'price_period_code',\n",
       "       'Region_code', 'cluster'],\n",
       "      dtype='object')"
      ]
     },
     "execution_count": 264,
     "metadata": {},
     "output_type": "execute_result"
    }
   ],
   "source": [
    "cluster2 = df[df['cluster'] == 2]\n",
    "print(cluster2.shape)\n",
    "cluster2.columns\n"
   ]
  },
  {
   "cell_type": "code",
   "execution_count": 232,
   "id": "knowing-round",
   "metadata": {},
   "outputs": [
    {
     "data": {
      "text/html": [
       "<div>\n",
       "<style scoped>\n",
       "    .dataframe tbody tr th:only-of-type {\n",
       "        vertical-align: middle;\n",
       "    }\n",
       "\n",
       "    .dataframe tbody tr th {\n",
       "        vertical-align: top;\n",
       "    }\n",
       "\n",
       "    .dataframe thead th {\n",
       "        text-align: right;\n",
       "    }\n",
       "</style>\n",
       "<table border=\"1\" class=\"dataframe\">\n",
       "  <thead>\n",
       "    <tr style=\"text-align: right;\">\n",
       "      <th></th>\n",
       "      <th>number_bathrooms</th>\n",
       "      <th>number_bedrooms</th>\n",
       "      <th>price</th>\n",
       "      <th>Parking</th>\n",
       "      <th>Central Heating</th>\n",
       "      <th>Washing Machine</th>\n",
       "      <th>Dryer</th>\n",
       "      <th>Dishwasher</th>\n",
       "      <th>Microwave</th>\n",
       "      <th>Pets Allowed</th>\n",
       "      <th>Wheelchair Access</th>\n",
       "      <th>Garden / Patio / Balcony</th>\n",
       "      <th>Serviced Property</th>\n",
       "      <th>Region_code</th>\n",
       "      <th>cluster</th>\n",
       "    </tr>\n",
       "  </thead>\n",
       "  <tbody>\n",
       "    <tr>\n",
       "      <th>count</th>\n",
       "      <td>48.000000</td>\n",
       "      <td>48.000000</td>\n",
       "      <td>48.000000</td>\n",
       "      <td>48.000000</td>\n",
       "      <td>48.000000</td>\n",
       "      <td>48.000000</td>\n",
       "      <td>48.000000</td>\n",
       "      <td>48.000000</td>\n",
       "      <td>48.000000</td>\n",
       "      <td>48.000000</td>\n",
       "      <td>48.000000</td>\n",
       "      <td>48.000000</td>\n",
       "      <td>48.000000</td>\n",
       "      <td>48.000000</td>\n",
       "      <td>48.0</td>\n",
       "    </tr>\n",
       "    <tr>\n",
       "      <th>mean</th>\n",
       "      <td>2.020833</td>\n",
       "      <td>2.500000</td>\n",
       "      <td>1485.250000</td>\n",
       "      <td>0.541667</td>\n",
       "      <td>0.250000</td>\n",
       "      <td>0.145833</td>\n",
       "      <td>0.020833</td>\n",
       "      <td>0.083333</td>\n",
       "      <td>0.125000</td>\n",
       "      <td>0.229167</td>\n",
       "      <td>0.687500</td>\n",
       "      <td>0.312500</td>\n",
       "      <td>0.062500</td>\n",
       "      <td>11.729167</td>\n",
       "      <td>2.0</td>\n",
       "    </tr>\n",
       "    <tr>\n",
       "      <th>std</th>\n",
       "      <td>1.815882</td>\n",
       "      <td>2.062842</td>\n",
       "      <td>986.173877</td>\n",
       "      <td>0.503534</td>\n",
       "      <td>0.437595</td>\n",
       "      <td>0.356674</td>\n",
       "      <td>0.144338</td>\n",
       "      <td>0.279310</td>\n",
       "      <td>0.334219</td>\n",
       "      <td>0.424744</td>\n",
       "      <td>0.468417</td>\n",
       "      <td>0.468417</td>\n",
       "      <td>0.244623</td>\n",
       "      <td>7.493940</td>\n",
       "      <td>0.0</td>\n",
       "    </tr>\n",
       "    <tr>\n",
       "      <th>min</th>\n",
       "      <td>1.000000</td>\n",
       "      <td>1.000000</td>\n",
       "      <td>125.000000</td>\n",
       "      <td>0.000000</td>\n",
       "      <td>0.000000</td>\n",
       "      <td>0.000000</td>\n",
       "      <td>0.000000</td>\n",
       "      <td>0.000000</td>\n",
       "      <td>0.000000</td>\n",
       "      <td>0.000000</td>\n",
       "      <td>0.000000</td>\n",
       "      <td>0.000000</td>\n",
       "      <td>0.000000</td>\n",
       "      <td>0.000000</td>\n",
       "      <td>2.0</td>\n",
       "    </tr>\n",
       "    <tr>\n",
       "      <th>25%</th>\n",
       "      <td>1.000000</td>\n",
       "      <td>1.000000</td>\n",
       "      <td>381.250000</td>\n",
       "      <td>0.000000</td>\n",
       "      <td>0.000000</td>\n",
       "      <td>0.000000</td>\n",
       "      <td>0.000000</td>\n",
       "      <td>0.000000</td>\n",
       "      <td>0.000000</td>\n",
       "      <td>0.000000</td>\n",
       "      <td>0.000000</td>\n",
       "      <td>0.000000</td>\n",
       "      <td>0.000000</td>\n",
       "      <td>7.250000</td>\n",
       "      <td>2.0</td>\n",
       "    </tr>\n",
       "    <tr>\n",
       "      <th>50%</th>\n",
       "      <td>1.000000</td>\n",
       "      <td>2.000000</td>\n",
       "      <td>1699.000000</td>\n",
       "      <td>1.000000</td>\n",
       "      <td>0.000000</td>\n",
       "      <td>0.000000</td>\n",
       "      <td>0.000000</td>\n",
       "      <td>0.000000</td>\n",
       "      <td>0.000000</td>\n",
       "      <td>0.000000</td>\n",
       "      <td>1.000000</td>\n",
       "      <td>0.000000</td>\n",
       "      <td>0.000000</td>\n",
       "      <td>13.000000</td>\n",
       "      <td>2.0</td>\n",
       "    </tr>\n",
       "    <tr>\n",
       "      <th>75%</th>\n",
       "      <td>2.000000</td>\n",
       "      <td>2.000000</td>\n",
       "      <td>2000.000000</td>\n",
       "      <td>1.000000</td>\n",
       "      <td>0.250000</td>\n",
       "      <td>0.000000</td>\n",
       "      <td>0.000000</td>\n",
       "      <td>0.000000</td>\n",
       "      <td>0.000000</td>\n",
       "      <td>0.000000</td>\n",
       "      <td>1.000000</td>\n",
       "      <td>1.000000</td>\n",
       "      <td>0.000000</td>\n",
       "      <td>18.000000</td>\n",
       "      <td>2.0</td>\n",
       "    </tr>\n",
       "    <tr>\n",
       "      <th>max</th>\n",
       "      <td>8.000000</td>\n",
       "      <td>8.000000</td>\n",
       "      <td>3850.000000</td>\n",
       "      <td>1.000000</td>\n",
       "      <td>1.000000</td>\n",
       "      <td>1.000000</td>\n",
       "      <td>1.000000</td>\n",
       "      <td>1.000000</td>\n",
       "      <td>1.000000</td>\n",
       "      <td>1.000000</td>\n",
       "      <td>1.000000</td>\n",
       "      <td>1.000000</td>\n",
       "      <td>1.000000</td>\n",
       "      <td>25.000000</td>\n",
       "      <td>2.0</td>\n",
       "    </tr>\n",
       "  </tbody>\n",
       "</table>\n",
       "</div>"
      ],
      "text/plain": [
       "       number_bathrooms  number_bedrooms        price    Parking  \\\n",
       "count         48.000000        48.000000    48.000000  48.000000   \n",
       "mean           2.020833         2.500000  1485.250000   0.541667   \n",
       "std            1.815882         2.062842   986.173877   0.503534   \n",
       "min            1.000000         1.000000   125.000000   0.000000   \n",
       "25%            1.000000         1.000000   381.250000   0.000000   \n",
       "50%            1.000000         2.000000  1699.000000   1.000000   \n",
       "75%            2.000000         2.000000  2000.000000   1.000000   \n",
       "max            8.000000         8.000000  3850.000000   1.000000   \n",
       "\n",
       "       Central Heating  Washing Machine      Dryer  Dishwasher  Microwave  \\\n",
       "count        48.000000        48.000000  48.000000   48.000000  48.000000   \n",
       "mean          0.250000         0.145833   0.020833    0.083333   0.125000   \n",
       "std           0.437595         0.356674   0.144338    0.279310   0.334219   \n",
       "min           0.000000         0.000000   0.000000    0.000000   0.000000   \n",
       "25%           0.000000         0.000000   0.000000    0.000000   0.000000   \n",
       "50%           0.000000         0.000000   0.000000    0.000000   0.000000   \n",
       "75%           0.250000         0.000000   0.000000    0.000000   0.000000   \n",
       "max           1.000000         1.000000   1.000000    1.000000   1.000000   \n",
       "\n",
       "       Pets Allowed  Wheelchair Access  Garden / Patio / Balcony  \\\n",
       "count     48.000000          48.000000                 48.000000   \n",
       "mean       0.229167           0.687500                  0.312500   \n",
       "std        0.424744           0.468417                  0.468417   \n",
       "min        0.000000           0.000000                  0.000000   \n",
       "25%        0.000000           0.000000                  0.000000   \n",
       "50%        0.000000           1.000000                  0.000000   \n",
       "75%        0.000000           1.000000                  1.000000   \n",
       "max        1.000000           1.000000                  1.000000   \n",
       "\n",
       "       Serviced Property  Region_code  cluster  \n",
       "count          48.000000    48.000000     48.0  \n",
       "mean            0.062500    11.729167      2.0  \n",
       "std             0.244623     7.493940      0.0  \n",
       "min             0.000000     0.000000      2.0  \n",
       "25%             0.000000     7.250000      2.0  \n",
       "50%             0.000000    13.000000      2.0  \n",
       "75%             0.000000    18.000000      2.0  \n",
       "max             1.000000    25.000000      2.0  "
      ]
     },
     "execution_count": 232,
     "metadata": {},
     "output_type": "execute_result"
    }
   ],
   "source": [
    "features_analysis = ['number_bathrooms', 'number_bedrooms', 'price',\n",
    "        'price_period', 'Region', 'Parking',\n",
    "       'Central Heating', 'Washing Machine', 'Dryer', 'Dishwasher',\n",
    "       'Microwave', 'Pets Allowed', 'Wheelchair Access',\n",
    "       'Garden / Patio / Balcony', 'Serviced Property', 'Region_code', 'cluster']\n",
    "\n",
    "cluster2[features_analysis].describe()\n"
   ]
  },
  {
   "cell_type": "code",
   "execution_count": 238,
   "id": "intellectual-heavy",
   "metadata": {},
   "outputs": [
    {
     "data": {
      "text/plain": [
       "Washing Machine  Dryer\n",
       "0                0        41\n",
       "1                0         6\n",
       "                 1         1\n",
       "Name: cluster, dtype: int64"
      ]
     },
     "execution_count": 238,
     "metadata": {},
     "output_type": "execute_result"
    }
   ],
   "source": [
    "# ['page_url', 'number_bathrooms', 'number_bedrooms', 'description',\n",
    "#        'display_address', 'features', 'manager_id', 'photos', 'price',\n",
    "#        'number_of_views', 'created_at', 'price_period', 'Region', 'Parking',\n",
    "#        'Central Heating', 'Washing Machine', 'Dryer', 'Dishwasher',\n",
    "#        'Microwave', 'Pets Allowed', 'Wheelchair Access',\n",
    "#        'Garden / Patio / Balcony', 'Serviced Property', 'price_period_code',\n",
    "#        'Region_code']\n",
    "\n",
    "\n",
    "cluster2[features_analysis].groupby(['Washing Machine', 'Dryer' ])['cluster'].count()"
   ]
  },
  {
   "cell_type": "code",
   "execution_count": 252,
   "id": "russian-acceptance",
   "metadata": {},
   "outputs": [
    {
     "data": {
      "text/plain": [
       "cluster\n",
       "2    1485.25\n",
       "Name: price, dtype: float64"
      ]
     },
     "execution_count": 252,
     "metadata": {},
     "output_type": "execute_result"
    }
   ],
   "source": [
    "agg_apartment_cluster2 = cluster2.groupby(['cluster'])['price'].mean()\n",
    "agg_apartment_cluster2"
   ]
  },
  {
   "cell_type": "code",
   "execution_count": 254,
   "id": "alternative-april",
   "metadata": {},
   "outputs": [
    {
     "data": {
      "text/plain": [
       "Dublin 1             9\n",
       "Dublin 8             8\n",
       "Dublin 4             6\n",
       "Dublin 2             5\n",
       "Dublin 3             4\n",
       "Dublin 7             4\n",
       "Dublin 9             2\n",
       "Dublin 13            1\n",
       "Dublin 6             1\n",
       "Dun Laoghaire A96    1\n",
       "Dun Laoghaire A94    1\n",
       "Dublin Fingal K67    1\n",
       "Dublin Fingal K36    1\n",
       "Dublin 12            1\n",
       "South Dublin K78     1\n",
       "Dublin 24            1\n",
       "Dublin 15            1\n",
       "Dublin 14            0\n",
       "Dublin 6W            0\n",
       "Dublin 11            0\n",
       "Dublin 22            0\n",
       "Dublin 20            0\n",
       "Dublin 18            0\n",
       "Dublin 16            0\n",
       "Dun Laoghaire A9X    0\n",
       "Dublin 5             0\n",
       "Name: Region, dtype: int64"
      ]
     },
     "execution_count": 254,
     "metadata": {},
     "output_type": "execute_result"
    }
   ],
   "source": [
    "cluster2['Region'].value_counts()"
   ]
  },
  {
   "cell_type": "code",
   "execution_count": null,
   "id": "unexpected-monster",
   "metadata": {},
   "outputs": [],
   "source": [
    "# TODO: transform week prices into month prices"
   ]
  },
  {
   "cell_type": "code",
   "execution_count": 265,
   "id": "opposite-lottery",
   "metadata": {},
   "outputs": [
    {
     "data": {
      "text/plain": [
       "(1628, 26)"
      ]
     },
     "execution_count": 265,
     "metadata": {},
     "output_type": "execute_result"
    }
   ],
   "source": [
    "df.shape"
   ]
  },
  {
   "cell_type": "code",
   "execution_count": 266,
   "id": "unauthorized-paint",
   "metadata": {},
   "outputs": [
    {
     "data": {
      "text/plain": [
       "Index(['page_url', 'number_bathrooms', 'number_bedrooms', 'description',\n",
       "       'display_address', 'features', 'manager_id', 'photos', 'price',\n",
       "       'number_of_views', 'created_at', 'price_period', 'Region', 'Parking',\n",
       "       'Central Heating', 'Washing Machine', 'Dryer', 'Dishwasher',\n",
       "       'Microwave', 'Pets Allowed', 'Wheelchair Access',\n",
       "       'Garden / Patio / Balcony', 'Serviced Property', 'price_period_code',\n",
       "       'Region_code', 'cluster'],\n",
       "      dtype='object')"
      ]
     },
     "execution_count": 266,
     "metadata": {},
     "output_type": "execute_result"
    }
   ],
   "source": [
    "df.columns"
   ]
  },
  {
   "cell_type": "code",
   "execution_count": 269,
   "id": "equivalent-symphony",
   "metadata": {},
   "outputs": [],
   "source": [
    "features_export =  ['Region', 'Region_code', 'price_period', 'price_period_code', 'price',\n",
    "                    'number_bathrooms', 'number_bedrooms', 'Parking', 'Central Heating', \n",
    "                    'Washing Machine', 'Dryer', 'Dishwasher', 'Microwave', 'Pets Allowed', \n",
    "                    'Wheelchair Access','Garden / Patio / Balcony', 'Serviced Property']"
   ]
  },
  {
   "cell_type": "code",
   "execution_count": 270,
   "id": "breathing-excellence",
   "metadata": {},
   "outputs": [],
   "source": [
    "\n",
    "df[features_export].to_csv('data/daft_apartments_with_features.csv')"
   ]
  },
  {
   "cell_type": "code",
   "execution_count": null,
   "id": "final-criminal",
   "metadata": {},
   "outputs": [],
   "source": []
  }
 ],
 "metadata": {
  "kernelspec": {
   "display_name": "Python 3",
   "language": "python",
   "name": "python3"
  },
  "language_info": {
   "codemirror_mode": {
    "name": "ipython",
    "version": 3
   },
   "file_extension": ".py",
   "mimetype": "text/x-python",
   "name": "python",
   "nbconvert_exporter": "python",
   "pygments_lexer": "ipython3",
   "version": "3.9.2"
  }
 },
 "nbformat": 4,
 "nbformat_minor": 5
}
