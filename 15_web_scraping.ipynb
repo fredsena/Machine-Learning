{
 "cells": [
  {
   "cell_type": "code",
   "execution_count": 90,
   "id": "owned-jumping",
   "metadata": {},
   "outputs": [],
   "source": [
    "import pandas as pd\n",
    "import numpy as np\n",
    "\n",
    "from urllib.request import urlopen\n",
    "from bs4 import BeautifulSoup\n",
    "\n",
    "pd.set_option('display.max_columns', None)\n",
    "pd.set_option('display.max_colwidth', None)"
   ]
  },
  {
   "cell_type": "code",
   "execution_count": 61,
   "id": "featured-brook",
   "metadata": {},
   "outputs": [],
   "source": [
    "html = urlopen('https://www.thomann.de/ie/electronic_drumsets.html?ls=500&pg=1')\n",
    "\n",
    "bs = BeautifulSoup(html.read(), 'html.parser')"
   ]
  },
  {
   "cell_type": "code",
   "execution_count": 62,
   "id": "narrow-guyana",
   "metadata": {},
   "outputs": [
    {
     "name": "stdout",
     "output_type": "stream",
     "text": [
      "['550 Voices', '30 Preset kits', '20 User kits']\n",
      "['Compact entry-level electric drum set', 'Pads and foot controller completely integrated into stand', 'Connections: Headphone jack, USB, AUX in']\n"
     ]
    }
   ],
   "source": [
    "#nameList = bs.findAll('span', {'class':'title__manufacturer'})\n",
    "\n",
    "# nameList = bs.findAll('span', {'class':['title__manufacturer', 'title__name']})\n",
    "\n",
    "nameList = bs.findAll(True, {'class':'fx-list'})\n",
    "\n",
    "\n",
    "for name in nameList[0:2]:\n",
    "    print(name.get_text().strip().split('\\n'))\n",
    "    "
   ]
  },
  {
   "cell_type": "code",
   "execution_count": 107,
   "id": "three-element",
   "metadata": {},
   "outputs": [],
   "source": [
    "# manufacturer = [x.text.strip() for x in bs.findAll(True, {'class':'title__manufacturer'})]\n",
    "# product = [x.text.strip() for x in bs.findAll(True, {'class':'title__name'})]\n",
    "# features_list = [x.text.strip().split('\\n') for x in bs.findAll(True, {'class':'product__description'})]\n",
    "# qtd_ratings = [x.text.strip() for x in bs.findAll(True, {'class':'fx-rating-stars__description'})]\n",
    "# price = [x.text.strip() for x in bs.findAll(True, {'class':'product__price-primary'})]    \n",
    "\n",
    "\n",
    "# qtd_ratings = [x.text.strip() for x in bs.findAll(True, {'class':'product__meta-line'})]\n",
    "\n",
    "# len(qtd_ratings)\n",
    "\n",
    "#bs.findAll('span', {'class':['title__manufacturer', 'title__name']})\n",
    "\n",
    "# test = bs.findAll(True, {'class':'product__meta-line'})\n",
    "\n",
    "test = bs.findAll(True, {'class':['title__name', 'product__meta-line']})\n",
    "\n",
    "#test\n"
   ]
  },
  {
   "cell_type": "code",
   "execution_count": 79,
   "id": "asian-arnold",
   "metadata": {},
   "outputs": [
    {
     "data": {
      "text/html": [
       "<div>\n",
       "<style scoped>\n",
       "    .dataframe tbody tr th:only-of-type {\n",
       "        vertical-align: middle;\n",
       "    }\n",
       "\n",
       "    .dataframe tbody tr th {\n",
       "        vertical-align: top;\n",
       "    }\n",
       "\n",
       "    .dataframe thead th {\n",
       "        text-align: right;\n",
       "    }\n",
       "</style>\n",
       "<table border=\"1\" class=\"dataframe\">\n",
       "  <thead>\n",
       "    <tr style=\"text-align: right;\">\n",
       "      <th></th>\n",
       "      <th>manufacturer</th>\n",
       "      <th>product</th>\n",
       "      <th>features_list</th>\n",
       "      <th>price</th>\n",
       "    </tr>\n",
       "  </thead>\n",
       "  <tbody>\n",
       "    <tr>\n",
       "      <th>0</th>\n",
       "      <td>Millenium</td>\n",
       "      <td>MPS-850 E-Drum Set</td>\n",
       "      <td>[550 Voices, 30 Preset kits, 20 User kits]</td>\n",
       "      <td>€599</td>\n",
       "    </tr>\n",
       "    <tr>\n",
       "      <th>1</th>\n",
       "      <td>Millenium</td>\n",
       "      <td>HD-50 E-Drum Set</td>\n",
       "      <td>[Compact entry-level electric drum set, Pads a...</td>\n",
       "      <td>€159</td>\n",
       "    </tr>\n",
       "    <tr>\n",
       "      <th>2</th>\n",
       "      <td>Roland</td>\n",
       "      <td>TD-1DMK V-Drum Set</td>\n",
       "      <td>[Entry-level model into the world of Roland V-...</td>\n",
       "      <td>€599</td>\n",
       "    </tr>\n",
       "    <tr>\n",
       "      <th>3</th>\n",
       "      <td>Millenium</td>\n",
       "      <td>MPS-750X E-Drum Mesh Set</td>\n",
       "      <td>[Drum module with 20 presets and 20 user kits,...</td>\n",
       "      <td>€499</td>\n",
       "    </tr>\n",
       "    <tr>\n",
       "      <th>4</th>\n",
       "      <td>Millenium</td>\n",
       "      <td>MPS-150 E-Drum Set</td>\n",
       "      <td>[Ideal E-Drum beginner set, MPS-150 Sound modu...</td>\n",
       "      <td>€249</td>\n",
       "    </tr>\n",
       "    <tr>\n",
       "      <th>...</th>\n",
       "      <td>...</td>\n",
       "      <td>...</td>\n",
       "      <td>...</td>\n",
       "      <td>...</td>\n",
       "    </tr>\n",
       "    <tr>\n",
       "      <th>95</th>\n",
       "      <td>Senstroke</td>\n",
       "      <td>2 Sensors Essential Pack</td>\n",
       "      <td>[Allows you to play on any surface after the s...</td>\n",
       "      <td>€153</td>\n",
       "    </tr>\n",
       "    <tr>\n",
       "      <th>96</th>\n",
       "      <td>Simmons</td>\n",
       "      <td>SD1200 E-Drum Set Bundle</td>\n",
       "      <td>[Simmons SD1200 E-Drum Set, 764 Preset sounds,...</td>\n",
       "      <td>€699</td>\n",
       "    </tr>\n",
       "    <tr>\n",
       "      <th>97</th>\n",
       "      <td>Senstroke</td>\n",
       "      <td>4 Sensors Standard Pack</td>\n",
       "      <td>[Complete package consisting of 4 sensors, All...</td>\n",
       "      <td>€219</td>\n",
       "    </tr>\n",
       "    <tr>\n",
       "      <th>98</th>\n",
       "      <td>Behringer</td>\n",
       "      <td>XD80USB E-Drum Set Bundle</td>\n",
       "      <td>[E-Drum Set]</td>\n",
       "      <td>€371</td>\n",
       "    </tr>\n",
       "    <tr>\n",
       "      <th>99</th>\n",
       "      <td>Gewa</td>\n",
       "      <td>G9 E-Drum Set Pro C5 Bundle</td>\n",
       "      <td>[Gewa G9 E-Drum Set Pro C5, DW 5000TD3 Single ...</td>\n",
       "      <td>€5,399</td>\n",
       "    </tr>\n",
       "  </tbody>\n",
       "</table>\n",
       "<p>100 rows × 4 columns</p>\n",
       "</div>"
      ],
      "text/plain": [
       "   manufacturer                      product  \\\n",
       "0     Millenium           MPS-850 E-Drum Set   \n",
       "1     Millenium             HD-50 E-Drum Set   \n",
       "2        Roland           TD-1DMK V-Drum Set   \n",
       "3     Millenium     MPS-750X E-Drum Mesh Set   \n",
       "4     Millenium           MPS-150 E-Drum Set   \n",
       "..          ...                          ...   \n",
       "95    Senstroke     2 Sensors Essential Pack   \n",
       "96      Simmons     SD1200 E-Drum Set Bundle   \n",
       "97    Senstroke      4 Sensors Standard Pack   \n",
       "98    Behringer    XD80USB E-Drum Set Bundle   \n",
       "99         Gewa  G9 E-Drum Set Pro C5 Bundle   \n",
       "\n",
       "                                        features_list   price  \n",
       "0          [550 Voices, 30 Preset kits, 20 User kits]    €599  \n",
       "1   [Compact entry-level electric drum set, Pads a...    €159  \n",
       "2   [Entry-level model into the world of Roland V-...    €599  \n",
       "3   [Drum module with 20 presets and 20 user kits,...    €499  \n",
       "4   [Ideal E-Drum beginner set, MPS-150 Sound modu...    €249  \n",
       "..                                                ...     ...  \n",
       "95  [Allows you to play on any surface after the s...    €153  \n",
       "96  [Simmons SD1200 E-Drum Set, 764 Preset sounds,...    €699  \n",
       "97  [Complete package consisting of 4 sensors, All...    €219  \n",
       "98                                       [E-Drum Set]    €371  \n",
       "99  [Gewa G9 E-Drum Set Pro C5, DW 5000TD3 Single ...  €5,399  \n",
       "\n",
       "[100 rows x 4 columns]"
      ]
     },
     "execution_count": 79,
     "metadata": {},
     "output_type": "execute_result"
    }
   ],
   "source": [
    "df_drums = pd.DataFrame()\n",
    "\n",
    "df_drums['manufacturer'] = [x.text.strip() for x in bs.findAll(True, {'class':'title__manufacturer'})]\n",
    "\n",
    "df_drums['product'] = [x.text for x in bs.findAll(True, {'class':'title__name'})]\n",
    "\n",
    "df_drums['features_list'] = [x.text.strip().split('\\n') for x in bs.findAll(True, {'class':'product__description'})]\n",
    "\n",
    "#df_drums['qtd_ratings'] = [x.text.strip() for x in bs.findAll(True, {'class':'fx-rating-stars__description'})]\n",
    "\n",
    "df_drums['price'] = [x.text.strip() for x in bs.findAll(True, {'class':'product__price-primary'})]\n",
    "\n",
    "\n",
    "#df_drums[df_drums['manufacturer'] == 'Gewa']\n",
    "\n",
    "\n",
    "\n"
   ]
  },
  {
   "cell_type": "code",
   "execution_count": 94,
   "id": "ancient-selling",
   "metadata": {},
   "outputs": [
    {
     "data": {
      "text/plain": [
       "35    [Roland TD-50KV2 V-Drum Set, Roland TD-50X Drum Module, 100 drum kits, Prismatic Sound Modelling-Technology, sampling of WAV-files from a SD-card, 10-t...]\n",
       "Name: features_list, dtype: object"
      ]
     },
     "execution_count": 94,
     "metadata": {},
     "output_type": "execute_result"
    }
   ],
   "source": [
    "df_drums['features_list'][df_drums['product'] == 'TD-50KV2 V-Drums Kit']\n",
    "\n"
   ]
  },
  {
   "cell_type": "code",
   "execution_count": null,
   "id": "secure-alabama",
   "metadata": {},
   "outputs": [],
   "source": []
  }
 ],
 "metadata": {
  "kernelspec": {
   "display_name": "Python 3",
   "language": "python",
   "name": "python3"
  },
  "language_info": {
   "codemirror_mode": {
    "name": "ipython",
    "version": 3
   },
   "file_extension": ".py",
   "mimetype": "text/x-python",
   "name": "python",
   "nbconvert_exporter": "python",
   "pygments_lexer": "ipython3",
   "version": "3.9.2"
  }
 },
 "nbformat": 4,
 "nbformat_minor": 5
}
