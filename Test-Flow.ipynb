{
 "cells": [
  {
   "cell_type": "code",
   "execution_count": 4,
   "id": "restricted-delicious",
   "metadata": {},
   "outputs": [],
   "source": [
    "\n",
    "import re\n",
    "\n",
    "import apache_beam as beam\n",
    "from apache_beam.io import ReadFromText\n",
    "from apache_beam.io import WriteToText\n",
    "from apache_beam.options.pipeline_options import PipelineOptions\n",
    "from apache_beam.options.pipeline_options import SetupOptions\n"
   ]
  },
  {
   "cell_type": "code",
   "execution_count": 3,
   "id": "competent-inside",
   "metadata": {},
   "outputs": [],
   "source": [
    "import tensorflow as tf"
   ]
  },
  {
   "cell_type": "code",
   "execution_count": 3,
   "id": "cordless-reference",
   "metadata": {},
   "outputs": [],
   "source": [
    "input_file = \"data/kinglear.txt\"\n",
    "output_file = \"data/kinglear_output.txt\""
   ]
  },
  {
   "cell_type": "code",
   "execution_count": 4,
   "id": "statutory-gauge",
   "metadata": {},
   "outputs": [
    {
     "data": {
      "application/javascript": [
       "\n",
       "        if (typeof window.interactive_beam_jquery == 'undefined') {\n",
       "          var jqueryScript = document.createElement('script');\n",
       "          jqueryScript.src = 'https://code.jquery.com/jquery-3.4.1.slim.min.js';\n",
       "          jqueryScript.type = 'text/javascript';\n",
       "          jqueryScript.onload = function() {\n",
       "            var datatableScript = document.createElement('script');\n",
       "            datatableScript.src = 'https://cdn.datatables.net/1.10.20/js/jquery.dataTables.min.js';\n",
       "            datatableScript.type = 'text/javascript';\n",
       "            datatableScript.onload = function() {\n",
       "              window.interactive_beam_jquery = jQuery.noConflict(true);\n",
       "              window.interactive_beam_jquery(document).ready(function($){\n",
       "                \n",
       "              });\n",
       "            }\n",
       "            document.head.appendChild(datatableScript);\n",
       "          };\n",
       "          document.head.appendChild(jqueryScript);\n",
       "        } else {\n",
       "          window.interactive_beam_jquery(document).ready(function($){\n",
       "            \n",
       "          });\n",
       "        }"
      ]
     },
     "metadata": {},
     "output_type": "display_data"
    },
    {
     "name": "stderr",
     "output_type": "stream",
     "text": [
      "WARNING:apache_beam.options.pipeline_options:Discarding unparseable args: ['-f', '/home/fredsena/.local/share/jupyter/runtime/kernel-800dfb5a-21c9-4f74-9c10-04c61ac795d6.json']\n",
      "WARNING:root:Make sure that locally built Python SDK docker image has Python 3.8 interpreter.\n",
      "WARNING:apache_beam.io.filebasedsink:Deleting 1 existing files in target path matching: -*-of-%(num_shards)05d\n"
     ]
    }
   ],
   "source": [
    "pipeline_options = PipelineOptions()\n",
    "# pipeline_options.view_as(SetupOptions).save_main_session = True\n",
    "\n",
    "with beam.Pipeline(options=pipeline_options) as p: \n",
    "\n",
    "    # Read the text file[pattern] into a PCollection.\n",
    "    lines = p | ReadFromText(input_file)\n",
    "\n",
    "    # Count the occurrences of each word.\n",
    "    counts = (\n",
    "        lines\n",
    "        | 'Split' >> (beam.FlatMap(lambda x: re.findall(r'[A-Za-z\\']+', x)))\n",
    "                      # .with_output_types(unicode))\n",
    "        | 'PairWithOne' >> beam.Map(lambda x: (x, 1))\n",
    "        | 'GroupAndSum' >> beam.CombinePerKey(sum))\n",
    "\n",
    "    # Format the counts into a PCollection of strings.\n",
    "    def format_result(word_count):\n",
    "        (word, count) = word_count\n",
    "        return '%s: %s' % (word, count)\n",
    "\n",
    "    output = counts | 'Format' >> beam.Map(format_result)\n",
    "\n",
    "    # Write the output using a \"Write\" transform that has side effects.\n",
    "    output | WriteToText(output_file)"
   ]
  },
  {
   "cell_type": "code",
   "execution_count": 5,
   "id": "outdoor-idaho",
   "metadata": {},
   "outputs": [
    {
     "name": "stderr",
     "output_type": "stream",
     "text": [
      "WARNING:root:Make sure that locally built Python SDK docker image has Python 3.8 interpreter.\n"
     ]
    }
   ],
   "source": [
    "from apache_beam.testing.util_test import TestPipeline\n",
    "\n",
    "from apache_beam.testing.util import assert_that\n",
    "from apache_beam.testing.util import equal_to\n",
    "\n",
    "with TestPipeline() as p:\n",
    "  assert_that(p | beam.Create([1, 2, 3]), equal_to([1, 2, 3]))"
   ]
  },
  {
   "cell_type": "code",
   "execution_count": 7,
   "id": "biblical-settle",
   "metadata": {},
   "outputs": [],
   "source": [
    "# Our input data, which will make up the initial PCollection.\n",
    "WORDS = [\n",
    "  \"hi\", \"there\", \"hi\", \"hi\", \"sue\", \"bob\",\n",
    "  \"hi\", \"sue\", \"\", \"\", \"ZOW\", \"bob\", \"\"\n",
    "]\n",
    "\n",
    "# Our output data, which is the expected data that the final PCollection must match.\n",
    "EXPECTED_COUNTS = [\"hi: 5\", \"there: 1\", \"sue: 2\", \"bob: 2\"]\n"
   ]
  },
  {
   "cell_type": "code",
   "execution_count": 6,
   "id": "controlled-kingston",
   "metadata": {},
   "outputs": [
    {
     "name": "stdout",
     "output_type": "stream",
     "text": [
      "3.8.2\n"
     ]
    }
   ],
   "source": [
    "from platform import python_version\n",
    "\n",
    "print(python_version())"
   ]
  },
  {
   "cell_type": "code",
   "execution_count": null,
   "id": "complimentary-wesley",
   "metadata": {},
   "outputs": [],
   "source": []
  }
 ],
 "metadata": {
  "kernelspec": {
   "display_name": "Python 3",
   "language": "python",
   "name": "python3"
  },
  "language_info": {
   "codemirror_mode": {
    "name": "ipython",
    "version": 3
   },
   "file_extension": ".py",
   "mimetype": "text/x-python",
   "name": "python",
   "nbconvert_exporter": "python",
   "pygments_lexer": "ipython3",
   "version": "3.9.2"
  }
 },
 "nbformat": 4,
 "nbformat_minor": 5
}
